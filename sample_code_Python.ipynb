{
 "cells": [
  {
   "cell_type": "code",
   "execution_count": 1,
   "id": "based-divorce",
   "metadata": {},
   "outputs": [],
   "source": [
    "### Assignment for Machine Learning for Finance"
   ]
  },
  {
   "cell_type": "markdown",
   "id": "greek-consumer",
   "metadata": {},
   "source": [
    "# `Question1`\n",
    "\n",
    "- Insert a column in the data set where the entries are 1 if the stock outperforms SPY in the earnings period and -1 if it underperforms or has the same return."
   ]
  },
  {
   "cell_type": "code",
   "execution_count": 6,
   "id": "guided-nickel",
   "metadata": {},
   "outputs": [],
   "source": [
    "import pandas as pd\n",
    "import numpy as np\n",
    "import matplotlib.pyplot as plt\n",
    "%matplotlib inline\n",
    "from sklearn.metrics import accuracy_score, confusion_matrix\n",
    "from sklearn.tree import DecisionTreeClassifier\n",
    "from sklearn.ensemble import BaggingClassifier\n",
    "pd.set_option('use_inf_as_na', True)\n",
    "from collections import Counter"
   ]
  },
  {
   "cell_type": "code",
   "execution_count": 7,
   "id": "incredible-royalty",
   "metadata": {},
   "outputs": [],
   "source": [
    "raw_data = pd.read_pickle(\"dataset.pkl\")"
   ]
  },
  {
   "cell_type": "code",
   "execution_count": 8,
   "id": "banner-remainder",
   "metadata": {
    "ExecuteTime": {
     "end_time": "2020-01-27T20:44:27.724385Z",
     "start_time": "2020-01-27T20:44:27.133097Z"
    }
   },
   "outputs": [],
   "source": [
    "data = raw_data[raw_data['market_cap'] > 1000.0]"
   ]
  },
  {
   "cell_type": "code",
   "execution_count": 9,
   "id": "through-joyce",
   "metadata": {
    "ExecuteTime": {
     "end_time": "2020-01-27T20:44:31.762862Z",
     "start_time": "2020-01-27T20:44:31.259862Z"
    }
   },
   "outputs": [],
   "source": [
    "data = data.copy()\n",
    "data.fillna(0.0,inplace=True)"
   ]
  },
  {
   "cell_type": "code",
   "execution_count": 10,
   "id": "average-horizontal",
   "metadata": {},
   "outputs": [],
   "source": [
    "data['rel_performance'] = \\\n",
    "data['pred_rel_return'].apply(lambda x: 1 if x > 0 else -1)"
   ]
  },
  {
   "cell_type": "code",
   "execution_count": 11,
   "id": "informed-target",
   "metadata": {},
   "outputs": [
    {
     "data": {
      "text/html": [
       "<div>\n",
       "<style scoped>\n",
       "    .dataframe tbody tr th:only-of-type {\n",
       "        vertical-align: middle;\n",
       "    }\n",
       "\n",
       "    .dataframe tbody tr th {\n",
       "        vertical-align: top;\n",
       "    }\n",
       "\n",
       "    .dataframe thead th {\n",
       "        text-align: right;\n",
       "    }\n",
       "</style>\n",
       "<table border=\"1\" class=\"dataframe\">\n",
       "  <thead>\n",
       "    <tr style=\"text-align: right;\">\n",
       "      <th></th>\n",
       "      <th>ticker</th>\n",
       "      <th>actq</th>\n",
       "      <th>apq</th>\n",
       "      <th>atq</th>\n",
       "      <th>ceqq</th>\n",
       "      <th>cheq</th>\n",
       "      <th>cogsq</th>\n",
       "      <th>csh12q</th>\n",
       "      <th>cshfdq</th>\n",
       "      <th>cshiq</th>\n",
       "      <th>...</th>\n",
       "      <th>sector_code_817.0</th>\n",
       "      <th>sector_code_822.0</th>\n",
       "      <th>sector_code_823.0</th>\n",
       "      <th>sector_code_825.0</th>\n",
       "      <th>sector_code_830.0</th>\n",
       "      <th>sector_code_835.0</th>\n",
       "      <th>sector_code_840.0</th>\n",
       "      <th>sector_code_845.0</th>\n",
       "      <th>sector_code_850.0</th>\n",
       "      <th>rel_performance</th>\n",
       "    </tr>\n",
       "    <tr>\n",
       "      <th>date</th>\n",
       "      <th></th>\n",
       "      <th></th>\n",
       "      <th></th>\n",
       "      <th></th>\n",
       "      <th></th>\n",
       "      <th></th>\n",
       "      <th></th>\n",
       "      <th></th>\n",
       "      <th></th>\n",
       "      <th></th>\n",
       "      <th></th>\n",
       "      <th></th>\n",
       "      <th></th>\n",
       "      <th></th>\n",
       "      <th></th>\n",
       "      <th></th>\n",
       "      <th></th>\n",
       "      <th></th>\n",
       "      <th></th>\n",
       "      <th></th>\n",
       "      <th></th>\n",
       "    </tr>\n",
       "  </thead>\n",
       "  <tbody>\n",
       "    <tr>\n",
       "      <th>2000-02-09</th>\n",
       "      <td>CSCO</td>\n",
       "      <td>7722.000</td>\n",
       "      <td>482.000</td>\n",
       "      <td>21391.000</td>\n",
       "      <td>16523.000</td>\n",
       "      <td>3968.000</td>\n",
       "      <td>1422.000</td>\n",
       "      <td>3374.1250</td>\n",
       "      <td>3648.000</td>\n",
       "      <td>3445.000</td>\n",
       "      <td>...</td>\n",
       "      <td>0</td>\n",
       "      <td>0</td>\n",
       "      <td>0</td>\n",
       "      <td>0</td>\n",
       "      <td>0</td>\n",
       "      <td>0</td>\n",
       "      <td>0</td>\n",
       "      <td>0</td>\n",
       "      <td>0</td>\n",
       "      <td>-1</td>\n",
       "    </tr>\n",
       "    <tr>\n",
       "      <th>2000-02-09</th>\n",
       "      <td>ROP</td>\n",
       "      <td>172.725</td>\n",
       "      <td>19.662</td>\n",
       "      <td>474.649</td>\n",
       "      <td>239.432</td>\n",
       "      <td>3.198</td>\n",
       "      <td>47.634</td>\n",
       "      <td>30.2688</td>\n",
       "      <td>31.217</td>\n",
       "      <td>0.000</td>\n",
       "      <td>...</td>\n",
       "      <td>0</td>\n",
       "      <td>0</td>\n",
       "      <td>0</td>\n",
       "      <td>0</td>\n",
       "      <td>0</td>\n",
       "      <td>0</td>\n",
       "      <td>0</td>\n",
       "      <td>0</td>\n",
       "      <td>0</td>\n",
       "      <td>1</td>\n",
       "    </tr>\n",
       "    <tr>\n",
       "      <th>2000-02-10</th>\n",
       "      <td>CMOS</td>\n",
       "      <td>240.767</td>\n",
       "      <td>27.044</td>\n",
       "      <td>376.536</td>\n",
       "      <td>209.411</td>\n",
       "      <td>68.625</td>\n",
       "      <td>43.023</td>\n",
       "      <td>21.4360</td>\n",
       "      <td>23.753</td>\n",
       "      <td>0.000</td>\n",
       "      <td>...</td>\n",
       "      <td>0</td>\n",
       "      <td>0</td>\n",
       "      <td>0</td>\n",
       "      <td>0</td>\n",
       "      <td>0</td>\n",
       "      <td>0</td>\n",
       "      <td>0</td>\n",
       "      <td>0</td>\n",
       "      <td>0</td>\n",
       "      <td>1</td>\n",
       "    </tr>\n",
       "    <tr>\n",
       "      <th>2000-02-11</th>\n",
       "      <td>DELL</td>\n",
       "      <td>7681.000</td>\n",
       "      <td>3538.000</td>\n",
       "      <td>11471.000</td>\n",
       "      <td>5308.000</td>\n",
       "      <td>4132.000</td>\n",
       "      <td>5452.000</td>\n",
       "      <td>2536.0000</td>\n",
       "      <td>2731.000</td>\n",
       "      <td>2575.000</td>\n",
       "      <td>...</td>\n",
       "      <td>0</td>\n",
       "      <td>0</td>\n",
       "      <td>0</td>\n",
       "      <td>0</td>\n",
       "      <td>0</td>\n",
       "      <td>0</td>\n",
       "      <td>0</td>\n",
       "      <td>0</td>\n",
       "      <td>0</td>\n",
       "      <td>1</td>\n",
       "    </tr>\n",
       "    <tr>\n",
       "      <th>2000-02-15</th>\n",
       "      <td>VAL</td>\n",
       "      <td>507.082</td>\n",
       "      <td>139.497</td>\n",
       "      <td>1094.080</td>\n",
       "      <td>402.382</td>\n",
       "      <td>27.605</td>\n",
       "      <td>221.366</td>\n",
       "      <td>43.1858</td>\n",
       "      <td>43.687</td>\n",
       "      <td>53.321</td>\n",
       "      <td>...</td>\n",
       "      <td>0</td>\n",
       "      <td>0</td>\n",
       "      <td>0</td>\n",
       "      <td>0</td>\n",
       "      <td>0</td>\n",
       "      <td>0</td>\n",
       "      <td>0</td>\n",
       "      <td>0</td>\n",
       "      <td>0</td>\n",
       "      <td>1</td>\n",
       "    </tr>\n",
       "  </tbody>\n",
       "</table>\n",
       "<p>5 rows × 733 columns</p>\n",
       "</div>"
      ],
      "text/plain": [
       "           ticker      actq       apq        atq       ceqq      cheq  \\\n",
       "date                                                                    \n",
       "2000-02-09   CSCO  7722.000   482.000  21391.000  16523.000  3968.000   \n",
       "2000-02-09    ROP   172.725    19.662    474.649    239.432     3.198   \n",
       "2000-02-10   CMOS   240.767    27.044    376.536    209.411    68.625   \n",
       "2000-02-11   DELL  7681.000  3538.000  11471.000   5308.000  4132.000   \n",
       "2000-02-15    VAL   507.082   139.497   1094.080    402.382    27.605   \n",
       "\n",
       "               cogsq     csh12q    cshfdq     cshiq  ...  sector_code_817.0  \\\n",
       "date                                                 ...                      \n",
       "2000-02-09  1422.000  3374.1250  3648.000  3445.000  ...                  0   \n",
       "2000-02-09    47.634    30.2688    31.217     0.000  ...                  0   \n",
       "2000-02-10    43.023    21.4360    23.753     0.000  ...                  0   \n",
       "2000-02-11  5452.000  2536.0000  2731.000  2575.000  ...                  0   \n",
       "2000-02-15   221.366    43.1858    43.687    53.321  ...                  0   \n",
       "\n",
       "            sector_code_822.0  sector_code_823.0  sector_code_825.0  \\\n",
       "date                                                                  \n",
       "2000-02-09                  0                  0                  0   \n",
       "2000-02-09                  0                  0                  0   \n",
       "2000-02-10                  0                  0                  0   \n",
       "2000-02-11                  0                  0                  0   \n",
       "2000-02-15                  0                  0                  0   \n",
       "\n",
       "            sector_code_830.0  sector_code_835.0  sector_code_840.0  \\\n",
       "date                                                                  \n",
       "2000-02-09                  0                  0                  0   \n",
       "2000-02-09                  0                  0                  0   \n",
       "2000-02-10                  0                  0                  0   \n",
       "2000-02-11                  0                  0                  0   \n",
       "2000-02-15                  0                  0                  0   \n",
       "\n",
       "            sector_code_845.0  sector_code_850.0  rel_performance  \n",
       "date                                                               \n",
       "2000-02-09                  0                  0               -1  \n",
       "2000-02-09                  0                  0                1  \n",
       "2000-02-10                  0                  0                1  \n",
       "2000-02-11                  0                  0                1  \n",
       "2000-02-15                  0                  0                1  \n",
       "\n",
       "[5 rows x 733 columns]"
      ]
     },
     "execution_count": 11,
     "metadata": {},
     "output_type": "execute_result"
    }
   ],
   "source": [
    "data.reset_index(inplace=True,)\n",
    "data.set_index('date',inplace=True)\n",
    "data.head()"
   ]
  },
  {
   "cell_type": "markdown",
   "id": "related-camera",
   "metadata": {},
   "source": [
    "- Use the period 2007-2010 to train the model on the data set constructed above and construct a set of features that optimizes the profit of the long-short strategy on the quarter 2009-07-30 – 2009-10-30"
   ]
  },
  {
   "cell_type": "code",
   "execution_count": 12,
   "id": "figured-riding",
   "metadata": {},
   "outputs": [],
   "source": [
    "df_1 = data.loc['2007-01-01':'2010-12-31']\n",
    "df_2 = data.loc['2009-07-30':'2009-10-30']"
   ]
  },
  {
   "cell_type": "code",
   "execution_count": 267,
   "id": "affiliated-diesel",
   "metadata": {},
   "outputs": [],
   "source": [
    "train = df_1.reset_index().drop(['ticker','date',\n",
    "                                   'next_period_return',\n",
    "                                   'spy_next_period_return',\n",
    "                                   'rel_performance','pred_rel_return',\n",
    "                                  'return', 'cum_ret', 'spy_cum_ret'],axis=1)\n",
    "test = df_2.reset_index().drop(['ticker','date',\n",
    "                                   'next_period_return',\n",
    "                                   'spy_next_period_return',\n",
    "                                   'rel_performance','pred_rel_return',\n",
    "                                  'return', 'cum_ret', 'spy_cum_ret'],axis=1)"
   ]
  },
  {
   "cell_type": "code",
   "execution_count": 14,
   "id": "parliamentary-software",
   "metadata": {},
   "outputs": [],
   "source": [
    "train_stock_returns = df_1['next_period_return']\n",
    "test_stock_returns = df_2['next_period_return']\n",
    "y_1 = df_1['rel_performance']\n",
    "y_test = df_2['rel_performance']\n",
    "y_1 = y_1.values\n",
    "y_test = y_test.values"
   ]
  },
  {
   "cell_type": "markdown",
   "id": "north-contest",
   "metadata": {},
   "source": [
    "- Create a BaggingClassifier with a DecisionTreeClassifier with max_level = 6 and n_estimators = 40 and the new column as labels."
   ]
  },
  {
   "cell_type": "code",
   "execution_count": 15,
   "id": "champion-priest",
   "metadata": {},
   "outputs": [],
   "source": [
    "t_clf = DecisionTreeClassifier(max_depth=6, min_samples_leaf=800)"
   ]
  },
  {
   "cell_type": "code",
   "execution_count": 16,
   "id": "motivated-durham",
   "metadata": {},
   "outputs": [],
   "source": [
    "bg_clf = BaggingClassifier(t_clf,n_estimators=40,oob_score=True,random_state=123,n_jobs=1)"
   ]
  },
  {
   "cell_type": "code",
   "execution_count": 17,
   "id": "technological-disability",
   "metadata": {},
   "outputs": [
    {
     "data": {
      "text/plain": [
       "BaggingClassifier(base_estimator=DecisionTreeClassifier(class_weight=None, criterion='gini', max_depth=6,\n",
       "            max_features=None, max_leaf_nodes=None,\n",
       "            min_impurity_decrease=0.0, min_impurity_split=None,\n",
       "            min_samples_leaf=800, min_samples_split=2,\n",
       "            min_weight_fraction_leaf=0.0, presort=False, random_state=None,\n",
       "            splitter='best'),\n",
       "         bootstrap=True, bootstrap_features=False, max_features=1.0,\n",
       "         max_samples=1.0, n_estimators=40, n_jobs=1, oob_score=True,\n",
       "         random_state=123, verbose=0, warm_start=False)"
      ]
     },
     "execution_count": 17,
     "metadata": {},
     "output_type": "execute_result"
    }
   ],
   "source": [
    "bg_clf.fit(train,y_1)"
   ]
  },
  {
   "cell_type": "code",
   "execution_count": 18,
   "id": "improved-workstation",
   "metadata": {
    "ExecuteTime": {
     "end_time": "2020-01-27T20:45:50.051286Z",
     "start_time": "2020-01-27T20:45:44.475785Z"
    }
   },
   "outputs": [
    {
     "data": {
      "text/plain": [
       "0.570032723417984"
      ]
     },
     "execution_count": 18,
     "metadata": {},
     "output_type": "execute_result"
    }
   ],
   "source": [
    "bg_clf.score(train,y_1)"
   ]
  },
  {
   "cell_type": "code",
   "execution_count": 19,
   "id": "sapphire-bible",
   "metadata": {
    "ExecuteTime": {
     "end_time": "2020-01-27T20:45:50.737425Z",
     "start_time": "2020-01-27T20:45:50.054287Z"
    }
   },
   "outputs": [
    {
     "data": {
      "text/plain": [
       "0.5601948503827419"
      ]
     },
     "execution_count": 19,
     "metadata": {},
     "output_type": "execute_result"
    }
   ],
   "source": [
    "bg_clf.score(test,y_test)"
   ]
  },
  {
   "cell_type": "code",
   "execution_count": 20,
   "id": "based-examination",
   "metadata": {
    "ExecuteTime": {
     "end_time": "2020-01-27T20:45:58.284294Z",
     "start_time": "2020-01-27T20:45:57.714295Z"
    }
   },
   "outputs": [],
   "source": [
    "pred_valid = bg_clf.predict(test)"
   ]
  },
  {
   "cell_type": "code",
   "execution_count": 21,
   "id": "stunning-wilderness",
   "metadata": {
    "ExecuteTime": {
     "end_time": "2020-01-27T20:45:59.358307Z",
     "start_time": "2020-01-27T20:45:59.352309Z"
    }
   },
   "outputs": [
    {
     "data": {
      "text/plain": [
       "Counter({1: 1335, -1: 102})"
      ]
     },
     "execution_count": 21,
     "metadata": {},
     "output_type": "execute_result"
    }
   ],
   "source": [
    "Counter(pred_valid)"
   ]
  },
  {
   "cell_type": "code",
   "execution_count": 22,
   "id": "spoken-nigeria",
   "metadata": {
    "ExecuteTime": {
     "end_time": "2020-01-27T20:46:01.132418Z",
     "start_time": "2020-01-27T20:46:01.125420Z"
    }
   },
   "outputs": [
    {
     "data": {
      "text/plain": [
       "Counter({-1: 642, 1: 795})"
      ]
     },
     "execution_count": 22,
     "metadata": {},
     "output_type": "execute_result"
    }
   ],
   "source": [
    "Counter(y_test)"
   ]
  },
  {
   "cell_type": "code",
   "execution_count": 23,
   "id": "pressed-recall",
   "metadata": {
    "ExecuteTime": {
     "end_time": "2020-01-28T02:06:43.608082Z",
     "start_time": "2020-01-28T02:06:43.602137Z"
    }
   },
   "outputs": [
    {
     "data": {
      "text/plain": [
       "0.558510393141909"
      ]
     },
     "execution_count": 23,
     "metadata": {},
     "output_type": "execute_result"
    }
   ],
   "source": [
    "bg_clf.oob_score_"
   ]
  },
  {
   "cell_type": "code",
   "execution_count": 24,
   "id": "distant-antique",
   "metadata": {
    "ExecuteTime": {
     "end_time": "2020-01-27T20:46:05.714986Z",
     "start_time": "2020-01-27T20:46:05.705987Z"
    }
   },
   "outputs": [
    {
     "data": {
      "text/plain": [
       "array([[ 56, 586],\n",
       "       [ 46, 749]])"
      ]
     },
     "execution_count": 24,
     "metadata": {},
     "output_type": "execute_result"
    }
   ],
   "source": [
    "confusion_matrix(y_test,pred_valid)"
   ]
  },
  {
   "cell_type": "markdown",
   "id": "genetic-found",
   "metadata": {},
   "source": [
    "### Feature importance"
   ]
  },
  {
   "cell_type": "code",
   "execution_count": 25,
   "id": "documentary-break",
   "metadata": {},
   "outputs": [],
   "source": [
    "def baggingtree_feat_importance(m, df):\n",
    "    feature_importances = []\n",
    "    for est in m.estimators_:\n",
    "        fi = est.feature_importances_\n",
    "        feature_importances.append(fi)\n",
    "    feature_importances = np.array(feature_importances)\n",
    "        \n",
    "    return pd.DataFrame({'cols':df.columns, 'feat_imp':np.mean(feature_importances,axis=0)}\n",
    "                       ).sort_values('feat_imp', ascending=False)\n",
    "\n",
    "def plot_fi(fi): return fi.plot('cols', 'feat_imp', 'barh', figsize=(12,7), legend=False)"
   ]
  },
  {
   "cell_type": "code",
   "execution_count": 26,
   "id": "acute-drama",
   "metadata": {},
   "outputs": [
    {
     "data": {
      "text/html": [
       "<div>\n",
       "<style scoped>\n",
       "    .dataframe tbody tr th:only-of-type {\n",
       "        vertical-align: middle;\n",
       "    }\n",
       "\n",
       "    .dataframe tbody tr th {\n",
       "        vertical-align: top;\n",
       "    }\n",
       "\n",
       "    .dataframe thead th {\n",
       "        text-align: right;\n",
       "    }\n",
       "</style>\n",
       "<table border=\"1\" class=\"dataframe\">\n",
       "  <thead>\n",
       "    <tr style=\"text-align: right;\">\n",
       "      <th></th>\n",
       "      <th>cols</th>\n",
       "      <th>feat_imp</th>\n",
       "    </tr>\n",
       "  </thead>\n",
       "  <tbody>\n",
       "    <tr>\n",
       "      <th>105</th>\n",
       "      <td>cf_yield</td>\n",
       "      <td>0.198794</td>\n",
       "    </tr>\n",
       "    <tr>\n",
       "      <th>180</th>\n",
       "      <td>fqtr_2</td>\n",
       "      <td>0.099089</td>\n",
       "    </tr>\n",
       "    <tr>\n",
       "      <th>95</th>\n",
       "      <td>evmq</td>\n",
       "      <td>0.044305</td>\n",
       "    </tr>\n",
       "    <tr>\n",
       "      <th>55</th>\n",
       "      <td>teqq</td>\n",
       "      <td>0.036931</td>\n",
       "    </tr>\n",
       "    <tr>\n",
       "      <th>147</th>\n",
       "      <td>debt_ebitdaq</td>\n",
       "      <td>0.035963</td>\n",
       "    </tr>\n",
       "    <tr>\n",
       "      <th>152</th>\n",
       "      <td>ocf_lctq</td>\n",
       "      <td>0.029101</td>\n",
       "    </tr>\n",
       "    <tr>\n",
       "      <th>175</th>\n",
       "      <td>sale_nwcq</td>\n",
       "      <td>0.023978</td>\n",
       "    </tr>\n",
       "    <tr>\n",
       "      <th>170</th>\n",
       "      <td>at_turnq</td>\n",
       "      <td>0.023161</td>\n",
       "    </tr>\n",
       "    <tr>\n",
       "      <th>71</th>\n",
       "      <td>dpcy</td>\n",
       "      <td>0.017037</td>\n",
       "    </tr>\n",
       "    <tr>\n",
       "      <th>118</th>\n",
       "      <td>roaq</td>\n",
       "      <td>0.016268</td>\n",
       "    </tr>\n",
       "    <tr>\n",
       "      <th>87</th>\n",
       "      <td>prccq</td>\n",
       "      <td>0.015729</td>\n",
       "    </tr>\n",
       "    <tr>\n",
       "      <th>162</th>\n",
       "      <td>de_ratioq</td>\n",
       "      <td>0.015320</td>\n",
       "    </tr>\n",
       "    <tr>\n",
       "      <th>120</th>\n",
       "      <td>efftaxq</td>\n",
       "      <td>0.014384</td>\n",
       "    </tr>\n",
       "    <tr>\n",
       "      <th>143</th>\n",
       "      <td>cash_ltq</td>\n",
       "      <td>0.014225</td>\n",
       "    </tr>\n",
       "    <tr>\n",
       "      <th>156</th>\n",
       "      <td>fcf_yield</td>\n",
       "      <td>0.011200</td>\n",
       "    </tr>\n",
       "    <tr>\n",
       "      <th>145</th>\n",
       "      <td>rect_actq</td>\n",
       "      <td>0.010712</td>\n",
       "    </tr>\n",
       "  </tbody>\n",
       "</table>\n",
       "</div>"
      ],
      "text/plain": [
       "             cols  feat_imp\n",
       "105      cf_yield  0.198794\n",
       "180        fqtr_2  0.099089\n",
       "95           evmq  0.044305\n",
       "55           teqq  0.036931\n",
       "147  debt_ebitdaq  0.035963\n",
       "152      ocf_lctq  0.029101\n",
       "175     sale_nwcq  0.023978\n",
       "170      at_turnq  0.023161\n",
       "71           dpcy  0.017037\n",
       "118          roaq  0.016268\n",
       "87          prccq  0.015729\n",
       "162     de_ratioq  0.015320\n",
       "120       efftaxq  0.014384\n",
       "143      cash_ltq  0.014225\n",
       "156     fcf_yield  0.011200\n",
       "145     rect_actq  0.010712"
      ]
     },
     "execution_count": 26,
     "metadata": {},
     "output_type": "execute_result"
    }
   ],
   "source": [
    "fi = baggingtree_feat_importance(bg_clf,train)\n",
    "features = fi[(fi['feat_imp'] > 0.01)]\n",
    "features"
   ]
  },
  {
   "cell_type": "code",
   "execution_count": 27,
   "id": "sublime-means",
   "metadata": {},
   "outputs": [
    {
     "data": {
      "image/png": "[encoded data removed]",
      "text/plain": [
       "<Figure size 864x504 with 1 Axes>"
      ]
     },
     "metadata": {
      "needs_background": "light"
     },
     "output_type": "display_data"
    }
   ],
   "source": [
    "plot_fi(features);"
   ]
  },
  {
   "cell_type": "code",
   "execution_count": 28,
   "id": "numerical-reduction",
   "metadata": {},
   "outputs": [],
   "source": [
    "train = train[features['cols'].values]\n",
    "test = test[features['cols'].values]"
   ]
  },
  {
   "cell_type": "code",
   "execution_count": 29,
   "id": "dutch-insert",
   "metadata": {},
   "outputs": [
    {
     "data": {
      "text/plain": [
       "0.5717380282988431"
      ]
     },
     "execution_count": 29,
     "metadata": {},
     "output_type": "execute_result"
    }
   ],
   "source": [
    "bg_clf.fit(train,y_1)\n",
    "bg_clf.score(train,y_1)"
   ]
  },
  {
   "cell_type": "code",
   "execution_count": 30,
   "id": "multiple-arbitration",
   "metadata": {
    "ExecuteTime": {
     "end_time": "2020-01-27T20:45:50.737425Z",
     "start_time": "2020-01-27T20:45:50.054287Z"
    }
   },
   "outputs": [
    {
     "data": {
      "text/plain": [
       "0.5629784272790536"
      ]
     },
     "execution_count": 30,
     "metadata": {},
     "output_type": "execute_result"
    }
   ],
   "source": [
    "bg_clf.score(test,y_test)"
   ]
  },
  {
   "cell_type": "code",
   "execution_count": 31,
   "id": "infectious-sleep",
   "metadata": {
    "ExecuteTime": {
     "end_time": "2020-01-27T20:45:58.284294Z",
     "start_time": "2020-01-27T20:45:57.714295Z"
    }
   },
   "outputs": [],
   "source": [
    "pred_valid = bg_clf.predict(test)"
   ]
  },
  {
   "cell_type": "code",
   "execution_count": 32,
   "id": "capable-violin",
   "metadata": {
    "ExecuteTime": {
     "end_time": "2020-01-28T02:06:43.608082Z",
     "start_time": "2020-01-28T02:06:43.602137Z"
    }
   },
   "outputs": [
    {
     "data": {
      "text/plain": [
       "0.5611374844448541"
      ]
     },
     "execution_count": 32,
     "metadata": {},
     "output_type": "execute_result"
    }
   ],
   "source": [
    "bg_clf.oob_score_"
   ]
  },
  {
   "cell_type": "markdown",
   "id": "arranged-aircraft",
   "metadata": {},
   "source": [
    "### Profit importance"
   ]
  },
  {
   "cell_type": "code",
   "execution_count": 33,
   "id": "entertaining-timing",
   "metadata": {},
   "outputs": [],
   "source": [
    "def profit_importance(t,df,rets):\n",
    "#     np.random.seed(123)\n",
    "    profit = []\n",
    "    for col in df.columns:\n",
    "        prof = []\n",
    "        for _ in range(20):\n",
    "            X = df.copy()\n",
    "            X[col] = np.random.permutation(df[col].values)\n",
    "            prediction = t.predict(X)\n",
    "            prof.append((prediction * rets).sum())\n",
    "        profit.append(np.mean(prof))\n",
    "    return profit\n",
    "\n",
    "def baggingtree_profit_importance(m, df,rets):\n",
    "    return pd.DataFrame({'cols':df.columns, 'pi_imp':profit_importance(m,df,rets)}\n",
    "                       ).sort_values('pi_imp', ascending=True)"
   ]
  },
  {
   "cell_type": "code",
   "execution_count": 36,
   "id": "demographic-ballet",
   "metadata": {},
   "outputs": [
    {
     "name": "stdout",
     "output_type": "stream",
     "text": [
      "CPU times: user 5 µs, sys: 1e+03 ns, total: 6 µs\n",
      "Wall time: 11.9 µs\n"
     ]
    },
    {
     "data": {
      "text/html": [
       "<div>\n",
       "<style scoped>\n",
       "    .dataframe tbody tr th:only-of-type {\n",
       "        vertical-align: middle;\n",
       "    }\n",
       "\n",
       "    .dataframe tbody tr th {\n",
       "        vertical-align: top;\n",
       "    }\n",
       "\n",
       "    .dataframe thead th {\n",
       "        text-align: right;\n",
       "    }\n",
       "</style>\n",
       "<table border=\"1\" class=\"dataframe\">\n",
       "  <thead>\n",
       "    <tr style=\"text-align: right;\">\n",
       "      <th></th>\n",
       "      <th>cols</th>\n",
       "      <th>pi_imp</th>\n",
       "    </tr>\n",
       "  </thead>\n",
       "  <tbody>\n",
       "    <tr>\n",
       "      <th>0</th>\n",
       "      <td>cf_yield</td>\n",
       "      <td>79.329185</td>\n",
       "    </tr>\n",
       "    <tr>\n",
       "      <th>2</th>\n",
       "      <td>evmq</td>\n",
       "      <td>87.871212</td>\n",
       "    </tr>\n",
       "    <tr>\n",
       "      <th>1</th>\n",
       "      <td>fqtr_2</td>\n",
       "      <td>92.644468</td>\n",
       "    </tr>\n",
       "    <tr>\n",
       "      <th>13</th>\n",
       "      <td>cash_ltq</td>\n",
       "      <td>93.977599</td>\n",
       "    </tr>\n",
       "    <tr>\n",
       "      <th>6</th>\n",
       "      <td>sale_nwcq</td>\n",
       "      <td>94.526655</td>\n",
       "    </tr>\n",
       "    <tr>\n",
       "      <th>11</th>\n",
       "      <td>de_ratioq</td>\n",
       "      <td>95.755807</td>\n",
       "    </tr>\n",
       "    <tr>\n",
       "      <th>15</th>\n",
       "      <td>rect_actq</td>\n",
       "      <td>95.838136</td>\n",
       "    </tr>\n",
       "    <tr>\n",
       "      <th>7</th>\n",
       "      <td>at_turnq</td>\n",
       "      <td>95.955127</td>\n",
       "    </tr>\n",
       "    <tr>\n",
       "      <th>12</th>\n",
       "      <td>efftaxq</td>\n",
       "      <td>96.042094</td>\n",
       "    </tr>\n",
       "    <tr>\n",
       "      <th>10</th>\n",
       "      <td>prccq</td>\n",
       "      <td>96.266329</td>\n",
       "    </tr>\n",
       "    <tr>\n",
       "      <th>4</th>\n",
       "      <td>debt_ebitdaq</td>\n",
       "      <td>96.413909</td>\n",
       "    </tr>\n",
       "    <tr>\n",
       "      <th>9</th>\n",
       "      <td>roaq</td>\n",
       "      <td>96.468508</td>\n",
       "    </tr>\n",
       "    <tr>\n",
       "      <th>8</th>\n",
       "      <td>dpcy</td>\n",
       "      <td>96.754994</td>\n",
       "    </tr>\n",
       "    <tr>\n",
       "      <th>14</th>\n",
       "      <td>fcf_yield</td>\n",
       "      <td>96.920049</td>\n",
       "    </tr>\n",
       "    <tr>\n",
       "      <th>3</th>\n",
       "      <td>teqq</td>\n",
       "      <td>97.070612</td>\n",
       "    </tr>\n",
       "    <tr>\n",
       "      <th>5</th>\n",
       "      <td>ocf_lctq</td>\n",
       "      <td>98.928895</td>\n",
       "    </tr>\n",
       "  </tbody>\n",
       "</table>\n",
       "</div>"
      ],
      "text/plain": [
       "            cols     pi_imp\n",
       "0       cf_yield  79.329185\n",
       "2           evmq  87.871212\n",
       "1         fqtr_2  92.644468\n",
       "13      cash_ltq  93.977599\n",
       "6      sale_nwcq  94.526655\n",
       "11     de_ratioq  95.755807\n",
       "15     rect_actq  95.838136\n",
       "7       at_turnq  95.955127\n",
       "12       efftaxq  96.042094\n",
       "10         prccq  96.266329\n",
       "4   debt_ebitdaq  96.413909\n",
       "9           roaq  96.468508\n",
       "8           dpcy  96.754994\n",
       "14     fcf_yield  96.920049\n",
       "3           teqq  97.070612\n",
       "5       ocf_lctq  98.928895"
      ]
     },
     "execution_count": 36,
     "metadata": {},
     "output_type": "execute_result"
    }
   ],
   "source": [
    "%time \n",
    "pi = baggingtree_profit_importance(bg_clf,test,df_2['next_period_return'])\n",
    "pi"
   ]
  },
  {
   "cell_type": "code",
   "execution_count": 38,
   "id": "imperial-collectible",
   "metadata": {},
   "outputs": [
    {
     "name": "stdout",
     "output_type": "stream",
     "text": [
      "104.60446099999999\n",
      "102.80183699999998\n",
      "103.29585899999998\n",
      "69.690589\n",
      "67.91223300000001\n",
      "64.15843700000002\n",
      "63.83204300000001\n",
      "65.56598100000002\n",
      "66.83443500000001\n",
      "66.32736300000002\n",
      "64.28913300000002\n",
      "71.38144500000001\n",
      "92.507757\n",
      "90.21270899999996\n"
     ]
    }
   ],
   "source": [
    "profits = []\n",
    "\n",
    "feat=[]\n",
    "\n",
    "train1 = train.copy()\n",
    "test1 = test.copy()\n",
    "\n",
    "while len(train.columns)>1:\n",
    "    bg_clf.fit(train1,y_1)\n",
    "    pi = baggingtree_profit_importance(bg_clf,test1,y_test)\n",
    "\n",
    "    col_to_drop = pi[pi['pi_imp'] == pi['pi_imp'].max()]['cols'].iloc[0]\n",
    "    train1.drop(col_to_drop,axis=1,inplace=True)\n",
    "    test1.drop(col_to_drop,axis=1,inplace=True)\n",
    "    bg_clf.fit(train1,y_1)\n",
    "    \n",
    "    fi = baggingtree_feat_importance(bg_clf,train1)\n",
    "    features = fi[(fi['feat_imp'] > 0.00)]\n",
    "    train1 = train1[features['cols'].values]\n",
    "    test1 = test1[features['cols'].values]\n",
    "    bg_clf.fit(train1,y_1)\n",
    "    \n",
    "    pred_valid = bg_clf.predict(test1)\n",
    "    profits.append((pred_valid * df_2['next_period_return']).sum())\n",
    "    print((pred_valid * df_2['next_period_return']).sum())\n",
    "    feat.append(features['cols'].values) \n",
    "    \n"
   ]
  },
  {
   "cell_type": "code",
   "execution_count": 39,
   "id": "subjective-processing",
   "metadata": {},
   "outputs": [
    {
     "data": {
      "image/png": "[encoded data removed]",
      "text/plain": [
       "<Figure size 432x288 with 1 Axes>"
      ]
     },
     "metadata": {
      "needs_background": "light"
     },
     "output_type": "display_data"
    }
   ],
   "source": [
    "plt.plot(profits);"
   ]
  },
  {
   "cell_type": "code",
   "execution_count": 40,
   "id": "sublime-prophet",
   "metadata": {
    "ExecuteTime": {
     "end_time": "2020-01-28T02:31:40.816966Z",
     "start_time": "2020-01-28T02:31:40.813700Z"
    }
   },
   "outputs": [],
   "source": [
    "n = np.argmax(profits)\n",
    "optim_feats = feat[n]\n",
    "max_profits = profits[n]"
   ]
  },
  {
   "cell_type": "code",
   "execution_count": 41,
   "id": "colonial-cookbook",
   "metadata": {
    "ExecuteTime": {
     "end_time": "2020-01-28T02:31:42.549517Z",
     "start_time": "2020-01-28T02:31:42.544493Z"
    }
   },
   "outputs": [
    {
     "name": "stdout",
     "output_type": "stream",
     "text": [
      "104.60446099999999\n",
      "['fcf_yield' 'ocf_lctq' 'fqtr_2' 'teqq' 'rect_actq' 'at_turnq' 'prccq'\n",
      " 'dpcy' 'de_ratioq' 'evmq' 'efftaxq' 'roaq' 'sale_nwcq' 'cash_ltq']\n"
     ]
    }
   ],
   "source": [
    "print(max_profits)\n",
    "print(optim_feats)"
   ]
  },
  {
   "cell_type": "code",
   "execution_count": 45,
   "id": "brave-necessity",
   "metadata": {
    "ExecuteTime": {
     "end_time": "2020-01-28T02:33:56.360618Z",
     "start_time": "2020-01-28T02:33:55.193258Z"
    }
   },
   "outputs": [
    {
     "name": "stdout",
     "output_type": "stream",
     "text": [
      "0.5704014379868184\n",
      "0.5615866388308977\n"
     ]
    },
    {
     "data": {
      "text/plain": [
       "104.60446099999999"
      ]
     },
     "execution_count": 45,
     "metadata": {},
     "output_type": "execute_result"
    }
   ],
   "source": [
    "train_optim = train[optim_feats]\n",
    "test_optim = test[optim_feats]\n",
    "\n",
    "bg_clf.fit(train_optim,y_1)\n",
    "print(bg_clf.score(train_optim,y_1))\n",
    "pred_valid_tree = bg_clf.predict(test_optim)\n",
    "print(bg_clf.score(test_optim,y_test))\n",
    "(pred_valid_tree * df_2['next_period_return']).sum()"
   ]
  },
  {
   "cell_type": "code",
   "execution_count": null,
   "id": "productive-messaging",
   "metadata": {},
   "outputs": [],
   "source": []
  },
  {
   "cell_type": "markdown",
   "id": "phantom-calculation",
   "metadata": {},
   "source": [
    "### Backtest\n",
    "- Backtest the performance of the model with the optimal features over the period 2010 – 2018.\n",
    "---------------------------------"
   ]
  },
  {
   "cell_type": "code",
   "execution_count": 46,
   "id": "varied-highway",
   "metadata": {},
   "outputs": [],
   "source": [
    "from scipy.cluster import hierarchy as hc\n",
    "import scipy.stats"
   ]
  },
  {
   "cell_type": "code",
   "execution_count": 107,
   "id": "incoming-yahoo",
   "metadata": {},
   "outputs": [],
   "source": [
    "start_dates = [pd.to_datetime('2000-01-01') + pd.DateOffset(months = 3 * i) for i in range(35)]\n",
    "end_dates = [d + pd.DateOffset(months = 120) for d in start_dates]"
   ]
  },
  {
   "cell_type": "code",
   "execution_count": 108,
   "id": "loving-insight",
   "metadata": {},
   "outputs": [],
   "source": [
    "training_frames = [data.loc[d:d+pd.DateOffset(months = 36)] for d in start_dates]\n",
    "test_frames = [data.loc[d + pd.DateOffset(months=3):d+pd.DateOffset(months = 6)] for d in end_dates]"
   ]
  },
  {
   "cell_type": "code",
   "execution_count": 109,
   "id": "equipped-ensemble",
   "metadata": {},
   "outputs": [],
   "source": [
    "training_data = [d.reset_index().drop\n",
    "                                 (['ticker','date',\n",
    "                                   'next_period_return',\n",
    "                                   'spy_next_period_return',\n",
    "                                   'rel_performance','pred_rel_return',\n",
    "                                  'return', 'cum_ret', 'spy_cum_ret'],axis=1) for d in training_frames]\n"
   ]
  },
  {
   "cell_type": "code",
   "execution_count": 110,
   "id": "further-emperor",
   "metadata": {},
   "outputs": [],
   "source": [
    "test_data = [d.reset_index().drop(['ticker','date',\n",
    "                                   'next_period_return',\n",
    "                                   'spy_next_period_return',\n",
    "                                   'rel_performance','pred_rel_return',\n",
    "                                  'return', 'cum_ret', 'spy_cum_ret'],axis=1) for d in test_frames]"
   ]
  },
  {
   "cell_type": "code",
   "execution_count": 111,
   "id": "assisted-iraqi",
   "metadata": {},
   "outputs": [],
   "source": [
    "training_labels = [d['rel_performance'].values for d in training_frames]"
   ]
  },
  {
   "cell_type": "code",
   "execution_count": 112,
   "id": "alpha-world",
   "metadata": {},
   "outputs": [],
   "source": [
    "opt_training_data = [t[optim_feats] for t in training_data]\n",
    "opt_test_data = [v[optim_feats] for v in test_data]"
   ]
  },
  {
   "cell_type": "code",
   "execution_count": 113,
   "id": "adaptive-member",
   "metadata": {},
   "outputs": [
    {
     "data": {
      "text/plain": [
       "35"
      ]
     },
     "execution_count": 113,
     "metadata": {},
     "output_type": "execute_result"
    }
   ],
   "source": [
    "len(training_labels)"
   ]
  },
  {
   "cell_type": "code",
   "execution_count": 114,
   "id": "incredible-refrigerator",
   "metadata": {},
   "outputs": [
    {
     "name": "stdout",
     "output_type": "stream",
     "text": [
      "0\n",
      "1\n",
      "2\n",
      "3\n",
      "4\n",
      "5\n",
      "6\n",
      "7\n",
      "8\n",
      "9\n",
      "10\n",
      "11\n",
      "12\n",
      "13\n",
      "14\n",
      "15\n",
      "16\n",
      "17\n",
      "18\n",
      "19\n",
      "20\n",
      "21\n",
      "22\n",
      "23\n",
      "24\n",
      "25\n",
      "26\n",
      "27\n",
      "28\n",
      "29\n",
      "30\n",
      "31\n",
      "32\n",
      "33\n",
      "34\n"
     ]
    }
   ],
   "source": [
    "P_L = []\n",
    "x = [1]\n",
    "ret = []\n",
    "\n",
    "for i in range(len(training_labels)):\n",
    "        print(i)\n",
    "        bg_clf.fit(opt_training_data[i],training_labels[i])\n",
    "        pred_i = bg_clf.predict(opt_test_data[i])\n",
    "        profit_i = (pred_i * test_frames[i]['next_period_return']).sum()\n",
    "        P_L.append(profit_i)\n",
    "        num_positions = len(pred_i)\n",
    "        ret.append((1.0/num_positions) * profit_i)\n",
    "        x.append(x[i] + (x[i]/num_positions) * profit_i)"
   ]
  },
  {
   "cell_type": "code",
   "execution_count": 115,
   "id": "horizontal-mobility",
   "metadata": {},
   "outputs": [
    {
     "data": {
      "image/png": "[encoded data removed]",
      "text/plain": [
       "<Figure size 432x288 with 1 Axes>"
      ]
     },
     "metadata": {
      "needs_background": "light"
     },
     "output_type": "display_data"
    }
   ],
   "source": [
    "plt.plot(x);"
   ]
  },
  {
   "cell_type": "code",
   "execution_count": 1,
   "id": "smoking-seattle",
   "metadata": {},
   "outputs": [],
   "source": [
    "import pickle5\n",
    "with open(\"../Week2/crsp_prices.pkl\", 'rb') as path:\n",
    "    CRSP = pickle5.load(path)"
   ]
  },
  {
   "cell_type": "code",
   "execution_count": 2,
   "id": "marine-fancy",
   "metadata": {},
   "outputs": [],
   "source": [
    "CRSP.reset_index(inplace=True)\n",
    "CRSP.set_index('date',inplace=True)"
   ]
  },
  {
   "cell_type": "code",
   "execution_count": 118,
   "id": "reported-kitchen",
   "metadata": {},
   "outputs": [],
   "source": [
    "SPY = CRSP[['spy_cum_ret']]\n",
    "SPY = SPY[~SPY.index.duplicated(keep='first')]\n",
    "SPY = SPY.loc['2010-01-01':]"
   ]
  },
  {
   "cell_type": "code",
   "execution_count": 119,
   "id": "public-mobile",
   "metadata": {},
   "outputs": [],
   "source": [
    "SPY = SPY.resample('Q').ffill()\n",
    "SPY['spy_cum_ret'] = (SPY['spy_cum_ret'] - SPY['spy_cum_ret'][0] + 1)"
   ]
  },
  {
   "cell_type": "code",
   "execution_count": 83,
   "id": "immune-former",
   "metadata": {},
   "outputs": [],
   "source": [
    "len(SPY.loc['2010-01-01':])\n",
    "#len(SPY.loc['2003-01-01':])"
   ]
  },
  {
   "cell_type": "code",
   "execution_count": 120,
   "id": "finite-stable",
   "metadata": {},
   "outputs": [
    {
     "data": {
      "image/png": "[encoded data removed]",
      "text/plain": [
       "<Figure size 432x288 with 1 Axes>"
      ]
     },
     "metadata": {
      "needs_background": "light"
     },
     "output_type": "display_data"
    }
   ],
   "source": [
    "SPY['strategy'] = x\n",
    "SPY.plot();"
   ]
  },
  {
   "cell_type": "code",
   "execution_count": 121,
   "id": "optical-comparative",
   "metadata": {},
   "outputs": [
    {
     "data": {
      "text/plain": [
       "<matplotlib.axes._subplots.AxesSubplot at 0x1124f9ef0>"
      ]
     },
     "execution_count": 121,
     "metadata": {},
     "output_type": "execute_result"
    },
    {
     "data": {
      "image/png": "[encoded data removed]",
      "text/plain": [
       "<Figure size 432x288 with 1 Axes>"
      ]
     },
     "metadata": {
      "needs_background": "light"
     },
     "output_type": "display_data"
    }
   ],
   "source": [
    "SPY.resample('Y').ffill().plot()"
   ]
  },
  {
   "cell_type": "markdown",
   "id": "pacific-reducing",
   "metadata": {},
   "source": [
    "- Compute Sharpe Ratio, Information Ratio and alpha for the strategy and for the buy-and-hold strategy for SPY"
   ]
  },
  {
   "cell_type": "code",
   "execution_count": 122,
   "id": "careful-monitoring",
   "metadata": {
    "ExecuteTime": {
     "end_time": "2020-01-28T02:40:02.929451Z",
     "start_time": "2020-01-28T02:40:02.923453Z"
    }
   },
   "outputs": [
    {
     "name": "stdout",
     "output_type": "stream",
     "text": [
      "Strategy Sharpe Ratio:  0.6989649383934442\n"
     ]
    }
   ],
   "source": [
    "strategy_mean_ret = (SPY['strategy'] - 1).diff().mean()\n",
    "strategy_std = (SPY['strategy'] - 1).diff().std()\n",
    "strategy_sr = strategy_mean_ret/strategy_std\n",
    "print('Strategy Sharpe Ratio: ',strategy_sr)"
   ]
  },
  {
   "cell_type": "code",
   "execution_count": 123,
   "id": "positive-trauma",
   "metadata": {
    "ExecuteTime": {
     "end_time": "2020-01-27T20:54:30.525391Z",
     "start_time": "2020-01-27T20:54:30.514395Z"
    }
   },
   "outputs": [
    {
     "name": "stdout",
     "output_type": "stream",
     "text": [
      "SP Sharpe Ratio:  0.46133385900210633\n"
     ]
    }
   ],
   "source": [
    "(SPY['spy_cum_ret'] - 1).diff().mean()\n",
    "(SPY['spy_cum_ret'] - 1).diff().std()\n",
    "print('SP Sharpe Ratio: ',(SPY['spy_cum_ret'] - 1).diff().mean()/(SPY['spy_cum_ret'] - 1).diff().std())"
   ]
  },
  {
   "cell_type": "code",
   "execution_count": 124,
   "id": "usual-terminal",
   "metadata": {
    "ExecuteTime": {
     "end_time": "2020-01-28T02:40:23.591764Z",
     "start_time": "2020-01-28T02:40:23.584764Z"
    }
   },
   "outputs": [
    {
     "data": {
      "text/plain": [
       "2.502065579281544"
      ]
     },
     "execution_count": 124,
     "metadata": {},
     "output_type": "execute_result"
    }
   ],
   "source": [
    "x[-1]"
   ]
  },
  {
   "cell_type": "code",
   "execution_count": 125,
   "id": "average-breath",
   "metadata": {
    "ExecuteTime": {
     "end_time": "2020-01-27T20:54:39.139484Z",
     "start_time": "2020-01-27T20:54:39.134486Z"
    }
   },
   "outputs": [
    {
     "data": {
      "text/plain": [
       "2.034179999999999"
      ]
     },
     "execution_count": 125,
     "metadata": {},
     "output_type": "execute_result"
    }
   ],
   "source": [
    "SPY['spy_cum_ret'][-1]"
   ]
  },
  {
   "cell_type": "code",
   "execution_count": 126,
   "id": "adjacent-match",
   "metadata": {
    "ExecuteTime": {
     "end_time": "2020-01-28T02:41:14.814865Z",
     "start_time": "2020-01-28T02:41:14.804751Z"
    }
   },
   "outputs": [
    {
     "data": {
      "text/plain": [
       "0.38571809337749535"
      ]
     },
     "execution_count": 126,
     "metadata": {},
     "output_type": "execute_result"
    }
   ],
   "source": [
    "strategy_ret = (SPY['strategy'] - 1).diff().values[1:]\n",
    "spy_ret = (SPY['spy_cum_ret'] - 1).diff().values[1:]\n",
    "\n",
    "beta = (np.cov(spy_ret,strategy_ret)/np.var(spy_ret))[1,0]\n",
    "beta"
   ]
  },
  {
   "cell_type": "code",
   "execution_count": 127,
   "id": "relevant-continuity",
   "metadata": {
    "ExecuteTime": {
     "end_time": "2020-01-28T02:41:33.922710Z",
     "start_time": "2020-01-28T02:41:33.916710Z"
    }
   },
   "outputs": [
    {
     "data": {
      "text/plain": [
       "0.5658067398744527"
      ]
     },
     "execution_count": 127,
     "metadata": {},
     "output_type": "execute_result"
    }
   ],
   "source": [
    "residual_ret = strategy_ret - beta * spy_ret\n",
    "IR = np.mean(residual_ret)/np.std(residual_ret)\n",
    "IR"
   ]
  },
  {
   "cell_type": "code",
   "execution_count": 128,
   "id": "unusual-bathroom",
   "metadata": {
    "ExecuteTime": {
     "end_time": "2020-01-28T02:42:04.932079Z",
     "start_time": "2020-01-28T02:42:04.927080Z"
    }
   },
   "outputs": [
    {
     "data": {
      "text/plain": [
       "0.03151896118492589"
      ]
     },
     "execution_count": 128,
     "metadata": {},
     "output_type": "execute_result"
    }
   ],
   "source": [
    "alpha = np.mean(residual_ret)\n",
    "alpha"
   ]
  },
  {
   "cell_type": "markdown",
   "id": "palestinian-drilling",
   "metadata": {},
   "source": [
    "- Change hyper parameters for the BaggingClassifier and the DecisionTree and try at least 3 combinations of max_depth and n_estimators. Find optimal features and backtest with each of the combinations of hyperparameters.\n",
    "\n",
    "## Max_depth 5, n_estimator 40\n"
   ]
  },
  {
   "cell_type": "code",
   "execution_count": 129,
   "id": "flexible-foundation",
   "metadata": {},
   "outputs": [],
   "source": [
    "t_clf = DecisionTreeClassifier(max_depth=5, min_samples_leaf=800)"
   ]
  },
  {
   "cell_type": "code",
   "execution_count": 130,
   "id": "respected-halifax",
   "metadata": {},
   "outputs": [],
   "source": [
    "bg_clf = BaggingClassifier(t_clf,n_estimators=40,oob_score=True,random_state=123,n_jobs=1)"
   ]
  },
  {
   "cell_type": "code",
   "execution_count": 131,
   "id": "under-cabinet",
   "metadata": {
    "scrolled": true
   },
   "outputs": [
    {
     "data": {
      "text/plain": [
       "BaggingClassifier(base_estimator=DecisionTreeClassifier(class_weight=None, criterion='gini', max_depth=5,\n",
       "            max_features=None, max_leaf_nodes=None,\n",
       "            min_impurity_decrease=0.0, min_impurity_split=None,\n",
       "            min_samples_leaf=800, min_samples_split=2,\n",
       "            min_weight_fraction_leaf=0.0, presort=False, random_state=None,\n",
       "            splitter='best'),\n",
       "         bootstrap=True, bootstrap_features=False, max_features=1.0,\n",
       "         max_samples=1.0, n_estimators=40, n_jobs=1, oob_score=True,\n",
       "         random_state=123, verbose=0, warm_start=False)"
      ]
     },
     "execution_count": 131,
     "metadata": {},
     "output_type": "execute_result"
    }
   ],
   "source": [
    "bg_clf.fit(train,y_1)"
   ]
  },
  {
   "cell_type": "code",
   "execution_count": 132,
   "id": "engaging-acceptance",
   "metadata": {
    "ExecuteTime": {
     "end_time": "2020-01-27T20:45:50.051286Z",
     "start_time": "2020-01-27T20:45:44.475785Z"
    }
   },
   "outputs": [
    {
     "data": {
      "text/plain": [
       "0.5691109369958981"
      ]
     },
     "execution_count": 132,
     "metadata": {},
     "output_type": "execute_result"
    }
   ],
   "source": [
    "bg_clf.score(train,y_1)"
   ]
  },
  {
   "cell_type": "code",
   "execution_count": 133,
   "id": "informal-memory",
   "metadata": {
    "ExecuteTime": {
     "end_time": "2020-01-27T20:45:50.737425Z",
     "start_time": "2020-01-27T20:45:50.054287Z"
    }
   },
   "outputs": [
    {
     "data": {
      "text/plain": [
       "0.5622825330549757"
      ]
     },
     "execution_count": 133,
     "metadata": {},
     "output_type": "execute_result"
    }
   ],
   "source": [
    "bg_clf.score(test,y_test)"
   ]
  },
  {
   "cell_type": "code",
   "execution_count": 134,
   "id": "threaded-architecture",
   "metadata": {
    "ExecuteTime": {
     "end_time": "2020-01-27T20:45:58.284294Z",
     "start_time": "2020-01-27T20:45:57.714295Z"
    }
   },
   "outputs": [],
   "source": [
    "pred_valid = bg_clf.predict(test)"
   ]
  },
  {
   "cell_type": "code",
   "execution_count": 135,
   "id": "classical-steps",
   "metadata": {
    "ExecuteTime": {
     "end_time": "2020-01-27T20:45:59.358307Z",
     "start_time": "2020-01-27T20:45:59.352309Z"
    }
   },
   "outputs": [
    {
     "data": {
      "text/plain": [
       "Counter({1: 1338, -1: 99})"
      ]
     },
     "execution_count": 135,
     "metadata": {},
     "output_type": "execute_result"
    }
   ],
   "source": [
    "Counter(pred_valid)"
   ]
  },
  {
   "cell_type": "code",
   "execution_count": 136,
   "id": "affecting-update",
   "metadata": {
    "ExecuteTime": {
     "end_time": "2020-01-27T20:46:01.132418Z",
     "start_time": "2020-01-27T20:46:01.125420Z"
    }
   },
   "outputs": [
    {
     "data": {
      "text/plain": [
       "Counter({-1: 642, 1: 795})"
      ]
     },
     "execution_count": 136,
     "metadata": {},
     "output_type": "execute_result"
    }
   ],
   "source": [
    "Counter(y_test)"
   ]
  },
  {
   "cell_type": "code",
   "execution_count": 137,
   "id": "tamil-miniature",
   "metadata": {
    "ExecuteTime": {
     "end_time": "2020-01-28T02:06:43.608082Z",
     "start_time": "2020-01-28T02:06:43.602137Z"
    }
   },
   "outputs": [
    {
     "data": {
      "text/plain": [
       "0.5578190533253445"
      ]
     },
     "execution_count": 137,
     "metadata": {},
     "output_type": "execute_result"
    }
   ],
   "source": [
    "bg_clf.oob_score_"
   ]
  },
  {
   "cell_type": "code",
   "execution_count": 138,
   "id": "passing-indian",
   "metadata": {
    "ExecuteTime": {
     "end_time": "2020-01-27T20:46:05.714986Z",
     "start_time": "2020-01-27T20:46:05.705987Z"
    }
   },
   "outputs": [
    {
     "data": {
      "text/plain": [
       "array([[ 56, 586],\n",
       "       [ 43, 752]])"
      ]
     },
     "execution_count": 138,
     "metadata": {},
     "output_type": "execute_result"
    }
   ],
   "source": [
    "confusion_matrix(y_test,pred_valid)"
   ]
  },
  {
   "cell_type": "markdown",
   "id": "homeless-victory",
   "metadata": {},
   "source": [
    "### Feature importance"
   ]
  },
  {
   "cell_type": "code",
   "execution_count": 139,
   "id": "genuine-thinking",
   "metadata": {},
   "outputs": [
    {
     "data": {
      "text/html": [
       "<div>\n",
       "<style scoped>\n",
       "    .dataframe tbody tr th:only-of-type {\n",
       "        vertical-align: middle;\n",
       "    }\n",
       "\n",
       "    .dataframe tbody tr th {\n",
       "        vertical-align: top;\n",
       "    }\n",
       "\n",
       "    .dataframe thead th {\n",
       "        text-align: right;\n",
       "    }\n",
       "</style>\n",
       "<table border=\"1\" class=\"dataframe\">\n",
       "  <thead>\n",
       "    <tr style=\"text-align: right;\">\n",
       "      <th></th>\n",
       "      <th>cols</th>\n",
       "      <th>feat_imp</th>\n",
       "    </tr>\n",
       "  </thead>\n",
       "  <tbody>\n",
       "    <tr>\n",
       "      <th>105</th>\n",
       "      <td>cf_yield</td>\n",
       "      <td>0.207701</td>\n",
       "    </tr>\n",
       "    <tr>\n",
       "      <th>180</th>\n",
       "      <td>fqtr_2</td>\n",
       "      <td>0.104890</td>\n",
       "    </tr>\n",
       "    <tr>\n",
       "      <th>95</th>\n",
       "      <td>evmq</td>\n",
       "      <td>0.046030</td>\n",
       "    </tr>\n",
       "    <tr>\n",
       "      <th>55</th>\n",
       "      <td>teqq</td>\n",
       "      <td>0.038135</td>\n",
       "    </tr>\n",
       "    <tr>\n",
       "      <th>147</th>\n",
       "      <td>debt_ebitdaq</td>\n",
       "      <td>0.037840</td>\n",
       "    </tr>\n",
       "    <tr>\n",
       "      <th>152</th>\n",
       "      <td>ocf_lctq</td>\n",
       "      <td>0.029776</td>\n",
       "    </tr>\n",
       "    <tr>\n",
       "      <th>175</th>\n",
       "      <td>sale_nwcq</td>\n",
       "      <td>0.025635</td>\n",
       "    </tr>\n",
       "    <tr>\n",
       "      <th>170</th>\n",
       "      <td>at_turnq</td>\n",
       "      <td>0.022955</td>\n",
       "    </tr>\n",
       "    <tr>\n",
       "      <th>118</th>\n",
       "      <td>roaq</td>\n",
       "      <td>0.017236</td>\n",
       "    </tr>\n",
       "    <tr>\n",
       "      <th>87</th>\n",
       "      <td>prccq</td>\n",
       "      <td>0.016643</td>\n",
       "    </tr>\n",
       "    <tr>\n",
       "      <th>162</th>\n",
       "      <td>de_ratioq</td>\n",
       "      <td>0.015666</td>\n",
       "    </tr>\n",
       "    <tr>\n",
       "      <th>120</th>\n",
       "      <td>efftaxq</td>\n",
       "      <td>0.015223</td>\n",
       "    </tr>\n",
       "    <tr>\n",
       "      <th>71</th>\n",
       "      <td>dpcy</td>\n",
       "      <td>0.013681</td>\n",
       "    </tr>\n",
       "    <tr>\n",
       "      <th>143</th>\n",
       "      <td>cash_ltq</td>\n",
       "      <td>0.013533</td>\n",
       "    </tr>\n",
       "    <tr>\n",
       "      <th>156</th>\n",
       "      <td>fcf_yield</td>\n",
       "      <td>0.010198</td>\n",
       "    </tr>\n",
       "    <tr>\n",
       "      <th>182</th>\n",
       "      <td>fqtr_4</td>\n",
       "      <td>0.010138</td>\n",
       "    </tr>\n",
       "  </tbody>\n",
       "</table>\n",
       "</div>"
      ],
      "text/plain": [
       "             cols  feat_imp\n",
       "105      cf_yield  0.207701\n",
       "180        fqtr_2  0.104890\n",
       "95           evmq  0.046030\n",
       "55           teqq  0.038135\n",
       "147  debt_ebitdaq  0.037840\n",
       "152      ocf_lctq  0.029776\n",
       "175     sale_nwcq  0.025635\n",
       "170      at_turnq  0.022955\n",
       "118          roaq  0.017236\n",
       "87          prccq  0.016643\n",
       "162     de_ratioq  0.015666\n",
       "120       efftaxq  0.015223\n",
       "71           dpcy  0.013681\n",
       "143      cash_ltq  0.013533\n",
       "156     fcf_yield  0.010198\n",
       "182        fqtr_4  0.010138"
      ]
     },
     "execution_count": 139,
     "metadata": {},
     "output_type": "execute_result"
    }
   ],
   "source": [
    "fi = baggingtree_feat_importance(bg_clf,train)\n",
    "features = fi[(fi['feat_imp'] > 0.01)]\n",
    "features"
   ]
  },
  {
   "cell_type": "code",
   "execution_count": 140,
   "id": "center-grade",
   "metadata": {},
   "outputs": [
    {
     "data": {
      "image/png": "[encoded data removed]",
      "text/plain": [
       "<Figure size 864x504 with 1 Axes>"
      ]
     },
     "metadata": {
      "needs_background": "light"
     },
     "output_type": "display_data"
    }
   ],
   "source": [
    "plot_fi(features);"
   ]
  },
  {
   "cell_type": "code",
   "execution_count": 141,
   "id": "noted-minneapolis",
   "metadata": {},
   "outputs": [],
   "source": [
    "train = train[features['cols'].values]\n",
    "test = test[features['cols'].values]"
   ]
  },
  {
   "cell_type": "code",
   "execution_count": 142,
   "id": "transparent-litigation",
   "metadata": {},
   "outputs": [
    {
     "data": {
      "text/plain": [
       "0.5701249020601926"
      ]
     },
     "execution_count": 142,
     "metadata": {},
     "output_type": "execute_result"
    }
   ],
   "source": [
    "bg_clf.fit(train,y_1)\n",
    "bg_clf.score(train,y_1)"
   ]
  },
  {
   "cell_type": "code",
   "execution_count": 143,
   "id": "smooth-alfred",
   "metadata": {
    "ExecuteTime": {
     "end_time": "2020-01-27T20:45:50.737425Z",
     "start_time": "2020-01-27T20:45:50.054287Z"
    }
   },
   "outputs": [
    {
     "data": {
      "text/plain": [
       "0.5636743215031316"
      ]
     },
     "execution_count": 143,
     "metadata": {},
     "output_type": "execute_result"
    }
   ],
   "source": [
    "bg_clf.score(test,y_test)"
   ]
  },
  {
   "cell_type": "code",
   "execution_count": 144,
   "id": "headed-afternoon",
   "metadata": {
    "ExecuteTime": {
     "end_time": "2020-01-27T20:45:58.284294Z",
     "start_time": "2020-01-27T20:45:57.714295Z"
    }
   },
   "outputs": [],
   "source": [
    "pred_valid = bg_clf.predict(test)"
   ]
  },
  {
   "cell_type": "code",
   "execution_count": 145,
   "id": "solid-shoot",
   "metadata": {
    "ExecuteTime": {
     "end_time": "2020-01-28T02:06:43.608082Z",
     "start_time": "2020-01-28T02:06:43.602137Z"
    }
   },
   "outputs": [
    {
     "data": {
      "text/plain": [
       "0.5606765912338111"
      ]
     },
     "execution_count": 145,
     "metadata": {},
     "output_type": "execute_result"
    }
   ],
   "source": [
    "bg_clf.oob_score_"
   ]
  },
  {
   "cell_type": "markdown",
   "id": "placed-newcastle",
   "metadata": {},
   "source": [
    "### Profit importance"
   ]
  },
  {
   "cell_type": "code",
   "execution_count": 146,
   "id": "current-reverse",
   "metadata": {},
   "outputs": [
    {
     "name": "stdout",
     "output_type": "stream",
     "text": [
      "CPU times: user 5 µs, sys: 1e+03 ns, total: 6 µs\n",
      "Wall time: 11.2 µs\n"
     ]
    },
    {
     "data": {
      "text/html": [
       "<div>\n",
       "<style scoped>\n",
       "    .dataframe tbody tr th:only-of-type {\n",
       "        vertical-align: middle;\n",
       "    }\n",
       "\n",
       "    .dataframe tbody tr th {\n",
       "        vertical-align: top;\n",
       "    }\n",
       "\n",
       "    .dataframe thead th {\n",
       "        text-align: right;\n",
       "    }\n",
       "</style>\n",
       "<table border=\"1\" class=\"dataframe\">\n",
       "  <thead>\n",
       "    <tr style=\"text-align: right;\">\n",
       "      <th></th>\n",
       "      <th>cols</th>\n",
       "      <th>pi_imp</th>\n",
       "    </tr>\n",
       "  </thead>\n",
       "  <tbody>\n",
       "    <tr>\n",
       "      <th>0</th>\n",
       "      <td>cf_yield</td>\n",
       "      <td>80.817801</td>\n",
       "    </tr>\n",
       "    <tr>\n",
       "      <th>2</th>\n",
       "      <td>evmq</td>\n",
       "      <td>87.879910</td>\n",
       "    </tr>\n",
       "    <tr>\n",
       "      <th>1</th>\n",
       "      <td>fqtr_2</td>\n",
       "      <td>92.680583</td>\n",
       "    </tr>\n",
       "    <tr>\n",
       "      <th>6</th>\n",
       "      <td>sale_nwcq</td>\n",
       "      <td>93.839551</td>\n",
       "    </tr>\n",
       "    <tr>\n",
       "      <th>13</th>\n",
       "      <td>cash_ltq</td>\n",
       "      <td>94.211123</td>\n",
       "    </tr>\n",
       "    <tr>\n",
       "      <th>12</th>\n",
       "      <td>dpcy</td>\n",
       "      <td>94.716245</td>\n",
       "    </tr>\n",
       "    <tr>\n",
       "      <th>11</th>\n",
       "      <td>efftaxq</td>\n",
       "      <td>94.893870</td>\n",
       "    </tr>\n",
       "    <tr>\n",
       "      <th>9</th>\n",
       "      <td>prccq</td>\n",
       "      <td>95.123206</td>\n",
       "    </tr>\n",
       "    <tr>\n",
       "      <th>15</th>\n",
       "      <td>fqtr_4</td>\n",
       "      <td>95.346714</td>\n",
       "    </tr>\n",
       "    <tr>\n",
       "      <th>7</th>\n",
       "      <td>at_turnq</td>\n",
       "      <td>95.618704</td>\n",
       "    </tr>\n",
       "    <tr>\n",
       "      <th>10</th>\n",
       "      <td>de_ratioq</td>\n",
       "      <td>95.689184</td>\n",
       "    </tr>\n",
       "    <tr>\n",
       "      <th>8</th>\n",
       "      <td>roaq</td>\n",
       "      <td>95.774594</td>\n",
       "    </tr>\n",
       "    <tr>\n",
       "      <th>14</th>\n",
       "      <td>fcf_yield</td>\n",
       "      <td>96.815440</td>\n",
       "    </tr>\n",
       "    <tr>\n",
       "      <th>3</th>\n",
       "      <td>teqq</td>\n",
       "      <td>96.827290</td>\n",
       "    </tr>\n",
       "    <tr>\n",
       "      <th>4</th>\n",
       "      <td>debt_ebitdaq</td>\n",
       "      <td>96.838517</td>\n",
       "    </tr>\n",
       "    <tr>\n",
       "      <th>5</th>\n",
       "      <td>ocf_lctq</td>\n",
       "      <td>97.970757</td>\n",
       "    </tr>\n",
       "  </tbody>\n",
       "</table>\n",
       "</div>"
      ],
      "text/plain": [
       "            cols     pi_imp\n",
       "0       cf_yield  80.817801\n",
       "2           evmq  87.879910\n",
       "1         fqtr_2  92.680583\n",
       "6      sale_nwcq  93.839551\n",
       "13      cash_ltq  94.211123\n",
       "12          dpcy  94.716245\n",
       "11       efftaxq  94.893870\n",
       "9          prccq  95.123206\n",
       "15        fqtr_4  95.346714\n",
       "7       at_turnq  95.618704\n",
       "10     de_ratioq  95.689184\n",
       "8           roaq  95.774594\n",
       "14     fcf_yield  96.815440\n",
       "3           teqq  96.827290\n",
       "4   debt_ebitdaq  96.838517\n",
       "5       ocf_lctq  97.970757"
      ]
     },
     "execution_count": 146,
     "metadata": {},
     "output_type": "execute_result"
    }
   ],
   "source": [
    "%time \n",
    "pi = baggingtree_profit_importance(bg_clf,test,df_2['next_period_return'])\n",
    "pi"
   ]
  },
  {
   "cell_type": "code",
   "execution_count": 148,
   "id": "amino-henry",
   "metadata": {},
   "outputs": [
    {
     "name": "stdout",
     "output_type": "stream",
     "text": [
      "97.193203\n",
      "97.758347\n",
      "97.36169699999999\n",
      "97.174589\n",
      "89.697967\n",
      "88.632951\n",
      "87.54484500000001\n",
      "88.331537\n",
      "88.260753\n",
      "92.304979\n",
      "87.67252299999998\n",
      "86.79210699999996\n",
      "69.72594099999995\n",
      "66.54793099999999\n",
      "91.70212699999999\n"
     ]
    }
   ],
   "source": [
    "profits = []\n",
    "\n",
    "feat=[]\n",
    "\n",
    "#train1 = train.copy()\n",
    "#test1 = test.copy()\n",
    "\n",
    "while len(train.columns)>1:\n",
    "    bg_clf.fit(train,y_1)\n",
    "    pi = baggingtree_profit_importance(bg_clf,test,y_test)\n",
    "\n",
    "    col_to_drop = pi[pi['pi_imp'] == pi['pi_imp'].max()]['cols'].iloc[0]\n",
    "    train.drop(col_to_drop,axis=1,inplace=True)\n",
    "    test.drop(col_to_drop,axis=1,inplace=True)\n",
    "    bg_clf.fit(train,y_1)\n",
    "    \n",
    "    fi = baggingtree_feat_importance(bg_clf,train)\n",
    "    features = fi[(fi['feat_imp'] > 0.00)]\n",
    "    train = train[features['cols'].values]\n",
    "    test = test[features['cols'].values]\n",
    "    bg_clf.fit(train,y_1)\n",
    "    \n",
    "    pred_valid = bg_clf.predict(test)\n",
    "    profits.append((pred_valid * df_2['next_period_return']).sum())\n",
    "    print((pred_valid * df_2['next_period_return']).sum())\n",
    "    feat.append(features['cols'].values) \n",
    "    \n"
   ]
  },
  {
   "cell_type": "code",
   "execution_count": 149,
   "id": "smooth-albany",
   "metadata": {},
   "outputs": [
    {
     "data": {
      "image/png": "[encoded data removed]",
      "text/plain": [
       "<Figure size 432x288 with 1 Axes>"
      ]
     },
     "metadata": {
      "needs_background": "light"
     },
     "output_type": "display_data"
    }
   ],
   "source": [
    "plt.plot(profits);"
   ]
  },
  {
   "cell_type": "code",
   "execution_count": 150,
   "id": "drawn-annotation",
   "metadata": {
    "ExecuteTime": {
     "end_time": "2020-01-28T02:31:40.816966Z",
     "start_time": "2020-01-28T02:31:40.813700Z"
    }
   },
   "outputs": [],
   "source": [
    "n = np.argmax(profits)\n",
    "optim_feats = feat[n]\n",
    "max_profits = profits[n]"
   ]
  },
  {
   "cell_type": "code",
   "execution_count": 151,
   "id": "allied-runner",
   "metadata": {
    "ExecuteTime": {
     "end_time": "2020-01-28T02:31:42.549517Z",
     "start_time": "2020-01-28T02:31:42.544493Z"
    }
   },
   "outputs": [
    {
     "name": "stdout",
     "output_type": "stream",
     "text": [
      "97.758347\n",
      "['cf_yield' 'fqtr_2' 'at_turnq' 'teqq' 'ocf_lctq' 'evmq' 'prccq'\n",
      " 'sale_nwcq' 'roaq' 'dpcy' 'efftaxq' 'cash_ltq' 'fcf_yield' 'fqtr_4']\n"
     ]
    }
   ],
   "source": [
    "print(max_profits)\n",
    "print(optim_feats)"
   ]
  },
  {
   "cell_type": "code",
   "execution_count": 153,
   "id": "lightweight-thinking",
   "metadata": {
    "ExecuteTime": {
     "end_time": "2020-01-28T02:33:56.360618Z",
     "start_time": "2020-01-28T02:33:55.193258Z"
    }
   },
   "outputs": [
    {
     "name": "stdout",
     "output_type": "stream",
     "text": [
      "0.5702631700235056\n",
      "0.5629784272790536\n"
     ]
    },
    {
     "data": {
      "text/plain": [
       "97.758347"
      ]
     },
     "execution_count": 153,
     "metadata": {},
     "output_type": "execute_result"
    }
   ],
   "source": [
    "train_optim = train[optim_feats]\n",
    "test_optim = test[optim_feats]\n",
    "\n",
    "bg_clf.fit(train_optim,y_1)\n",
    "print(bg_clf.score(train_optim,y_1))\n",
    "pred_valid_tree = bg_clf.predict(test_optim)\n",
    "print(bg_clf.score(test_optim,y_test))\n",
    "(pred_valid_tree * df_2['next_period_return']).sum()"
   ]
  },
  {
   "cell_type": "markdown",
   "id": "mexican-vaccine",
   "metadata": {},
   "source": [
    "### Backtest\n",
    "- Backtest the performance of the model with the optimal features over the period 2010 – 2018.\n",
    "---------------------------------"
   ]
  },
  {
   "cell_type": "code",
   "execution_count": 154,
   "id": "polar-alliance",
   "metadata": {},
   "outputs": [],
   "source": [
    "opt_training_data = [t[optim_feats] for t in training_data]\n",
    "opt_test_data = [v[optim_feats] for v in test_data]"
   ]
  },
  {
   "cell_type": "code",
   "execution_count": 155,
   "id": "laughing-danger",
   "metadata": {},
   "outputs": [
    {
     "data": {
      "text/plain": [
       "35"
      ]
     },
     "execution_count": 155,
     "metadata": {},
     "output_type": "execute_result"
    }
   ],
   "source": [
    "len(training_labels)"
   ]
  },
  {
   "cell_type": "code",
   "execution_count": 156,
   "id": "detected-cemetery",
   "metadata": {},
   "outputs": [],
   "source": [
    "P_L = []\n",
    "x = [1]\n",
    "ret = []\n",
    "\n",
    "for i in range(len(training_labels)):\n",
    "        #print(i)\n",
    "        bg_clf.fit(opt_training_data[i],training_labels[i])\n",
    "        pred_i = bg_clf.predict(opt_test_data[i])\n",
    "        profit_i = (pred_i * test_frames[i]['next_period_return']).sum()\n",
    "        P_L.append(profit_i)\n",
    "        num_positions = len(pred_i)\n",
    "        ret.append((1.0/num_positions) * profit_i)\n",
    "        x.append(x[i] + (x[i]/num_positions) * profit_i)"
   ]
  },
  {
   "cell_type": "code",
   "execution_count": 157,
   "id": "sized-workstation",
   "metadata": {},
   "outputs": [
    {
     "data": {
      "image/png": "[encoded data removed]",
      "text/plain": [
       "<Figure size 432x288 with 1 Axes>"
      ]
     },
     "metadata": {
      "needs_background": "light"
     },
     "output_type": "display_data"
    }
   ],
   "source": [
    "plt.plot(x);"
   ]
  },
  {
   "cell_type": "code",
   "execution_count": 158,
   "id": "simple-record",
   "metadata": {},
   "outputs": [],
   "source": [
    "SPY = CRSP[['spy_cum_ret']]\n",
    "SPY = SPY[~SPY.index.duplicated(keep='first')]\n",
    "SPY = SPY.loc['2010-01-01':]"
   ]
  },
  {
   "cell_type": "code",
   "execution_count": 159,
   "id": "perceived-oasis",
   "metadata": {},
   "outputs": [],
   "source": [
    "SPY = SPY.resample('Q').ffill()\n",
    "SPY['spy_cum_ret'] = (SPY['spy_cum_ret'] - SPY['spy_cum_ret'][0] + 1)"
   ]
  },
  {
   "cell_type": "code",
   "execution_count": 160,
   "id": "chief-sacramento",
   "metadata": {},
   "outputs": [
    {
     "data": {
      "image/png": "[encoded data removed]",
      "text/plain": [
       "<Figure size 432x288 with 1 Axes>"
      ]
     },
     "metadata": {
      "needs_background": "light"
     },
     "output_type": "display_data"
    }
   ],
   "source": [
    "SPY['strategy'] = x\n",
    "SPY.plot();"
   ]
  },
  {
   "cell_type": "code",
   "execution_count": 161,
   "id": "structured-reflection",
   "metadata": {},
   "outputs": [
    {
     "data": {
      "text/plain": [
       "<matplotlib.axes._subplots.AxesSubplot at 0x11152dbe0>"
      ]
     },
     "execution_count": 161,
     "metadata": {},
     "output_type": "execute_result"
    },
    {
     "data": {
      "image/png": "[encoded data removed]",
      "text/plain": [
       "<Figure size 432x288 with 1 Axes>"
      ]
     },
     "metadata": {
      "needs_background": "light"
     },
     "output_type": "display_data"
    }
   ],
   "source": [
    "SPY.resample('Y').ffill().plot()"
   ]
  },
  {
   "cell_type": "markdown",
   "id": "brave-conviction",
   "metadata": {},
   "source": [
    "- Compute Sharpe Ratio, Information Ratio and alpha for the strategy and for the buy-and-hold strategy for SPY"
   ]
  },
  {
   "cell_type": "code",
   "execution_count": 162,
   "id": "ordered-ordinary",
   "metadata": {
    "ExecuteTime": {
     "end_time": "2020-01-28T02:40:02.929451Z",
     "start_time": "2020-01-28T02:40:02.923453Z"
    }
   },
   "outputs": [
    {
     "name": "stdout",
     "output_type": "stream",
     "text": [
      "Strategy Sharpe Ratio:  0.726713659547661\n"
     ]
    }
   ],
   "source": [
    "strategy_mean_ret = (SPY['strategy'] - 1).diff().mean()\n",
    "strategy_std = (SPY['strategy'] - 1).diff().std()\n",
    "strategy_sr = strategy_mean_ret/strategy_std\n",
    "print('Strategy Sharpe Ratio: ',strategy_sr)"
   ]
  },
  {
   "cell_type": "code",
   "execution_count": 163,
   "id": "japanese-rochester",
   "metadata": {
    "ExecuteTime": {
     "end_time": "2020-01-27T20:54:30.525391Z",
     "start_time": "2020-01-27T20:54:30.514395Z"
    }
   },
   "outputs": [
    {
     "name": "stdout",
     "output_type": "stream",
     "text": [
      "SP Sharpe Ratio:  0.46133385900210633\n"
     ]
    }
   ],
   "source": [
    "(SPY['spy_cum_ret'] - 1).diff().mean()\n",
    "(SPY['spy_cum_ret'] - 1).diff().std()\n",
    "print('SP Sharpe Ratio: ',(SPY['spy_cum_ret'] - 1).diff().mean()/(SPY['spy_cum_ret'] - 1).diff().std())"
   ]
  },
  {
   "cell_type": "code",
   "execution_count": 164,
   "id": "horizontal-moore",
   "metadata": {
    "ExecuteTime": {
     "end_time": "2020-01-28T02:40:23.591764Z",
     "start_time": "2020-01-28T02:40:23.584764Z"
    }
   },
   "outputs": [
    {
     "data": {
      "text/plain": [
       "2.5105437889048052"
      ]
     },
     "execution_count": 164,
     "metadata": {},
     "output_type": "execute_result"
    }
   ],
   "source": [
    "x[-1]"
   ]
  },
  {
   "cell_type": "code",
   "execution_count": 165,
   "id": "described-woman",
   "metadata": {
    "ExecuteTime": {
     "end_time": "2020-01-27T20:54:39.139484Z",
     "start_time": "2020-01-27T20:54:39.134486Z"
    }
   },
   "outputs": [
    {
     "data": {
      "text/plain": [
       "2.034179999999999"
      ]
     },
     "execution_count": 165,
     "metadata": {},
     "output_type": "execute_result"
    }
   ],
   "source": [
    "SPY['spy_cum_ret'][-1]"
   ]
  },
  {
   "cell_type": "code",
   "execution_count": 166,
   "id": "focused-notebook",
   "metadata": {
    "ExecuteTime": {
     "end_time": "2020-01-28T02:41:14.814865Z",
     "start_time": "2020-01-28T02:41:14.804751Z"
    }
   },
   "outputs": [
    {
     "data": {
      "text/plain": [
       "0.3934597876226691"
      ]
     },
     "execution_count": 166,
     "metadata": {},
     "output_type": "execute_result"
    }
   ],
   "source": [
    "strategy_ret = (SPY['strategy'] - 1).diff().values[1:]\n",
    "spy_ret = (SPY['spy_cum_ret'] - 1).diff().values[1:]\n",
    "\n",
    "beta = (np.cov(spy_ret,strategy_ret)/np.var(spy_ret))[1,0]\n",
    "beta"
   ]
  },
  {
   "cell_type": "code",
   "execution_count": 167,
   "id": "municipal-antenna",
   "metadata": {
    "ExecuteTime": {
     "end_time": "2020-01-28T02:41:33.922710Z",
     "start_time": "2020-01-28T02:41:33.916710Z"
    }
   },
   "outputs": [
    {
     "data": {
      "text/plain": [
       "0.5912236243416128"
      ]
     },
     "execution_count": 167,
     "metadata": {},
     "output_type": "execute_result"
    }
   ],
   "source": [
    "residual_ret = strategy_ret - beta * spy_ret\n",
    "IR = np.mean(residual_ret)/np.std(residual_ret)\n",
    "IR"
   ]
  },
  {
   "cell_type": "code",
   "execution_count": 168,
   "id": "infectious-guarantee",
   "metadata": {
    "ExecuteTime": {
     "end_time": "2020-01-28T02:42:04.932079Z",
     "start_time": "2020-01-28T02:42:04.927080Z"
    }
   },
   "outputs": [
    {
     "data": {
      "text/plain": [
       "0.031532444164034105"
      ]
     },
     "execution_count": 168,
     "metadata": {},
     "output_type": "execute_result"
    }
   ],
   "source": [
    "alpha = np.mean(residual_ret)\n",
    "alpha"
   ]
  },
  {
   "cell_type": "code",
   "execution_count": null,
   "id": "executive-impact",
   "metadata": {},
   "outputs": [],
   "source": []
  },
  {
   "cell_type": "markdown",
   "id": "affected-parliament",
   "metadata": {},
   "source": [
    "## Max_depth 6, n_estimator 50"
   ]
  },
  {
   "cell_type": "code",
   "execution_count": 169,
   "id": "brave-texture",
   "metadata": {},
   "outputs": [],
   "source": [
    "t_clf = DecisionTreeClassifier(max_depth=6, min_samples_leaf=800)"
   ]
  },
  {
   "cell_type": "code",
   "execution_count": 170,
   "id": "crude-ranking",
   "metadata": {},
   "outputs": [],
   "source": [
    "bg_clf = BaggingClassifier(t_clf,n_estimators=50,oob_score=True,random_state=123,n_jobs=1)"
   ]
  },
  {
   "cell_type": "code",
   "execution_count": 171,
   "id": "devoted-notification",
   "metadata": {},
   "outputs": [
    {
     "data": {
      "text/plain": [
       "BaggingClassifier(base_estimator=DecisionTreeClassifier(class_weight=None, criterion='gini', max_depth=6,\n",
       "            max_features=None, max_leaf_nodes=None,\n",
       "            min_impurity_decrease=0.0, min_impurity_split=None,\n",
       "            min_samples_leaf=800, min_samples_split=2,\n",
       "            min_weight_fraction_leaf=0.0, presort=False, random_state=None,\n",
       "            splitter='best'),\n",
       "         bootstrap=True, bootstrap_features=False, max_features=1.0,\n",
       "         max_samples=1.0, n_estimators=50, n_jobs=1, oob_score=True,\n",
       "         random_state=123, verbose=0, warm_start=False)"
      ]
     },
     "execution_count": 171,
     "metadata": {},
     "output_type": "execute_result"
    }
   ],
   "source": [
    "bg_clf.fit(train,y_1)"
   ]
  },
  {
   "cell_type": "code",
   "execution_count": 172,
   "id": "antique-queue",
   "metadata": {
    "ExecuteTime": {
     "end_time": "2020-01-27T20:45:50.051286Z",
     "start_time": "2020-01-27T20:45:44.475785Z"
    }
   },
   "outputs": [
    {
     "data": {
      "text/plain": [
       "0.5704936166290271"
      ]
     },
     "execution_count": 172,
     "metadata": {},
     "output_type": "execute_result"
    }
   ],
   "source": [
    "bg_clf.score(train,y_1)"
   ]
  },
  {
   "cell_type": "code",
   "execution_count": 173,
   "id": "limited-surfing",
   "metadata": {
    "ExecuteTime": {
     "end_time": "2020-01-27T20:45:50.737425Z",
     "start_time": "2020-01-27T20:45:50.054287Z"
    }
   },
   "outputs": [
    {
     "data": {
      "text/plain": [
       "0.5650661099512874"
      ]
     },
     "execution_count": 173,
     "metadata": {},
     "output_type": "execute_result"
    }
   ],
   "source": [
    "bg_clf.score(test,y_test)"
   ]
  },
  {
   "cell_type": "code",
   "execution_count": 174,
   "id": "passive-marathon",
   "metadata": {
    "ExecuteTime": {
     "end_time": "2020-01-27T20:45:58.284294Z",
     "start_time": "2020-01-27T20:45:57.714295Z"
    }
   },
   "outputs": [],
   "source": [
    "pred_valid = bg_clf.predict(test)"
   ]
  },
  {
   "cell_type": "code",
   "execution_count": 175,
   "id": "vanilla-shell",
   "metadata": {
    "ExecuteTime": {
     "end_time": "2020-01-27T20:45:59.358307Z",
     "start_time": "2020-01-27T20:45:59.352309Z"
    }
   },
   "outputs": [
    {
     "data": {
      "text/plain": [
       "Counter({1: 1324, -1: 113})"
      ]
     },
     "execution_count": 175,
     "metadata": {},
     "output_type": "execute_result"
    }
   ],
   "source": [
    "Counter(pred_valid)"
   ]
  },
  {
   "cell_type": "code",
   "execution_count": 176,
   "id": "impressed-ceramic",
   "metadata": {
    "ExecuteTime": {
     "end_time": "2020-01-27T20:46:01.132418Z",
     "start_time": "2020-01-27T20:46:01.125420Z"
    }
   },
   "outputs": [
    {
     "data": {
      "text/plain": [
       "Counter({-1: 642, 1: 795})"
      ]
     },
     "execution_count": 176,
     "metadata": {},
     "output_type": "execute_result"
    }
   ],
   "source": [
    "Counter(y_test)"
   ]
  },
  {
   "cell_type": "code",
   "execution_count": 177,
   "id": "lonely-meter",
   "metadata": {
    "ExecuteTime": {
     "end_time": "2020-01-28T02:06:43.608082Z",
     "start_time": "2020-01-28T02:06:43.602137Z"
    }
   },
   "outputs": [
    {
     "data": {
      "text/plain": [
       "0.5598008941328294"
      ]
     },
     "execution_count": 177,
     "metadata": {},
     "output_type": "execute_result"
    }
   ],
   "source": [
    "bg_clf.oob_score_"
   ]
  },
  {
   "cell_type": "code",
   "execution_count": 178,
   "id": "sudden-wales",
   "metadata": {
    "ExecuteTime": {
     "end_time": "2020-01-27T20:46:05.714986Z",
     "start_time": "2020-01-27T20:46:05.705987Z"
    }
   },
   "outputs": [
    {
     "data": {
      "text/plain": [
       "array([[ 65, 577],\n",
       "       [ 48, 747]])"
      ]
     },
     "execution_count": 178,
     "metadata": {},
     "output_type": "execute_result"
    }
   ],
   "source": [
    "confusion_matrix(y_test,pred_valid)"
   ]
  },
  {
   "cell_type": "markdown",
   "id": "designed-halloween",
   "metadata": {},
   "source": [
    "### Feature importance"
   ]
  },
  {
   "cell_type": "code",
   "execution_count": 179,
   "id": "strategic-black",
   "metadata": {},
   "outputs": [
    {
     "data": {
      "text/html": [
       "<div>\n",
       "<style scoped>\n",
       "    .dataframe tbody tr th:only-of-type {\n",
       "        vertical-align: middle;\n",
       "    }\n",
       "\n",
       "    .dataframe tbody tr th {\n",
       "        vertical-align: top;\n",
       "    }\n",
       "\n",
       "    .dataframe thead th {\n",
       "        text-align: right;\n",
       "    }\n",
       "</style>\n",
       "<table border=\"1\" class=\"dataframe\">\n",
       "  <thead>\n",
       "    <tr style=\"text-align: right;\">\n",
       "      <th></th>\n",
       "      <th>cols</th>\n",
       "      <th>feat_imp</th>\n",
       "    </tr>\n",
       "  </thead>\n",
       "  <tbody>\n",
       "    <tr>\n",
       "      <th>105</th>\n",
       "      <td>cf_yield</td>\n",
       "      <td>0.207218</td>\n",
       "    </tr>\n",
       "    <tr>\n",
       "      <th>180</th>\n",
       "      <td>fqtr_2</td>\n",
       "      <td>0.100726</td>\n",
       "    </tr>\n",
       "    <tr>\n",
       "      <th>95</th>\n",
       "      <td>evmq</td>\n",
       "      <td>0.047670</td>\n",
       "    </tr>\n",
       "    <tr>\n",
       "      <th>147</th>\n",
       "      <td>debt_ebitdaq</td>\n",
       "      <td>0.040290</td>\n",
       "    </tr>\n",
       "    <tr>\n",
       "      <th>55</th>\n",
       "      <td>teqq</td>\n",
       "      <td>0.036172</td>\n",
       "    </tr>\n",
       "    <tr>\n",
       "      <th>170</th>\n",
       "      <td>at_turnq</td>\n",
       "      <td>0.025170</td>\n",
       "    </tr>\n",
       "    <tr>\n",
       "      <th>152</th>\n",
       "      <td>ocf_lctq</td>\n",
       "      <td>0.023280</td>\n",
       "    </tr>\n",
       "    <tr>\n",
       "      <th>175</th>\n",
       "      <td>sale_nwcq</td>\n",
       "      <td>0.023025</td>\n",
       "    </tr>\n",
       "    <tr>\n",
       "      <th>162</th>\n",
       "      <td>de_ratioq</td>\n",
       "      <td>0.016929</td>\n",
       "    </tr>\n",
       "    <tr>\n",
       "      <th>87</th>\n",
       "      <td>prccq</td>\n",
       "      <td>0.016201</td>\n",
       "    </tr>\n",
       "    <tr>\n",
       "      <th>118</th>\n",
       "      <td>roaq</td>\n",
       "      <td>0.015705</td>\n",
       "    </tr>\n",
       "    <tr>\n",
       "      <th>71</th>\n",
       "      <td>dpcy</td>\n",
       "      <td>0.013629</td>\n",
       "    </tr>\n",
       "    <tr>\n",
       "      <th>145</th>\n",
       "      <td>rect_actq</td>\n",
       "      <td>0.013223</td>\n",
       "    </tr>\n",
       "    <tr>\n",
       "      <th>143</th>\n",
       "      <td>cash_ltq</td>\n",
       "      <td>0.012667</td>\n",
       "    </tr>\n",
       "    <tr>\n",
       "      <th>120</th>\n",
       "      <td>efftaxq</td>\n",
       "      <td>0.011507</td>\n",
       "    </tr>\n",
       "    <tr>\n",
       "      <th>36</th>\n",
       "      <td>nopiq</td>\n",
       "      <td>0.010285</td>\n",
       "    </tr>\n",
       "    <tr>\n",
       "      <th>4</th>\n",
       "      <td>cheq</td>\n",
       "      <td>0.010114</td>\n",
       "    </tr>\n",
       "  </tbody>\n",
       "</table>\n",
       "</div>"
      ],
      "text/plain": [
       "             cols  feat_imp\n",
       "105      cf_yield  0.207218\n",
       "180        fqtr_2  0.100726\n",
       "95           evmq  0.047670\n",
       "147  debt_ebitdaq  0.040290\n",
       "55           teqq  0.036172\n",
       "170      at_turnq  0.025170\n",
       "152      ocf_lctq  0.023280\n",
       "175     sale_nwcq  0.023025\n",
       "162     de_ratioq  0.016929\n",
       "87          prccq  0.016201\n",
       "118          roaq  0.015705\n",
       "71           dpcy  0.013629\n",
       "145     rect_actq  0.013223\n",
       "143      cash_ltq  0.012667\n",
       "120       efftaxq  0.011507\n",
       "36          nopiq  0.010285\n",
       "4            cheq  0.010114"
      ]
     },
     "execution_count": 179,
     "metadata": {},
     "output_type": "execute_result"
    }
   ],
   "source": [
    "fi = baggingtree_feat_importance(bg_clf,train)\n",
    "features = fi[(fi['feat_imp'] > 0.01)]\n",
    "features"
   ]
  },
  {
   "cell_type": "code",
   "execution_count": 180,
   "id": "micro-vienna",
   "metadata": {},
   "outputs": [
    {
     "data": {
      "image/png": "[encoded data removed]",
      "text/plain": [
       "<Figure size 864x504 with 1 Axes>"
      ]
     },
     "metadata": {
      "needs_background": "light"
     },
     "output_type": "display_data"
    }
   ],
   "source": [
    "plot_fi(features);"
   ]
  },
  {
   "cell_type": "code",
   "execution_count": 181,
   "id": "invisible-ready",
   "metadata": {},
   "outputs": [],
   "source": [
    "train = train[features['cols'].values]\n",
    "test = test[features['cols'].values]"
   ]
  },
  {
   "cell_type": "code",
   "execution_count": 182,
   "id": "fifth-credits",
   "metadata": {},
   "outputs": [
    {
     "data": {
      "text/plain": [
       "0.571092777803383"
      ]
     },
     "execution_count": 182,
     "metadata": {},
     "output_type": "execute_result"
    }
   ],
   "source": [
    "bg_clf.fit(train,y_1)\n",
    "bg_clf.score(train,y_1)"
   ]
  },
  {
   "cell_type": "code",
   "execution_count": 183,
   "id": "quick-shakespeare",
   "metadata": {
    "ExecuteTime": {
     "end_time": "2020-01-27T20:45:50.737425Z",
     "start_time": "2020-01-27T20:45:50.054287Z"
    }
   },
   "outputs": [
    {
     "data": {
      "text/plain": [
       "0.5581071677105081"
      ]
     },
     "execution_count": 183,
     "metadata": {},
     "output_type": "execute_result"
    }
   ],
   "source": [
    "bg_clf.score(test,y_test)"
   ]
  },
  {
   "cell_type": "code",
   "execution_count": 184,
   "id": "knowing-glenn",
   "metadata": {
    "ExecuteTime": {
     "end_time": "2020-01-27T20:45:58.284294Z",
     "start_time": "2020-01-27T20:45:57.714295Z"
    }
   },
   "outputs": [],
   "source": [
    "pred_valid = bg_clf.predict(test)"
   ]
  },
  {
   "cell_type": "code",
   "execution_count": 185,
   "id": "solved-charles",
   "metadata": {
    "ExecuteTime": {
     "end_time": "2020-01-28T02:06:43.608082Z",
     "start_time": "2020-01-28T02:06:43.602137Z"
    }
   },
   "outputs": [
    {
     "data": {
      "text/plain": [
       "0.5626123427201918"
      ]
     },
     "execution_count": 185,
     "metadata": {},
     "output_type": "execute_result"
    }
   ],
   "source": [
    "bg_clf.oob_score_"
   ]
  },
  {
   "cell_type": "markdown",
   "id": "fuzzy-dayton",
   "metadata": {},
   "source": [
    "### Profit importance"
   ]
  },
  {
   "cell_type": "code",
   "execution_count": 186,
   "id": "accessory-implement",
   "metadata": {},
   "outputs": [
    {
     "name": "stdout",
     "output_type": "stream",
     "text": [
      "CPU times: user 5 µs, sys: 2 µs, total: 7 µs\n",
      "Wall time: 11.9 µs\n"
     ]
    },
    {
     "data": {
      "text/html": [
       "<div>\n",
       "<style scoped>\n",
       "    .dataframe tbody tr th:only-of-type {\n",
       "        vertical-align: middle;\n",
       "    }\n",
       "\n",
       "    .dataframe tbody tr th {\n",
       "        vertical-align: top;\n",
       "    }\n",
       "\n",
       "    .dataframe thead th {\n",
       "        text-align: right;\n",
       "    }\n",
       "</style>\n",
       "<table border=\"1\" class=\"dataframe\">\n",
       "  <thead>\n",
       "    <tr style=\"text-align: right;\">\n",
       "      <th></th>\n",
       "      <th>cols</th>\n",
       "      <th>pi_imp</th>\n",
       "    </tr>\n",
       "  </thead>\n",
       "  <tbody>\n",
       "    <tr>\n",
       "      <th>0</th>\n",
       "      <td>cf_yield</td>\n",
       "      <td>77.935040</td>\n",
       "    </tr>\n",
       "    <tr>\n",
       "      <th>2</th>\n",
       "      <td>evmq</td>\n",
       "      <td>89.146994</td>\n",
       "    </tr>\n",
       "    <tr>\n",
       "      <th>1</th>\n",
       "      <td>fqtr_2</td>\n",
       "      <td>94.447551</td>\n",
       "    </tr>\n",
       "    <tr>\n",
       "      <th>13</th>\n",
       "      <td>cash_ltq</td>\n",
       "      <td>94.579678</td>\n",
       "    </tr>\n",
       "    <tr>\n",
       "      <th>7</th>\n",
       "      <td>sale_nwcq</td>\n",
       "      <td>95.016153</td>\n",
       "    </tr>\n",
       "    <tr>\n",
       "      <th>12</th>\n",
       "      <td>rect_actq</td>\n",
       "      <td>95.185323</td>\n",
       "    </tr>\n",
       "    <tr>\n",
       "      <th>14</th>\n",
       "      <td>efftaxq</td>\n",
       "      <td>95.222301</td>\n",
       "    </tr>\n",
       "    <tr>\n",
       "      <th>9</th>\n",
       "      <td>prccq</td>\n",
       "      <td>95.318063</td>\n",
       "    </tr>\n",
       "    <tr>\n",
       "      <th>8</th>\n",
       "      <td>de_ratioq</td>\n",
       "      <td>95.522041</td>\n",
       "    </tr>\n",
       "    <tr>\n",
       "      <th>11</th>\n",
       "      <td>dpcy</td>\n",
       "      <td>95.542644</td>\n",
       "    </tr>\n",
       "    <tr>\n",
       "      <th>10</th>\n",
       "      <td>roaq</td>\n",
       "      <td>96.112078</td>\n",
       "    </tr>\n",
       "    <tr>\n",
       "      <th>15</th>\n",
       "      <td>nopiq</td>\n",
       "      <td>96.246171</td>\n",
       "    </tr>\n",
       "    <tr>\n",
       "      <th>3</th>\n",
       "      <td>debt_ebitdaq</td>\n",
       "      <td>96.499541</td>\n",
       "    </tr>\n",
       "    <tr>\n",
       "      <th>16</th>\n",
       "      <td>cheq</td>\n",
       "      <td>96.744859</td>\n",
       "    </tr>\n",
       "    <tr>\n",
       "      <th>5</th>\n",
       "      <td>at_turnq</td>\n",
       "      <td>96.757518</td>\n",
       "    </tr>\n",
       "    <tr>\n",
       "      <th>4</th>\n",
       "      <td>teqq</td>\n",
       "      <td>97.863711</td>\n",
       "    </tr>\n",
       "    <tr>\n",
       "      <th>6</th>\n",
       "      <td>ocf_lctq</td>\n",
       "      <td>98.427454</td>\n",
       "    </tr>\n",
       "  </tbody>\n",
       "</table>\n",
       "</div>"
      ],
      "text/plain": [
       "            cols     pi_imp\n",
       "0       cf_yield  77.935040\n",
       "2           evmq  89.146994\n",
       "1         fqtr_2  94.447551\n",
       "13      cash_ltq  94.579678\n",
       "7      sale_nwcq  95.016153\n",
       "12     rect_actq  95.185323\n",
       "14       efftaxq  95.222301\n",
       "9          prccq  95.318063\n",
       "8      de_ratioq  95.522041\n",
       "11          dpcy  95.542644\n",
       "10          roaq  96.112078\n",
       "15         nopiq  96.246171\n",
       "3   debt_ebitdaq  96.499541\n",
       "16          cheq  96.744859\n",
       "5       at_turnq  96.757518\n",
       "4           teqq  97.863711\n",
       "6       ocf_lctq  98.427454"
      ]
     },
     "execution_count": 186,
     "metadata": {},
     "output_type": "execute_result"
    }
   ],
   "source": [
    "%time \n",
    "pi = baggingtree_profit_importance(bg_clf,test,df_2['next_period_return'])\n",
    "pi"
   ]
  },
  {
   "cell_type": "code",
   "execution_count": 187,
   "id": "loose-carroll",
   "metadata": {},
   "outputs": [
    {
     "name": "stdout",
     "output_type": "stream",
     "text": [
      "96.89495500000001\n",
      "88.95083899999997\n",
      "88.41711099999999\n",
      "87.54235700000001\n",
      "87.693725\n",
      "87.802719\n",
      "88.67999699999999\n",
      "89.05028100000001\n",
      "88.168405\n",
      "87.301001\n",
      "90.18386699999999\n",
      "85.82926299999997\n",
      "87.21593099999998\n",
      "69.97104899999995\n",
      "67.40263099999999\n",
      "110.67640099999997\n"
     ]
    }
   ],
   "source": [
    "profits = []\n",
    "\n",
    "feat=[]\n",
    "\n",
    "#train1 = train.copy()\n",
    "#test1 = test.copy()\n",
    "\n",
    "while len(train.columns)>1:\n",
    "    bg_clf.fit(train,y_1)\n",
    "    pi = baggingtree_profit_importance(bg_clf,test,y_test)\n",
    "\n",
    "    col_to_drop = pi[pi['pi_imp'] == pi['pi_imp'].max()]['cols'].iloc[0]\n",
    "    train.drop(col_to_drop,axis=1,inplace=True)\n",
    "    test.drop(col_to_drop,axis=1,inplace=True)\n",
    "    bg_clf.fit(train,y_1)\n",
    "    \n",
    "    fi = baggingtree_feat_importance(bg_clf,train)\n",
    "    features = fi[(fi['feat_imp'] > 0.00)]\n",
    "    train = train[features['cols'].values]\n",
    "    test = test[features['cols'].values]\n",
    "    bg_clf.fit(train,y_1)\n",
    "    \n",
    "    pred_valid = bg_clf.predict(test)\n",
    "    profits.append((pred_valid * df_2['next_period_return']).sum())\n",
    "    print((pred_valid * df_2['next_period_return']).sum())\n",
    "    feat.append(features['cols'].values) \n",
    "    \n"
   ]
  },
  {
   "cell_type": "code",
   "execution_count": 188,
   "id": "packed-structure",
   "metadata": {},
   "outputs": [
    {
     "data": {
      "image/png": "[encoded data removed]",
      "text/plain": [
       "<Figure size 432x288 with 1 Axes>"
      ]
     },
     "metadata": {
      "needs_background": "light"
     },
     "output_type": "display_data"
    }
   ],
   "source": [
    "plt.plot(profits);"
   ]
  },
  {
   "cell_type": "code",
   "execution_count": 189,
   "id": "annual-night",
   "metadata": {
    "ExecuteTime": {
     "end_time": "2020-01-28T02:31:40.816966Z",
     "start_time": "2020-01-28T02:31:40.813700Z"
    }
   },
   "outputs": [],
   "source": [
    "n = np.argmax(profits)\n",
    "optim_feats = feat[n]\n",
    "max_profits = profits[n]"
   ]
  },
  {
   "cell_type": "code",
   "execution_count": 190,
   "id": "disabled-deployment",
   "metadata": {
    "ExecuteTime": {
     "end_time": "2020-01-28T02:31:42.549517Z",
     "start_time": "2020-01-28T02:31:42.544493Z"
    }
   },
   "outputs": [
    {
     "name": "stdout",
     "output_type": "stream",
     "text": [
      "110.67640099999997\n",
      "['fqtr_2']\n"
     ]
    }
   ],
   "source": [
    "print(max_profits)\n",
    "print(optim_feats)"
   ]
  },
  {
   "cell_type": "code",
   "execution_count": 192,
   "id": "acting-andrew",
   "metadata": {
    "ExecuteTime": {
     "end_time": "2020-01-28T02:33:56.360618Z",
     "start_time": "2020-01-28T02:33:55.193258Z"
    }
   },
   "outputs": [
    {
     "name": "stdout",
     "output_type": "stream",
     "text": [
      "0.5457436511960179\n",
      "0.5532359081419624\n"
     ]
    },
    {
     "data": {
      "text/plain": [
       "110.67640099999997"
      ]
     },
     "execution_count": 192,
     "metadata": {},
     "output_type": "execute_result"
    }
   ],
   "source": [
    "train_optim = train[optim_feats]\n",
    "test_optim = test[optim_feats]\n",
    "\n",
    "bg_clf.fit(train_optim,y_1)\n",
    "print(bg_clf.score(train_optim,y_1))\n",
    "pred_valid_tree = bg_clf.predict(test_optim)\n",
    "print(bg_clf.score(test_optim,y_test))\n",
    "(pred_valid_tree * df_2['next_period_return']).sum()"
   ]
  },
  {
   "cell_type": "markdown",
   "id": "herbal-contrast",
   "metadata": {},
   "source": [
    "### Backtest\n",
    "- Backtest the performance of the model with the optimal features over the period 2010 – 2018.\n",
    "---------------------------------"
   ]
  },
  {
   "cell_type": "code",
   "execution_count": 193,
   "id": "communist-north",
   "metadata": {},
   "outputs": [],
   "source": [
    "opt_training_data = [t[optim_feats] for t in training_data]\n",
    "opt_test_data = [v[optim_feats] for v in test_data]"
   ]
  },
  {
   "cell_type": "code",
   "execution_count": 194,
   "id": "located-occasion",
   "metadata": {},
   "outputs": [],
   "source": [
    "P_L = []\n",
    "x = [1]\n",
    "ret = []\n",
    "\n",
    "for i in range(len(training_labels)):\n",
    "        #print(i)\n",
    "        bg_clf.fit(opt_training_data[i],training_labels[i])\n",
    "        pred_i = bg_clf.predict(opt_test_data[i])\n",
    "        profit_i = (pred_i * test_frames[i]['next_period_return']).sum()\n",
    "        P_L.append(profit_i)\n",
    "        num_positions = len(pred_i)\n",
    "        ret.append((1.0/num_positions) * profit_i)\n",
    "        x.append(x[i] + (x[i]/num_positions) * profit_i)"
   ]
  },
  {
   "cell_type": "code",
   "execution_count": 195,
   "id": "appropriate-albany",
   "metadata": {},
   "outputs": [
    {
     "data": {
      "image/png": "[encoded data removed]",
      "text/plain": [
       "<Figure size 432x288 with 1 Axes>"
      ]
     },
     "metadata": {
      "needs_background": "light"
     },
     "output_type": "display_data"
    }
   ],
   "source": [
    "plt.plot(x);"
   ]
  },
  {
   "cell_type": "code",
   "execution_count": 196,
   "id": "ultimate-warning",
   "metadata": {},
   "outputs": [],
   "source": [
    "SPY = CRSP[['spy_cum_ret']]\n",
    "SPY = SPY[~SPY.index.duplicated(keep='first')]\n",
    "SPY = SPY.loc['2010-01-01':]"
   ]
  },
  {
   "cell_type": "code",
   "execution_count": 197,
   "id": "relative-internship",
   "metadata": {},
   "outputs": [],
   "source": [
    "SPY = SPY.resample('Q').ffill()\n",
    "SPY['spy_cum_ret'] = (SPY['spy_cum_ret'] - SPY['spy_cum_ret'][0] + 1)"
   ]
  },
  {
   "cell_type": "code",
   "execution_count": 198,
   "id": "understood-astronomy",
   "metadata": {},
   "outputs": [
    {
     "data": {
      "image/png": "[encoded data removed]",
      "text/plain": [
       "<Figure size 432x288 with 1 Axes>"
      ]
     },
     "metadata": {
      "needs_background": "light"
     },
     "output_type": "display_data"
    }
   ],
   "source": [
    "SPY['strategy'] = x\n",
    "SPY.plot();"
   ]
  },
  {
   "cell_type": "code",
   "execution_count": 199,
   "id": "rural-chess",
   "metadata": {},
   "outputs": [
    {
     "data": {
      "text/plain": [
       "<matplotlib.axes._subplots.AxesSubplot at 0x111de3b38>"
      ]
     },
     "execution_count": 199,
     "metadata": {},
     "output_type": "execute_result"
    },
    {
     "data": {
      "image/png": "[encoded data removed]",
      "text/plain": [
       "<Figure size 432x288 with 1 Axes>"
      ]
     },
     "metadata": {
      "needs_background": "light"
     },
     "output_type": "display_data"
    }
   ],
   "source": [
    "SPY.resample('Y').ffill().plot()"
   ]
  },
  {
   "cell_type": "markdown",
   "id": "valuable-breast",
   "metadata": {},
   "source": [
    "- Compute Sharpe Ratio, Information Ratio and alpha for the strategy and for the buy-and-hold strategy for SPY"
   ]
  },
  {
   "cell_type": "code",
   "execution_count": 200,
   "id": "charming-mitchell",
   "metadata": {
    "ExecuteTime": {
     "end_time": "2020-01-28T02:40:02.929451Z",
     "start_time": "2020-01-28T02:40:02.923453Z"
    }
   },
   "outputs": [
    {
     "name": "stdout",
     "output_type": "stream",
     "text": [
      "Strategy Sharpe Ratio:  0.45511666889202773\n"
     ]
    }
   ],
   "source": [
    "strategy_mean_ret = (SPY['strategy'] - 1).diff().mean()\n",
    "strategy_std = (SPY['strategy'] - 1).diff().std()\n",
    "strategy_sr = strategy_mean_ret/strategy_std\n",
    "print('Strategy Sharpe Ratio: ',strategy_sr)"
   ]
  },
  {
   "cell_type": "code",
   "execution_count": 201,
   "id": "animated-angola",
   "metadata": {
    "ExecuteTime": {
     "end_time": "2020-01-27T20:54:30.525391Z",
     "start_time": "2020-01-27T20:54:30.514395Z"
    }
   },
   "outputs": [
    {
     "name": "stdout",
     "output_type": "stream",
     "text": [
      "SP Sharpe Ratio:  0.46133385900210633\n"
     ]
    }
   ],
   "source": [
    "(SPY['spy_cum_ret'] - 1).diff().mean()\n",
    "(SPY['spy_cum_ret'] - 1).diff().std()\n",
    "print('SP Sharpe Ratio: ',(SPY['spy_cum_ret'] - 1).diff().mean()/(SPY['spy_cum_ret'] - 1).diff().std())"
   ]
  },
  {
   "cell_type": "code",
   "execution_count": 202,
   "id": "unique-pattern",
   "metadata": {
    "ExecuteTime": {
     "end_time": "2020-01-28T02:40:23.591764Z",
     "start_time": "2020-01-28T02:40:23.584764Z"
    }
   },
   "outputs": [
    {
     "data": {
      "text/plain": [
       "2.651372469722583"
      ]
     },
     "execution_count": 202,
     "metadata": {},
     "output_type": "execute_result"
    }
   ],
   "source": [
    "x[-1]"
   ]
  },
  {
   "cell_type": "code",
   "execution_count": 203,
   "id": "usual-florida",
   "metadata": {
    "ExecuteTime": {
     "end_time": "2020-01-27T20:54:39.139484Z",
     "start_time": "2020-01-27T20:54:39.134486Z"
    }
   },
   "outputs": [
    {
     "data": {
      "text/plain": [
       "2.034179999999999"
      ]
     },
     "execution_count": 203,
     "metadata": {},
     "output_type": "execute_result"
    }
   ],
   "source": [
    "SPY['spy_cum_ret'][-1]"
   ]
  },
  {
   "cell_type": "code",
   "execution_count": 204,
   "id": "posted-hindu",
   "metadata": {
    "ExecuteTime": {
     "end_time": "2020-01-28T02:41:14.814865Z",
     "start_time": "2020-01-28T02:41:14.804751Z"
    }
   },
   "outputs": [
    {
     "data": {
      "text/plain": [
       "0.2681840059202479"
      ]
     },
     "execution_count": 204,
     "metadata": {},
     "output_type": "execute_result"
    }
   ],
   "source": [
    "strategy_ret = (SPY['strategy'] - 1).diff().values[1:]\n",
    "spy_ret = (SPY['spy_cum_ret'] - 1).diff().values[1:]\n",
    "\n",
    "beta = (np.cov(spy_ret,strategy_ret)/np.var(spy_ret))[1,0]\n",
    "beta"
   ]
  },
  {
   "cell_type": "code",
   "execution_count": 205,
   "id": "finnish-scout",
   "metadata": {
    "ExecuteTime": {
     "end_time": "2020-01-28T02:41:33.922710Z",
     "start_time": "2020-01-28T02:41:33.916710Z"
    }
   },
   "outputs": [
    {
     "data": {
      "text/plain": [
       "0.38927862411023456"
      ]
     },
     "execution_count": 205,
     "metadata": {},
     "output_type": "execute_result"
    }
   ],
   "source": [
    "residual_ret = strategy_ret - beta * spy_ret\n",
    "IR = np.mean(residual_ret)/np.std(residual_ret)\n",
    "IR"
   ]
  },
  {
   "cell_type": "code",
   "execution_count": 206,
   "id": "electoral-fraud",
   "metadata": {
    "ExecuteTime": {
     "end_time": "2020-01-28T02:42:04.932079Z",
     "start_time": "2020-01-28T02:42:04.927080Z"
    }
   },
   "outputs": [
    {
     "data": {
      "text/plain": [
       "0.0392577695565709"
      ]
     },
     "execution_count": 206,
     "metadata": {},
     "output_type": "execute_result"
    }
   ],
   "source": [
    "alpha = np.mean(residual_ret)\n",
    "alpha"
   ]
  },
  {
   "cell_type": "markdown",
   "id": "respiratory-offering",
   "metadata": {},
   "source": [
    "## Max_depth 8, n_estimator 40"
   ]
  },
  {
   "cell_type": "code",
   "execution_count": 245,
   "id": "closed-miller",
   "metadata": {},
   "outputs": [],
   "source": [
    "t_clf = DecisionTreeClassifier(max_depth=8, min_samples_leaf=800)"
   ]
  },
  {
   "cell_type": "code",
   "execution_count": 246,
   "id": "systematic-charger",
   "metadata": {},
   "outputs": [],
   "source": [
    "bg_clf = BaggingClassifier(t_clf,n_estimators=40,oob_score=True,random_state=123,n_jobs=1)"
   ]
  },
  {
   "cell_type": "code",
   "execution_count": 247,
   "id": "coastal-romania",
   "metadata": {},
   "outputs": [
    {
     "data": {
      "text/plain": [
       "BaggingClassifier(base_estimator=DecisionTreeClassifier(class_weight=None, criterion='gini', max_depth=8,\n",
       "            max_features=None, max_leaf_nodes=None,\n",
       "            min_impurity_decrease=0.0, min_impurity_split=None,\n",
       "            min_samples_leaf=800, min_samples_split=2,\n",
       "            min_weight_fraction_leaf=0.0, presort=False, random_state=None,\n",
       "            splitter='best'),\n",
       "         bootstrap=True, bootstrap_features=False, max_features=1.0,\n",
       "         max_samples=1.0, n_estimators=40, n_jobs=1, oob_score=True,\n",
       "         random_state=123, verbose=0, warm_start=False)"
      ]
     },
     "execution_count": 247,
     "metadata": {},
     "output_type": "execute_result"
    }
   ],
   "source": [
    "bg_clf.fit(train,y_1)"
   ]
  },
  {
   "cell_type": "code",
   "execution_count": 248,
   "id": "continuing-anatomy",
   "metadata": {
    "ExecuteTime": {
     "end_time": "2020-01-27T20:45:50.051286Z",
     "start_time": "2020-01-27T20:45:44.475785Z"
    }
   },
   "outputs": [
    {
     "data": {
      "text/plain": [
       "0.5701249020601926"
      ]
     },
     "execution_count": 248,
     "metadata": {},
     "output_type": "execute_result"
    }
   ],
   "source": [
    "bg_clf.score(train,y_1)"
   ]
  },
  {
   "cell_type": "code",
   "execution_count": 249,
   "id": "false-young",
   "metadata": {
    "ExecuteTime": {
     "end_time": "2020-01-27T20:45:50.737425Z",
     "start_time": "2020-01-27T20:45:50.054287Z"
    }
   },
   "outputs": [
    {
     "data": {
      "text/plain": [
       "0.5608907446068198"
      ]
     },
     "execution_count": 249,
     "metadata": {},
     "output_type": "execute_result"
    }
   ],
   "source": [
    "bg_clf.score(test,y_test)"
   ]
  },
  {
   "cell_type": "code",
   "execution_count": 250,
   "id": "differential-above",
   "metadata": {
    "ExecuteTime": {
     "end_time": "2020-01-27T20:45:58.284294Z",
     "start_time": "2020-01-27T20:45:57.714295Z"
    }
   },
   "outputs": [],
   "source": [
    "pred_valid = bg_clf.predict(test)"
   ]
  },
  {
   "cell_type": "code",
   "execution_count": 251,
   "id": "unlike-consistency",
   "metadata": {
    "ExecuteTime": {
     "end_time": "2020-01-27T20:45:59.358307Z",
     "start_time": "2020-01-27T20:45:59.352309Z"
    }
   },
   "outputs": [
    {
     "data": {
      "text/plain": [
       "Counter({1: 1334, -1: 103})"
      ]
     },
     "execution_count": 251,
     "metadata": {},
     "output_type": "execute_result"
    }
   ],
   "source": [
    "Counter(pred_valid)"
   ]
  },
  {
   "cell_type": "code",
   "execution_count": 252,
   "id": "cardiac-inquiry",
   "metadata": {
    "ExecuteTime": {
     "end_time": "2020-01-27T20:46:01.132418Z",
     "start_time": "2020-01-27T20:46:01.125420Z"
    }
   },
   "outputs": [
    {
     "data": {
      "text/plain": [
       "Counter({-1: 642, 1: 795})"
      ]
     },
     "execution_count": 252,
     "metadata": {},
     "output_type": "execute_result"
    }
   ],
   "source": [
    "Counter(y_test)"
   ]
  },
  {
   "cell_type": "code",
   "execution_count": 253,
   "id": "completed-preservation",
   "metadata": {
    "ExecuteTime": {
     "end_time": "2020-01-28T02:06:43.608082Z",
     "start_time": "2020-01-28T02:06:43.602137Z"
    }
   },
   "outputs": [
    {
     "data": {
      "text/plain": [
       "0.5583260358574919"
      ]
     },
     "execution_count": 253,
     "metadata": {},
     "output_type": "execute_result"
    }
   ],
   "source": [
    "bg_clf.oob_score_"
   ]
  },
  {
   "cell_type": "code",
   "execution_count": 254,
   "id": "failing-multiple",
   "metadata": {
    "ExecuteTime": {
     "end_time": "2020-01-27T20:46:05.714986Z",
     "start_time": "2020-01-27T20:46:05.705987Z"
    }
   },
   "outputs": [
    {
     "data": {
      "text/plain": [
       "array([[ 57, 585],\n",
       "       [ 46, 749]])"
      ]
     },
     "execution_count": 254,
     "metadata": {},
     "output_type": "execute_result"
    }
   ],
   "source": [
    "confusion_matrix(y_test,pred_valid)"
   ]
  },
  {
   "cell_type": "markdown",
   "id": "local-cooler",
   "metadata": {},
   "source": [
    "### Feature importance"
   ]
  },
  {
   "cell_type": "code",
   "execution_count": 255,
   "id": "determined-brand",
   "metadata": {},
   "outputs": [
    {
     "data": {
      "text/html": [
       "<div>\n",
       "<style scoped>\n",
       "    .dataframe tbody tr th:only-of-type {\n",
       "        vertical-align: middle;\n",
       "    }\n",
       "\n",
       "    .dataframe tbody tr th {\n",
       "        vertical-align: top;\n",
       "    }\n",
       "\n",
       "    .dataframe thead th {\n",
       "        text-align: right;\n",
       "    }\n",
       "</style>\n",
       "<table border=\"1\" class=\"dataframe\">\n",
       "  <thead>\n",
       "    <tr style=\"text-align: right;\">\n",
       "      <th></th>\n",
       "      <th>cols</th>\n",
       "      <th>feat_imp</th>\n",
       "    </tr>\n",
       "  </thead>\n",
       "  <tbody>\n",
       "    <tr>\n",
       "      <th>105</th>\n",
       "      <td>cf_yield</td>\n",
       "      <td>0.195778</td>\n",
       "    </tr>\n",
       "    <tr>\n",
       "      <th>180</th>\n",
       "      <td>fqtr_2</td>\n",
       "      <td>0.097067</td>\n",
       "    </tr>\n",
       "    <tr>\n",
       "      <th>95</th>\n",
       "      <td>evmq</td>\n",
       "      <td>0.043926</td>\n",
       "    </tr>\n",
       "    <tr>\n",
       "      <th>55</th>\n",
       "      <td>teqq</td>\n",
       "      <td>0.041348</td>\n",
       "    </tr>\n",
       "    <tr>\n",
       "      <th>147</th>\n",
       "      <td>debt_ebitdaq</td>\n",
       "      <td>0.034296</td>\n",
       "    </tr>\n",
       "    <tr>\n",
       "      <th>152</th>\n",
       "      <td>ocf_lctq</td>\n",
       "      <td>0.028881</td>\n",
       "    </tr>\n",
       "    <tr>\n",
       "      <th>175</th>\n",
       "      <td>sale_nwcq</td>\n",
       "      <td>0.023911</td>\n",
       "    </tr>\n",
       "    <tr>\n",
       "      <th>170</th>\n",
       "      <td>at_turnq</td>\n",
       "      <td>0.022759</td>\n",
       "    </tr>\n",
       "    <tr>\n",
       "      <th>118</th>\n",
       "      <td>roaq</td>\n",
       "      <td>0.017262</td>\n",
       "    </tr>\n",
       "    <tr>\n",
       "      <th>71</th>\n",
       "      <td>dpcy</td>\n",
       "      <td>0.016938</td>\n",
       "    </tr>\n",
       "    <tr>\n",
       "      <th>87</th>\n",
       "      <td>prccq</td>\n",
       "      <td>0.016097</td>\n",
       "    </tr>\n",
       "    <tr>\n",
       "      <th>162</th>\n",
       "      <td>de_ratioq</td>\n",
       "      <td>0.015226</td>\n",
       "    </tr>\n",
       "    <tr>\n",
       "      <th>120</th>\n",
       "      <td>efftaxq</td>\n",
       "      <td>0.014139</td>\n",
       "    </tr>\n",
       "    <tr>\n",
       "      <th>143</th>\n",
       "      <td>cash_ltq</td>\n",
       "      <td>0.014056</td>\n",
       "    </tr>\n",
       "    <tr>\n",
       "      <th>156</th>\n",
       "      <td>fcf_yield</td>\n",
       "      <td>0.011983</td>\n",
       "    </tr>\n",
       "    <tr>\n",
       "      <th>145</th>\n",
       "      <td>rect_actq</td>\n",
       "      <td>0.011592</td>\n",
       "    </tr>\n",
       "    <tr>\n",
       "      <th>182</th>\n",
       "      <td>fqtr_4</td>\n",
       "      <td>0.010786</td>\n",
       "    </tr>\n",
       "  </tbody>\n",
       "</table>\n",
       "</div>"
      ],
      "text/plain": [
       "             cols  feat_imp\n",
       "105      cf_yield  0.195778\n",
       "180        fqtr_2  0.097067\n",
       "95           evmq  0.043926\n",
       "55           teqq  0.041348\n",
       "147  debt_ebitdaq  0.034296\n",
       "152      ocf_lctq  0.028881\n",
       "175     sale_nwcq  0.023911\n",
       "170      at_turnq  0.022759\n",
       "118          roaq  0.017262\n",
       "71           dpcy  0.016938\n",
       "87          prccq  0.016097\n",
       "162     de_ratioq  0.015226\n",
       "120       efftaxq  0.014139\n",
       "143      cash_ltq  0.014056\n",
       "156     fcf_yield  0.011983\n",
       "145     rect_actq  0.011592\n",
       "182        fqtr_4  0.010786"
      ]
     },
     "execution_count": 255,
     "metadata": {},
     "output_type": "execute_result"
    }
   ],
   "source": [
    "fi = baggingtree_feat_importance(bg_clf,train)\n",
    "features = fi[(fi['feat_imp'] > 0.01)]\n",
    "features"
   ]
  },
  {
   "cell_type": "code",
   "execution_count": 256,
   "id": "traditional-buying",
   "metadata": {},
   "outputs": [
    {
     "data": {
      "image/png": "[encoded data removed]",
      "text/plain": [
       "<Figure size 864x504 with 1 Axes>"
      ]
     },
     "metadata": {
      "needs_background": "light"
     },
     "output_type": "display_data"
    }
   ],
   "source": [
    "plot_fi(features);"
   ]
  },
  {
   "cell_type": "code",
   "execution_count": 257,
   "id": "governmental-peripheral",
   "metadata": {},
   "outputs": [],
   "source": [
    "train = train[features['cols'].values]\n",
    "test = test[features['cols'].values]"
   ]
  },
  {
   "cell_type": "code",
   "execution_count": 258,
   "id": "welsh-junior",
   "metadata": {},
   "outputs": [
    {
     "data": {
      "text/plain": [
       "0.571553671014426"
      ]
     },
     "execution_count": 258,
     "metadata": {},
     "output_type": "execute_result"
    }
   ],
   "source": [
    "bg_clf.fit(train,y_1)\n",
    "bg_clf.score(train,y_1)"
   ]
  },
  {
   "cell_type": "code",
   "execution_count": 259,
   "id": "educated-gospel",
   "metadata": {
    "ExecuteTime": {
     "end_time": "2020-01-27T20:45:50.737425Z",
     "start_time": "2020-01-27T20:45:50.054287Z"
    }
   },
   "outputs": [
    {
     "data": {
      "text/plain": [
       "0.5615866388308977"
      ]
     },
     "execution_count": 259,
     "metadata": {},
     "output_type": "execute_result"
    }
   ],
   "source": [
    "bg_clf.score(test,y_test)"
   ]
  },
  {
   "cell_type": "code",
   "execution_count": 260,
   "id": "handy-division",
   "metadata": {
    "ExecuteTime": {
     "end_time": "2020-01-27T20:45:58.284294Z",
     "start_time": "2020-01-27T20:45:57.714295Z"
    }
   },
   "outputs": [],
   "source": [
    "pred_valid = bg_clf.predict(test)"
   ]
  },
  {
   "cell_type": "code",
   "execution_count": 261,
   "id": "experimental-honolulu",
   "metadata": {
    "ExecuteTime": {
     "end_time": "2020-01-28T02:06:43.608082Z",
     "start_time": "2020-01-28T02:06:43.602137Z"
    }
   },
   "outputs": [
    {
     "data": {
      "text/plain": [
       "0.5610913951237498"
      ]
     },
     "execution_count": 261,
     "metadata": {},
     "output_type": "execute_result"
    }
   ],
   "source": [
    "bg_clf.oob_score_"
   ]
  },
  {
   "cell_type": "markdown",
   "id": "least-alexandria",
   "metadata": {},
   "source": [
    "### Profit importance"
   ]
  },
  {
   "cell_type": "code",
   "execution_count": 262,
   "id": "intellectual-cleanup",
   "metadata": {},
   "outputs": [
    {
     "name": "stdout",
     "output_type": "stream",
     "text": [
      "CPU times: user 4 µs, sys: 1 µs, total: 5 µs\n",
      "Wall time: 10 µs\n"
     ]
    },
    {
     "data": {
      "text/html": [
       "<div>\n",
       "<style scoped>\n",
       "    .dataframe tbody tr th:only-of-type {\n",
       "        vertical-align: middle;\n",
       "    }\n",
       "\n",
       "    .dataframe tbody tr th {\n",
       "        vertical-align: top;\n",
       "    }\n",
       "\n",
       "    .dataframe thead th {\n",
       "        text-align: right;\n",
       "    }\n",
       "</style>\n",
       "<table border=\"1\" class=\"dataframe\">\n",
       "  <thead>\n",
       "    <tr style=\"text-align: right;\">\n",
       "      <th></th>\n",
       "      <th>cols</th>\n",
       "      <th>pi_imp</th>\n",
       "    </tr>\n",
       "  </thead>\n",
       "  <tbody>\n",
       "    <tr>\n",
       "      <th>0</th>\n",
       "      <td>cf_yield</td>\n",
       "      <td>80.631674</td>\n",
       "    </tr>\n",
       "    <tr>\n",
       "      <th>2</th>\n",
       "      <td>evmq</td>\n",
       "      <td>89.108940</td>\n",
       "    </tr>\n",
       "    <tr>\n",
       "      <th>1</th>\n",
       "      <td>fqtr_2</td>\n",
       "      <td>92.954430</td>\n",
       "    </tr>\n",
       "    <tr>\n",
       "      <th>13</th>\n",
       "      <td>cash_ltq</td>\n",
       "      <td>94.313956</td>\n",
       "    </tr>\n",
       "    <tr>\n",
       "      <th>6</th>\n",
       "      <td>sale_nwcq</td>\n",
       "      <td>95.158099</td>\n",
       "    </tr>\n",
       "    <tr>\n",
       "      <th>10</th>\n",
       "      <td>prccq</td>\n",
       "      <td>95.685496</td>\n",
       "    </tr>\n",
       "    <tr>\n",
       "      <th>11</th>\n",
       "      <td>de_ratioq</td>\n",
       "      <td>95.695336</td>\n",
       "    </tr>\n",
       "    <tr>\n",
       "      <th>15</th>\n",
       "      <td>rect_actq</td>\n",
       "      <td>95.916743</td>\n",
       "    </tr>\n",
       "    <tr>\n",
       "      <th>12</th>\n",
       "      <td>efftaxq</td>\n",
       "      <td>96.130383</td>\n",
       "    </tr>\n",
       "    <tr>\n",
       "      <th>16</th>\n",
       "      <td>fqtr_4</td>\n",
       "      <td>96.134548</td>\n",
       "    </tr>\n",
       "    <tr>\n",
       "      <th>7</th>\n",
       "      <td>at_turnq</td>\n",
       "      <td>96.163336</td>\n",
       "    </tr>\n",
       "    <tr>\n",
       "      <th>4</th>\n",
       "      <td>debt_ebitdaq</td>\n",
       "      <td>96.304433</td>\n",
       "    </tr>\n",
       "    <tr>\n",
       "      <th>8</th>\n",
       "      <td>roaq</td>\n",
       "      <td>96.401247</td>\n",
       "    </tr>\n",
       "    <tr>\n",
       "      <th>9</th>\n",
       "      <td>dpcy</td>\n",
       "      <td>96.499762</td>\n",
       "    </tr>\n",
       "    <tr>\n",
       "      <th>3</th>\n",
       "      <td>teqq</td>\n",
       "      <td>97.388584</td>\n",
       "    </tr>\n",
       "    <tr>\n",
       "      <th>14</th>\n",
       "      <td>fcf_yield</td>\n",
       "      <td>97.602603</td>\n",
       "    </tr>\n",
       "    <tr>\n",
       "      <th>5</th>\n",
       "      <td>ocf_lctq</td>\n",
       "      <td>98.959480</td>\n",
       "    </tr>\n",
       "  </tbody>\n",
       "</table>\n",
       "</div>"
      ],
      "text/plain": [
       "            cols     pi_imp\n",
       "0       cf_yield  80.631674\n",
       "2           evmq  89.108940\n",
       "1         fqtr_2  92.954430\n",
       "13      cash_ltq  94.313956\n",
       "6      sale_nwcq  95.158099\n",
       "10         prccq  95.685496\n",
       "11     de_ratioq  95.695336\n",
       "15     rect_actq  95.916743\n",
       "12       efftaxq  96.130383\n",
       "16        fqtr_4  96.134548\n",
       "7       at_turnq  96.163336\n",
       "4   debt_ebitdaq  96.304433\n",
       "8           roaq  96.401247\n",
       "9           dpcy  96.499762\n",
       "3           teqq  97.388584\n",
       "14     fcf_yield  97.602603\n",
       "5       ocf_lctq  98.959480"
      ]
     },
     "execution_count": 262,
     "metadata": {},
     "output_type": "execute_result"
    }
   ],
   "source": [
    "%time \n",
    "pi = baggingtree_profit_importance(bg_clf,test,df_2['next_period_return'])\n",
    "pi"
   ]
  },
  {
   "cell_type": "code",
   "execution_count": 263,
   "id": "wired-mason",
   "metadata": {},
   "outputs": [
    {
     "name": "stdout",
     "output_type": "stream",
     "text": [
      "98.658639\n",
      "97.358711\n",
      "98.505705\n",
      "100.328159\n",
      "98.89021699999998\n",
      "90.49487699999997\n",
      "93.734479\n",
      "94.38246699999999\n",
      "93.434669\n",
      "93.306297\n",
      "89.69808899999997\n",
      "89.27828299999996\n",
      "86.72910499999998\n",
      "87.77672299999999\n",
      "83.20275900000001\n",
      "91.70212699999999\n"
     ]
    }
   ],
   "source": [
    "profits = []\n",
    "\n",
    "feat=[]\n",
    "\n",
    "#train1 = train.copy()\n",
    "#test1 = test.copy()\n",
    "\n",
    "while len(train.columns)>1:\n",
    "    bg_clf.fit(train,y_1)\n",
    "    pi = baggingtree_profit_importance(bg_clf,test,y_test)\n",
    "\n",
    "    col_to_drop = pi[pi['pi_imp'] == pi['pi_imp'].max()]['cols'].iloc[0]\n",
    "    train.drop(col_to_drop,axis=1,inplace=True)\n",
    "    test.drop(col_to_drop,axis=1,inplace=True)\n",
    "    bg_clf.fit(train,y_1)\n",
    "    \n",
    "    fi = baggingtree_feat_importance(bg_clf,train)\n",
    "    features = fi[(fi['feat_imp'] > 0.00)]\n",
    "    train = train[features['cols'].values]\n",
    "    test = test[features['cols'].values]\n",
    "    bg_clf.fit(train,y_1)\n",
    "    \n",
    "    pred_valid = bg_clf.predict(test)\n",
    "    profits.append((pred_valid * df_2['next_period_return']).sum())\n",
    "    print((pred_valid * df_2['next_period_return']).sum())\n",
    "    feat.append(features['cols'].values) \n",
    "    \n"
   ]
  },
  {
   "cell_type": "code",
   "execution_count": 264,
   "id": "apart-coalition",
   "metadata": {},
   "outputs": [
    {
     "data": {
      "image/png": "[encoded data removed]",
      "text/plain": [
       "<Figure size 432x288 with 1 Axes>"
      ]
     },
     "metadata": {
      "needs_background": "light"
     },
     "output_type": "display_data"
    }
   ],
   "source": [
    "plt.plot(profits);"
   ]
  },
  {
   "cell_type": "code",
   "execution_count": 265,
   "id": "former-uzbekistan",
   "metadata": {
    "ExecuteTime": {
     "end_time": "2020-01-28T02:31:40.816966Z",
     "start_time": "2020-01-28T02:31:40.813700Z"
    }
   },
   "outputs": [],
   "source": [
    "n = np.argmax(profits)\n",
    "optim_feats = feat[n]\n",
    "max_profits = profits[n]"
   ]
  },
  {
   "cell_type": "code",
   "execution_count": 266,
   "id": "front-webcam",
   "metadata": {
    "ExecuteTime": {
     "end_time": "2020-01-28T02:31:42.549517Z",
     "start_time": "2020-01-28T02:31:42.544493Z"
    }
   },
   "outputs": [
    {
     "name": "stdout",
     "output_type": "stream",
     "text": [
      "100.328159\n",
      "['cf_yield' 'fqtr_2' 'sale_nwcq' 'debt_ebitdaq' 'evmq' 'de_ratioq' 'prccq'\n",
      " 'teqq' 'dpcy' 'cash_ltq' 'fcf_yield' 'fqtr_4' 'efftaxq']\n"
     ]
    }
   ],
   "source": [
    "print(max_profits)\n",
    "print(optim_feats)"
   ]
  },
  {
   "cell_type": "code",
   "execution_count": 268,
   "id": "weekly-algeria",
   "metadata": {
    "ExecuteTime": {
     "end_time": "2020-01-28T02:33:56.360618Z",
     "start_time": "2020-01-28T02:33:55.193258Z"
    }
   },
   "outputs": [
    {
     "name": "stdout",
     "output_type": "stream",
     "text": [
      "0.571415403051113\n",
      "0.5685455810716771\n"
     ]
    },
    {
     "data": {
      "text/plain": [
       "100.328159"
      ]
     },
     "execution_count": 268,
     "metadata": {},
     "output_type": "execute_result"
    }
   ],
   "source": [
    "train_optim = train[optim_feats]\n",
    "test_optim = test[optim_feats]\n",
    "\n",
    "bg_clf.fit(train_optim,y_1)\n",
    "print(bg_clf.score(train_optim,y_1))\n",
    "pred_valid_tree = bg_clf.predict(test_optim)\n",
    "print(bg_clf.score(test_optim,y_test))\n",
    "(pred_valid_tree * df_2['next_period_return']).sum()"
   ]
  },
  {
   "cell_type": "markdown",
   "id": "actual-steal",
   "metadata": {},
   "source": [
    "### Backtest\n",
    "- Backtest the performance of the model with the optimal features over the period 2010 – 2018.\n",
    "---------------------------------"
   ]
  },
  {
   "cell_type": "code",
   "execution_count": 269,
   "id": "placed-oasis",
   "metadata": {},
   "outputs": [],
   "source": [
    "opt_training_data = [t[optim_feats] for t in training_data]\n",
    "opt_test_data = [v[optim_feats] for v in test_data]"
   ]
  },
  {
   "cell_type": "code",
   "execution_count": 270,
   "id": "organizational-equation",
   "metadata": {},
   "outputs": [],
   "source": [
    "P_L = []\n",
    "x = [1]\n",
    "ret = []\n",
    "\n",
    "for i in range(len(training_labels)):\n",
    "        #print(i)\n",
    "        bg_clf.fit(opt_training_data[i],training_labels[i])\n",
    "        pred_i = bg_clf.predict(opt_test_data[i])\n",
    "        profit_i = (pred_i * test_frames[i]['next_period_return']).sum()\n",
    "        P_L.append(profit_i)\n",
    "        num_positions = len(pred_i)\n",
    "        ret.append((1.0/num_positions) * profit_i)\n",
    "        x.append(x[i] + (x[i]/num_positions) * profit_i)"
   ]
  },
  {
   "cell_type": "code",
   "execution_count": 271,
   "id": "advisory-friend",
   "metadata": {},
   "outputs": [
    {
     "data": {
      "image/png": "[encoded data removed]",
      "text/plain": [
       "<Figure size 432x288 with 1 Axes>"
      ]
     },
     "metadata": {
      "needs_background": "light"
     },
     "output_type": "display_data"
    }
   ],
   "source": [
    "plt.plot(x);"
   ]
  },
  {
   "cell_type": "code",
   "execution_count": 272,
   "id": "fixed-pencil",
   "metadata": {},
   "outputs": [],
   "source": [
    "SPY = CRSP[['spy_cum_ret']]\n",
    "SPY = SPY[~SPY.index.duplicated(keep='first')]\n",
    "SPY = SPY.loc['2010-01-01':]"
   ]
  },
  {
   "cell_type": "code",
   "execution_count": 273,
   "id": "clinical-traffic",
   "metadata": {},
   "outputs": [],
   "source": [
    "SPY = SPY.resample('Q').ffill()\n",
    "SPY['spy_cum_ret'] = (SPY['spy_cum_ret'] - SPY['spy_cum_ret'][0] + 1)"
   ]
  },
  {
   "cell_type": "code",
   "execution_count": 274,
   "id": "front-patio",
   "metadata": {},
   "outputs": [
    {
     "data": {
      "image/png": "[encoded data removed]",
      "text/plain": [
       "<Figure size 432x288 with 1 Axes>"
      ]
     },
     "metadata": {
      "needs_background": "light"
     },
     "output_type": "display_data"
    }
   ],
   "source": [
    "SPY['strategy'] = x\n",
    "SPY.plot();"
   ]
  },
  {
   "cell_type": "code",
   "execution_count": 275,
   "id": "dress-breakfast",
   "metadata": {},
   "outputs": [
    {
     "data": {
      "text/plain": [
       "<matplotlib.axes._subplots.AxesSubplot at 0x11549edd8>"
      ]
     },
     "execution_count": 275,
     "metadata": {},
     "output_type": "execute_result"
    },
    {
     "data": {
      "image/png": "[encoded data removed]",
      "text/plain": [
       "<Figure size 432x288 with 1 Axes>"
      ]
     },
     "metadata": {
      "needs_background": "light"
     },
     "output_type": "display_data"
    }
   ],
   "source": [
    "SPY.resample('Y').ffill().plot()"
   ]
  },
  {
   "cell_type": "markdown",
   "id": "honest-indonesian",
   "metadata": {},
   "source": [
    "- Compute Sharpe Ratio, Information Ratio and alpha for the strategy and for the buy-and-hold strategy for SPY"
   ]
  },
  {
   "cell_type": "code",
   "execution_count": 276,
   "id": "resistant-italian",
   "metadata": {
    "ExecuteTime": {
     "end_time": "2020-01-28T02:40:02.929451Z",
     "start_time": "2020-01-28T02:40:02.923453Z"
    }
   },
   "outputs": [
    {
     "name": "stdout",
     "output_type": "stream",
     "text": [
      "Strategy Sharpe Ratio:  0.7412705019881866\n"
     ]
    }
   ],
   "source": [
    "strategy_mean_ret = (SPY['strategy'] - 1).diff().mean()\n",
    "strategy_std = (SPY['strategy'] - 1).diff().std()\n",
    "strategy_sr = strategy_mean_ret/strategy_std\n",
    "print('Strategy Sharpe Ratio: ',strategy_sr)"
   ]
  },
  {
   "cell_type": "code",
   "execution_count": 277,
   "id": "surprising-dodge",
   "metadata": {
    "ExecuteTime": {
     "end_time": "2020-01-27T20:54:30.525391Z",
     "start_time": "2020-01-27T20:54:30.514395Z"
    }
   },
   "outputs": [
    {
     "name": "stdout",
     "output_type": "stream",
     "text": [
      "SP Sharpe Ratio:  0.46133385900210633\n"
     ]
    }
   ],
   "source": [
    "(SPY['spy_cum_ret'] - 1).diff().mean()\n",
    "(SPY['spy_cum_ret'] - 1).diff().std()\n",
    "print('SP Sharpe Ratio: ',(SPY['spy_cum_ret'] - 1).diff().mean()/(SPY['spy_cum_ret'] - 1).diff().std())"
   ]
  },
  {
   "cell_type": "code",
   "execution_count": 278,
   "id": "delayed-riverside",
   "metadata": {
    "ExecuteTime": {
     "end_time": "2020-01-28T02:40:23.591764Z",
     "start_time": "2020-01-28T02:40:23.584764Z"
    }
   },
   "outputs": [
    {
     "data": {
      "text/plain": [
       "2.5000931042041725"
      ]
     },
     "execution_count": 278,
     "metadata": {},
     "output_type": "execute_result"
    }
   ],
   "source": [
    "x[-1]"
   ]
  },
  {
   "cell_type": "code",
   "execution_count": 279,
   "id": "persistent-sphere",
   "metadata": {
    "ExecuteTime": {
     "end_time": "2020-01-27T20:54:39.139484Z",
     "start_time": "2020-01-27T20:54:39.134486Z"
    }
   },
   "outputs": [
    {
     "data": {
      "text/plain": [
       "2.034179999999999"
      ]
     },
     "execution_count": 279,
     "metadata": {},
     "output_type": "execute_result"
    }
   ],
   "source": [
    "SPY['spy_cum_ret'][-1]"
   ]
  },
  {
   "cell_type": "code",
   "execution_count": 280,
   "id": "first-quantum",
   "metadata": {
    "ExecuteTime": {
     "end_time": "2020-01-28T02:41:14.814865Z",
     "start_time": "2020-01-28T02:41:14.804751Z"
    }
   },
   "outputs": [
    {
     "data": {
      "text/plain": [
       "0.36969575070315985"
      ]
     },
     "execution_count": 280,
     "metadata": {},
     "output_type": "execute_result"
    }
   ],
   "source": [
    "strategy_ret = (SPY['strategy'] - 1).diff().values[1:]\n",
    "spy_ret = (SPY['spy_cum_ret'] - 1).diff().values[1:]\n",
    "\n",
    "beta = (np.cov(spy_ret,strategy_ret)/np.var(spy_ret))[1,0]\n",
    "beta"
   ]
  },
  {
   "cell_type": "code",
   "execution_count": 281,
   "id": "sporting-repository",
   "metadata": {
    "ExecuteTime": {
     "end_time": "2020-01-28T02:41:33.922710Z",
     "start_time": "2020-01-28T02:41:33.916710Z"
    }
   },
   "outputs": [
    {
     "data": {
      "text/plain": [
       "0.6107725118181019"
      ]
     },
     "execution_count": 281,
     "metadata": {},
     "output_type": "execute_result"
    }
   ],
   "source": [
    "residual_ret = strategy_ret - beta * spy_ret\n",
    "IR = np.mean(residual_ret)/np.std(residual_ret)\n",
    "IR"
   ]
  },
  {
   "cell_type": "code",
   "execution_count": 282,
   "id": "forty-assets",
   "metadata": {
    "ExecuteTime": {
     "end_time": "2020-01-28T02:42:04.932079Z",
     "start_time": "2020-01-28T02:42:04.927080Z"
    }
   },
   "outputs": [
    {
     "data": {
      "text/plain": [
       "0.03193603293548511"
      ]
     },
     "execution_count": 282,
     "metadata": {},
     "output_type": "execute_result"
    }
   ],
   "source": [
    "alpha = np.mean(residual_ret)\n",
    "alpha"
   ]
  },
  {
   "cell_type": "markdown",
   "id": "corresponding-examination",
   "metadata": {},
   "source": [
    "# `Question2`\n",
    "\n",
    "- Insert a column in the data set with entries: 2 if the stock return is more then 5% higher than the SPY return, 1 if it is more than 1% but less than 5% higher, 0 if it is between -1% and 1%, -2 if the stock underperforms the SPY by more than -5% and -1 if the performance is between -1% and -5%\n"
   ]
  },
  {
   "cell_type": "code",
   "execution_count": 283,
   "id": "hispanic-palestinian",
   "metadata": {},
   "outputs": [],
   "source": [
    "def f(x):\n",
    "    if x > 0.05:\n",
    "        return 2\n",
    "    elif 0.05 >= x > 0.01:\n",
    "        return 1\n",
    "    elif 0.01 >= x > -0.01:\n",
    "        return 0\n",
    "    elif -0.01 >= x > -0.05:\n",
    "        return -1\n",
    "    else:\n",
    "        return -2"
   ]
  },
  {
   "cell_type": "code",
   "execution_count": 284,
   "id": "young-sword",
   "metadata": {},
   "outputs": [],
   "source": [
    "data['rel_performance'] = \\\n",
    "data['pred_rel_return'].apply(f)"
   ]
  },
  {
   "cell_type": "code",
   "execution_count": 285,
   "id": "restricted-share",
   "metadata": {},
   "outputs": [
    {
     "data": {
      "text/html": [
       "<div>\n",
       "<style scoped>\n",
       "    .dataframe tbody tr th:only-of-type {\n",
       "        vertical-align: middle;\n",
       "    }\n",
       "\n",
       "    .dataframe tbody tr th {\n",
       "        vertical-align: top;\n",
       "    }\n",
       "\n",
       "    .dataframe thead th {\n",
       "        text-align: right;\n",
       "    }\n",
       "</style>\n",
       "<table border=\"1\" class=\"dataframe\">\n",
       "  <thead>\n",
       "    <tr style=\"text-align: right;\">\n",
       "      <th></th>\n",
       "      <th>ticker</th>\n",
       "      <th>actq</th>\n",
       "      <th>apq</th>\n",
       "      <th>atq</th>\n",
       "      <th>ceqq</th>\n",
       "      <th>cheq</th>\n",
       "      <th>cogsq</th>\n",
       "      <th>csh12q</th>\n",
       "      <th>cshfdq</th>\n",
       "      <th>cshiq</th>\n",
       "      <th>...</th>\n",
       "      <th>sector_code_817.0</th>\n",
       "      <th>sector_code_822.0</th>\n",
       "      <th>sector_code_823.0</th>\n",
       "      <th>sector_code_825.0</th>\n",
       "      <th>sector_code_830.0</th>\n",
       "      <th>sector_code_835.0</th>\n",
       "      <th>sector_code_840.0</th>\n",
       "      <th>sector_code_845.0</th>\n",
       "      <th>sector_code_850.0</th>\n",
       "      <th>rel_performance</th>\n",
       "    </tr>\n",
       "    <tr>\n",
       "      <th>date</th>\n",
       "      <th></th>\n",
       "      <th></th>\n",
       "      <th></th>\n",
       "      <th></th>\n",
       "      <th></th>\n",
       "      <th></th>\n",
       "      <th></th>\n",
       "      <th></th>\n",
       "      <th></th>\n",
       "      <th></th>\n",
       "      <th></th>\n",
       "      <th></th>\n",
       "      <th></th>\n",
       "      <th></th>\n",
       "      <th></th>\n",
       "      <th></th>\n",
       "      <th></th>\n",
       "      <th></th>\n",
       "      <th></th>\n",
       "      <th></th>\n",
       "      <th></th>\n",
       "    </tr>\n",
       "  </thead>\n",
       "  <tbody>\n",
       "    <tr>\n",
       "      <th>2000-02-09</th>\n",
       "      <td>CSCO</td>\n",
       "      <td>7722.000</td>\n",
       "      <td>482.000</td>\n",
       "      <td>21391.000</td>\n",
       "      <td>16523.000</td>\n",
       "      <td>3968.000</td>\n",
       "      <td>1422.000</td>\n",
       "      <td>3374.1250</td>\n",
       "      <td>3648.000</td>\n",
       "      <td>3445.000</td>\n",
       "      <td>...</td>\n",
       "      <td>0</td>\n",
       "      <td>0</td>\n",
       "      <td>0</td>\n",
       "      <td>0</td>\n",
       "      <td>0</td>\n",
       "      <td>0</td>\n",
       "      <td>0</td>\n",
       "      <td>0</td>\n",
       "      <td>0</td>\n",
       "      <td>-1</td>\n",
       "    </tr>\n",
       "    <tr>\n",
       "      <th>2000-02-09</th>\n",
       "      <td>ROP</td>\n",
       "      <td>172.725</td>\n",
       "      <td>19.662</td>\n",
       "      <td>474.649</td>\n",
       "      <td>239.432</td>\n",
       "      <td>3.198</td>\n",
       "      <td>47.634</td>\n",
       "      <td>30.2688</td>\n",
       "      <td>31.217</td>\n",
       "      <td>0.000</td>\n",
       "      <td>...</td>\n",
       "      <td>0</td>\n",
       "      <td>0</td>\n",
       "      <td>0</td>\n",
       "      <td>0</td>\n",
       "      <td>0</td>\n",
       "      <td>0</td>\n",
       "      <td>0</td>\n",
       "      <td>0</td>\n",
       "      <td>0</td>\n",
       "      <td>2</td>\n",
       "    </tr>\n",
       "    <tr>\n",
       "      <th>2000-02-10</th>\n",
       "      <td>CMOS</td>\n",
       "      <td>240.767</td>\n",
       "      <td>27.044</td>\n",
       "      <td>376.536</td>\n",
       "      <td>209.411</td>\n",
       "      <td>68.625</td>\n",
       "      <td>43.023</td>\n",
       "      <td>21.4360</td>\n",
       "      <td>23.753</td>\n",
       "      <td>0.000</td>\n",
       "      <td>...</td>\n",
       "      <td>0</td>\n",
       "      <td>0</td>\n",
       "      <td>0</td>\n",
       "      <td>0</td>\n",
       "      <td>0</td>\n",
       "      <td>0</td>\n",
       "      <td>0</td>\n",
       "      <td>0</td>\n",
       "      <td>0</td>\n",
       "      <td>2</td>\n",
       "    </tr>\n",
       "    <tr>\n",
       "      <th>2000-02-11</th>\n",
       "      <td>DELL</td>\n",
       "      <td>7681.000</td>\n",
       "      <td>3538.000</td>\n",
       "      <td>11471.000</td>\n",
       "      <td>5308.000</td>\n",
       "      <td>4132.000</td>\n",
       "      <td>5452.000</td>\n",
       "      <td>2536.0000</td>\n",
       "      <td>2731.000</td>\n",
       "      <td>2575.000</td>\n",
       "      <td>...</td>\n",
       "      <td>0</td>\n",
       "      <td>0</td>\n",
       "      <td>0</td>\n",
       "      <td>0</td>\n",
       "      <td>0</td>\n",
       "      <td>0</td>\n",
       "      <td>0</td>\n",
       "      <td>0</td>\n",
       "      <td>0</td>\n",
       "      <td>2</td>\n",
       "    </tr>\n",
       "    <tr>\n",
       "      <th>2000-02-15</th>\n",
       "      <td>VAL</td>\n",
       "      <td>507.082</td>\n",
       "      <td>139.497</td>\n",
       "      <td>1094.080</td>\n",
       "      <td>402.382</td>\n",
       "      <td>27.605</td>\n",
       "      <td>221.366</td>\n",
       "      <td>43.1858</td>\n",
       "      <td>43.687</td>\n",
       "      <td>53.321</td>\n",
       "      <td>...</td>\n",
       "      <td>0</td>\n",
       "      <td>0</td>\n",
       "      <td>0</td>\n",
       "      <td>0</td>\n",
       "      <td>0</td>\n",
       "      <td>0</td>\n",
       "      <td>0</td>\n",
       "      <td>0</td>\n",
       "      <td>0</td>\n",
       "      <td>1</td>\n",
       "    </tr>\n",
       "  </tbody>\n",
       "</table>\n",
       "<p>5 rows × 733 columns</p>\n",
       "</div>"
      ],
      "text/plain": [
       "           ticker      actq       apq        atq       ceqq      cheq  \\\n",
       "date                                                                    \n",
       "2000-02-09   CSCO  7722.000   482.000  21391.000  16523.000  3968.000   \n",
       "2000-02-09    ROP   172.725    19.662    474.649    239.432     3.198   \n",
       "2000-02-10   CMOS   240.767    27.044    376.536    209.411    68.625   \n",
       "2000-02-11   DELL  7681.000  3538.000  11471.000   5308.000  4132.000   \n",
       "2000-02-15    VAL   507.082   139.497   1094.080    402.382    27.605   \n",
       "\n",
       "               cogsq     csh12q    cshfdq     cshiq  ...  sector_code_817.0  \\\n",
       "date                                                 ...                      \n",
       "2000-02-09  1422.000  3374.1250  3648.000  3445.000  ...                  0   \n",
       "2000-02-09    47.634    30.2688    31.217     0.000  ...                  0   \n",
       "2000-02-10    43.023    21.4360    23.753     0.000  ...                  0   \n",
       "2000-02-11  5452.000  2536.0000  2731.000  2575.000  ...                  0   \n",
       "2000-02-15   221.366    43.1858    43.687    53.321  ...                  0   \n",
       "\n",
       "            sector_code_822.0  sector_code_823.0  sector_code_825.0  \\\n",
       "date                                                                  \n",
       "2000-02-09                  0                  0                  0   \n",
       "2000-02-09                  0                  0                  0   \n",
       "2000-02-10                  0                  0                  0   \n",
       "2000-02-11                  0                  0                  0   \n",
       "2000-02-15                  0                  0                  0   \n",
       "\n",
       "            sector_code_830.0  sector_code_835.0  sector_code_840.0  \\\n",
       "date                                                                  \n",
       "2000-02-09                  0                  0                  0   \n",
       "2000-02-09                  0                  0                  0   \n",
       "2000-02-10                  0                  0                  0   \n",
       "2000-02-11                  0                  0                  0   \n",
       "2000-02-15                  0                  0                  0   \n",
       "\n",
       "            sector_code_845.0  sector_code_850.0  rel_performance  \n",
       "date                                                               \n",
       "2000-02-09                  0                  0               -1  \n",
       "2000-02-09                  0                  0                2  \n",
       "2000-02-10                  0                  0                2  \n",
       "2000-02-11                  0                  0                2  \n",
       "2000-02-15                  0                  0                1  \n",
       "\n",
       "[5 rows x 733 columns]"
      ]
     },
     "execution_count": 285,
     "metadata": {},
     "output_type": "execute_result"
    }
   ],
   "source": [
    "data.head()"
   ]
  },
  {
   "cell_type": "markdown",
   "id": "metropolitan-chance",
   "metadata": {},
   "source": [
    "- Use the period 2007-2010 to train the model on the data set constructed above and construct a set of features that optimizes the profit of the long-short strategy on the quarter 2009-07-30 – 2009-10-30"
   ]
  },
  {
   "cell_type": "code",
   "execution_count": 286,
   "id": "laughing-skating",
   "metadata": {},
   "outputs": [],
   "source": [
    "df_1 = data.loc['2007-01-01':'2010-12-31']\n",
    "df_2 = data.loc['2009-07-30':'2009-10-30']"
   ]
  },
  {
   "cell_type": "code",
   "execution_count": 424,
   "id": "soviet-freedom",
   "metadata": {},
   "outputs": [],
   "source": [
    "train = df_1.reset_index().drop(['ticker','date',\n",
    "                                   'next_period_return',\n",
    "                                   'spy_next_period_return',\n",
    "                                   'rel_performance','pred_rel_return',\n",
    "                                  'return', 'cum_ret', 'spy_cum_ret'],axis=1)\n",
    "test = df_2.reset_index().drop(['ticker','date',\n",
    "                                   'next_period_return',\n",
    "                                   'spy_next_period_return',\n",
    "                                   'rel_performance','pred_rel_return',\n",
    "                                  'return', 'cum_ret', 'spy_cum_ret'],axis=1)"
   ]
  },
  {
   "cell_type": "code",
   "execution_count": 288,
   "id": "marine-custom",
   "metadata": {},
   "outputs": [],
   "source": [
    "train_stock_returns = df_1['next_period_return']\n",
    "test_stock_returns = df_2['next_period_return']\n",
    "y_1 = df_1['rel_performance']\n",
    "y_test = df_2['rel_performance']\n",
    "y_1 = y_1.values\n",
    "y_test = y_test.values"
   ]
  },
  {
   "cell_type": "markdown",
   "id": "regional-livestock",
   "metadata": {},
   "source": [
    "## Max_depth 6, n_estimator 40"
   ]
  },
  {
   "cell_type": "code",
   "execution_count": 289,
   "id": "about-cache",
   "metadata": {},
   "outputs": [],
   "source": [
    "t_clf = DecisionTreeClassifier(max_depth=6, min_samples_leaf=800)"
   ]
  },
  {
   "cell_type": "code",
   "execution_count": 290,
   "id": "exciting-indication",
   "metadata": {},
   "outputs": [],
   "source": [
    "bg_clf = BaggingClassifier(t_clf,n_estimators=40,oob_score=True,random_state=123,n_jobs=1)"
   ]
  },
  {
   "cell_type": "code",
   "execution_count": 291,
   "id": "bored-operations",
   "metadata": {},
   "outputs": [
    {
     "data": {
      "text/plain": [
       "BaggingClassifier(base_estimator=DecisionTreeClassifier(class_weight=None, criterion='gini', max_depth=6,\n",
       "            max_features=None, max_leaf_nodes=None,\n",
       "            min_impurity_decrease=0.0, min_impurity_split=None,\n",
       "            min_samples_leaf=800, min_samples_split=2,\n",
       "            min_weight_fraction_leaf=0.0, presort=False, random_state=None,\n",
       "            splitter='best'),\n",
       "         bootstrap=True, bootstrap_features=False, max_features=1.0,\n",
       "         max_samples=1.0, n_estimators=40, n_jobs=1, oob_score=True,\n",
       "         random_state=123, verbose=0, warm_start=False)"
      ]
     },
     "execution_count": 291,
     "metadata": {},
     "output_type": "execute_result"
    }
   ],
   "source": [
    "bg_clf.fit(train,y_1)"
   ]
  },
  {
   "cell_type": "code",
   "execution_count": 292,
   "id": "wooden-purpose",
   "metadata": {
    "ExecuteTime": {
     "end_time": "2020-01-27T20:45:50.051286Z",
     "start_time": "2020-01-27T20:45:44.475785Z"
    }
   },
   "outputs": [
    {
     "data": {
      "text/plain": [
       "0.41217679863575607"
      ]
     },
     "execution_count": 292,
     "metadata": {},
     "output_type": "execute_result"
    }
   ],
   "source": [
    "bg_clf.score(train,y_1)"
   ]
  },
  {
   "cell_type": "code",
   "execution_count": 293,
   "id": "guilty-tobacco",
   "metadata": {
    "ExecuteTime": {
     "end_time": "2020-01-27T20:45:50.737425Z",
     "start_time": "2020-01-27T20:45:50.054287Z"
    }
   },
   "outputs": [
    {
     "data": {
      "text/plain": [
       "0.37647877522616563"
      ]
     },
     "execution_count": 293,
     "metadata": {},
     "output_type": "execute_result"
    }
   ],
   "source": [
    "bg_clf.score(test,y_test)"
   ]
  },
  {
   "cell_type": "code",
   "execution_count": 294,
   "id": "organic-police",
   "metadata": {
    "ExecuteTime": {
     "end_time": "2020-01-27T20:45:58.284294Z",
     "start_time": "2020-01-27T20:45:57.714295Z"
    }
   },
   "outputs": [],
   "source": [
    "pred_valid = bg_clf.predict(test)"
   ]
  },
  {
   "cell_type": "code",
   "execution_count": 295,
   "id": "piano-beads",
   "metadata": {
    "ExecuteTime": {
     "end_time": "2020-01-27T20:45:59.358307Z",
     "start_time": "2020-01-27T20:45:59.352309Z"
    }
   },
   "outputs": [
    {
     "data": {
      "text/plain": [
       "Counter({2: 1412, -2: 25})"
      ]
     },
     "execution_count": 295,
     "metadata": {},
     "output_type": "execute_result"
    }
   ],
   "source": [
    "Counter(pred_valid)"
   ]
  },
  {
   "cell_type": "code",
   "execution_count": 296,
   "id": "random-paint",
   "metadata": {
    "ExecuteTime": {
     "end_time": "2020-01-27T20:46:01.132418Z",
     "start_time": "2020-01-27T20:46:01.125420Z"
    }
   },
   "outputs": [
    {
     "data": {
      "text/plain": [
       "Counter({-1: 205, 2: 545, 1: 203, -2: 368, 0: 116})"
      ]
     },
     "execution_count": 296,
     "metadata": {},
     "output_type": "execute_result"
    }
   ],
   "source": [
    "Counter(y_test)"
   ]
  },
  {
   "cell_type": "code",
   "execution_count": 297,
   "id": "divine-wisdom",
   "metadata": {
    "ExecuteTime": {
     "end_time": "2020-01-28T02:06:43.608082Z",
     "start_time": "2020-01-28T02:06:43.602137Z"
    }
   },
   "outputs": [
    {
     "data": {
      "text/plain": [
       "0.4087200995529336"
      ]
     },
     "execution_count": 297,
     "metadata": {},
     "output_type": "execute_result"
    }
   ],
   "source": [
    "bg_clf.oob_score_"
   ]
  },
  {
   "cell_type": "code",
   "execution_count": 298,
   "id": "daily-press",
   "metadata": {
    "ExecuteTime": {
     "end_time": "2020-01-27T20:46:05.714986Z",
     "start_time": "2020-01-27T20:46:05.705987Z"
    }
   },
   "outputs": [
    {
     "data": {
      "text/plain": [
       "array([[  6,   0,   0,   0, 362],\n",
       "       [  3,   0,   0,   0, 202],\n",
       "       [  2,   0,   0,   0, 114],\n",
       "       [  4,   0,   0,   0, 199],\n",
       "       [ 10,   0,   0,   0, 535]])"
      ]
     },
     "execution_count": 298,
     "metadata": {},
     "output_type": "execute_result"
    }
   ],
   "source": [
    "confusion_matrix(y_test,pred_valid)"
   ]
  },
  {
   "cell_type": "markdown",
   "id": "crucial-dimension",
   "metadata": {},
   "source": [
    "### Feature importance"
   ]
  },
  {
   "cell_type": "code",
   "execution_count": 299,
   "id": "polyphonic-arthritis",
   "metadata": {},
   "outputs": [
    {
     "data": {
      "text/html": [
       "<div>\n",
       "<style scoped>\n",
       "    .dataframe tbody tr th:only-of-type {\n",
       "        vertical-align: middle;\n",
       "    }\n",
       "\n",
       "    .dataframe tbody tr th {\n",
       "        vertical-align: top;\n",
       "    }\n",
       "\n",
       "    .dataframe thead th {\n",
       "        text-align: right;\n",
       "    }\n",
       "</style>\n",
       "<table border=\"1\" class=\"dataframe\">\n",
       "  <thead>\n",
       "    <tr style=\"text-align: right;\">\n",
       "      <th></th>\n",
       "      <th>cols</th>\n",
       "      <th>feat_imp</th>\n",
       "    </tr>\n",
       "  </thead>\n",
       "  <tbody>\n",
       "    <tr>\n",
       "      <th>55</th>\n",
       "      <td>teqq</td>\n",
       "      <td>0.145735</td>\n",
       "    </tr>\n",
       "    <tr>\n",
       "      <th>105</th>\n",
       "      <td>cf_yield</td>\n",
       "      <td>0.113380</td>\n",
       "    </tr>\n",
       "    <tr>\n",
       "      <th>152</th>\n",
       "      <td>ocf_lctq</td>\n",
       "      <td>0.053518</td>\n",
       "    </tr>\n",
       "    <tr>\n",
       "      <th>86</th>\n",
       "      <td>dvpspq</td>\n",
       "      <td>0.051371</td>\n",
       "    </tr>\n",
       "    <tr>\n",
       "      <th>180</th>\n",
       "      <td>fqtr_2</td>\n",
       "      <td>0.047085</td>\n",
       "    </tr>\n",
       "    <tr>\n",
       "      <th>108</th>\n",
       "      <td>dprq</td>\n",
       "      <td>0.045844</td>\n",
       "    </tr>\n",
       "    <tr>\n",
       "      <th>156</th>\n",
       "      <td>fcf_yield</td>\n",
       "      <td>0.040796</td>\n",
       "    </tr>\n",
       "    <tr>\n",
       "      <th>87</th>\n",
       "      <td>prccq</td>\n",
       "      <td>0.032837</td>\n",
       "    </tr>\n",
       "    <tr>\n",
       "      <th>95</th>\n",
       "      <td>evmq</td>\n",
       "      <td>0.031599</td>\n",
       "    </tr>\n",
       "    <tr>\n",
       "      <th>76</th>\n",
       "      <td>oancfy</td>\n",
       "      <td>0.024306</td>\n",
       "    </tr>\n",
       "    <tr>\n",
       "      <th>92</th>\n",
       "      <td>market_cap</td>\n",
       "      <td>0.018242</td>\n",
       "    </tr>\n",
       "    <tr>\n",
       "      <th>71</th>\n",
       "      <td>dpcy</td>\n",
       "      <td>0.017780</td>\n",
       "    </tr>\n",
       "    <tr>\n",
       "      <th>147</th>\n",
       "      <td>debt_ebitdaq</td>\n",
       "      <td>0.016580</td>\n",
       "    </tr>\n",
       "    <tr>\n",
       "      <th>135</th>\n",
       "      <td>pretret_earnatq</td>\n",
       "      <td>0.014844</td>\n",
       "    </tr>\n",
       "    <tr>\n",
       "      <th>14</th>\n",
       "      <td>dlttq</td>\n",
       "      <td>0.014841</td>\n",
       "    </tr>\n",
       "    <tr>\n",
       "      <th>145</th>\n",
       "      <td>rect_actq</td>\n",
       "      <td>0.011920</td>\n",
       "    </tr>\n",
       "  </tbody>\n",
       "</table>\n",
       "</div>"
      ],
      "text/plain": [
       "                cols  feat_imp\n",
       "55              teqq  0.145735\n",
       "105         cf_yield  0.113380\n",
       "152         ocf_lctq  0.053518\n",
       "86            dvpspq  0.051371\n",
       "180           fqtr_2  0.047085\n",
       "108             dprq  0.045844\n",
       "156        fcf_yield  0.040796\n",
       "87             prccq  0.032837\n",
       "95              evmq  0.031599\n",
       "76            oancfy  0.024306\n",
       "92        market_cap  0.018242\n",
       "71              dpcy  0.017780\n",
       "147     debt_ebitdaq  0.016580\n",
       "135  pretret_earnatq  0.014844\n",
       "14             dlttq  0.014841\n",
       "145        rect_actq  0.011920"
      ]
     },
     "execution_count": 299,
     "metadata": {},
     "output_type": "execute_result"
    }
   ],
   "source": [
    "fi = baggingtree_feat_importance(bg_clf,train)\n",
    "features = fi[(fi['feat_imp'] > 0.01)]\n",
    "features"
   ]
  },
  {
   "cell_type": "code",
   "execution_count": 300,
   "id": "generic-brake",
   "metadata": {},
   "outputs": [
    {
     "data": {
      "image/png": "[encoded data removed]",
      "text/plain": [
       "<Figure size 864x504 with 1 Axes>"
      ]
     },
     "metadata": {
      "needs_background": "light"
     },
     "output_type": "display_data"
    }
   ],
   "source": [
    "plot_fi(features);"
   ]
  },
  {
   "cell_type": "code",
   "execution_count": 301,
   "id": "arctic-celebrity",
   "metadata": {},
   "outputs": [],
   "source": [
    "train = train[features['cols'].values]\n",
    "test = test[features['cols'].values]"
   ]
  },
  {
   "cell_type": "code",
   "execution_count": 302,
   "id": "linear-poland",
   "metadata": {},
   "outputs": [
    {
     "data": {
      "text/plain": [
       "0.4136055675899894"
      ]
     },
     "execution_count": 302,
     "metadata": {},
     "output_type": "execute_result"
    }
   ],
   "source": [
    "bg_clf.fit(train,y_1)\n",
    "bg_clf.score(train,y_1)"
   ]
  },
  {
   "cell_type": "code",
   "execution_count": 303,
   "id": "stock-offset",
   "metadata": {
    "ExecuteTime": {
     "end_time": "2020-01-27T20:45:50.737425Z",
     "start_time": "2020-01-27T20:45:50.054287Z"
    }
   },
   "outputs": [
    {
     "data": {
      "text/plain": [
       "0.3757828810020877"
      ]
     },
     "execution_count": 303,
     "metadata": {},
     "output_type": "execute_result"
    }
   ],
   "source": [
    "bg_clf.score(test,y_test)"
   ]
  },
  {
   "cell_type": "code",
   "execution_count": 304,
   "id": "perceived-uruguay",
   "metadata": {
    "ExecuteTime": {
     "end_time": "2020-01-27T20:45:58.284294Z",
     "start_time": "2020-01-27T20:45:57.714295Z"
    }
   },
   "outputs": [],
   "source": [
    "pred_valid = bg_clf.predict(test)"
   ]
  },
  {
   "cell_type": "code",
   "execution_count": 305,
   "id": "adjusted-mumbai",
   "metadata": {
    "ExecuteTime": {
     "end_time": "2020-01-28T02:06:43.608082Z",
     "start_time": "2020-01-28T02:06:43.602137Z"
    }
   },
   "outputs": [
    {
     "data": {
      "text/plain": [
       "0.4096879752961239"
      ]
     },
     "execution_count": 305,
     "metadata": {},
     "output_type": "execute_result"
    }
   ],
   "source": [
    "bg_clf.oob_score_"
   ]
  },
  {
   "cell_type": "markdown",
   "id": "intense-complement",
   "metadata": {},
   "source": [
    "### Profit importance"
   ]
  },
  {
   "cell_type": "code",
   "execution_count": 306,
   "id": "african-christmas",
   "metadata": {},
   "outputs": [
    {
     "name": "stdout",
     "output_type": "stream",
     "text": [
      "CPU times: user 4 µs, sys: 1e+03 ns, total: 5 µs\n",
      "Wall time: 9.06 µs\n"
     ]
    },
    {
     "data": {
      "text/html": [
       "<div>\n",
       "<style scoped>\n",
       "    .dataframe tbody tr th:only-of-type {\n",
       "        vertical-align: middle;\n",
       "    }\n",
       "\n",
       "    .dataframe tbody tr th {\n",
       "        vertical-align: top;\n",
       "    }\n",
       "\n",
       "    .dataframe thead th {\n",
       "        text-align: right;\n",
       "    }\n",
       "</style>\n",
       "<table border=\"1\" class=\"dataframe\">\n",
       "  <thead>\n",
       "    <tr style=\"text-align: right;\">\n",
       "      <th></th>\n",
       "      <th>cols</th>\n",
       "      <th>pi_imp</th>\n",
       "    </tr>\n",
       "  </thead>\n",
       "  <tbody>\n",
       "    <tr>\n",
       "      <th>7</th>\n",
       "      <td>prccq</td>\n",
       "      <td>210.003359</td>\n",
       "    </tr>\n",
       "    <tr>\n",
       "      <th>3</th>\n",
       "      <td>dvpspq</td>\n",
       "      <td>210.539787</td>\n",
       "    </tr>\n",
       "    <tr>\n",
       "      <th>11</th>\n",
       "      <td>dpcy</td>\n",
       "      <td>211.458143</td>\n",
       "    </tr>\n",
       "    <tr>\n",
       "      <th>8</th>\n",
       "      <td>evmq</td>\n",
       "      <td>211.556749</td>\n",
       "    </tr>\n",
       "    <tr>\n",
       "      <th>5</th>\n",
       "      <td>dprq</td>\n",
       "      <td>211.854104</td>\n",
       "    </tr>\n",
       "    <tr>\n",
       "      <th>12</th>\n",
       "      <td>debt_ebitdaq</td>\n",
       "      <td>212.005064</td>\n",
       "    </tr>\n",
       "    <tr>\n",
       "      <th>10</th>\n",
       "      <td>market_cap</td>\n",
       "      <td>212.246730</td>\n",
       "    </tr>\n",
       "    <tr>\n",
       "      <th>13</th>\n",
       "      <td>pretret_earnatq</td>\n",
       "      <td>213.200023</td>\n",
       "    </tr>\n",
       "    <tr>\n",
       "      <th>4</th>\n",
       "      <td>fqtr_2</td>\n",
       "      <td>213.640969</td>\n",
       "    </tr>\n",
       "    <tr>\n",
       "      <th>15</th>\n",
       "      <td>rect_actq</td>\n",
       "      <td>213.657024</td>\n",
       "    </tr>\n",
       "    <tr>\n",
       "      <th>14</th>\n",
       "      <td>dlttq</td>\n",
       "      <td>213.871852</td>\n",
       "    </tr>\n",
       "    <tr>\n",
       "      <th>1</th>\n",
       "      <td>cf_yield</td>\n",
       "      <td>214.118529</td>\n",
       "    </tr>\n",
       "    <tr>\n",
       "      <th>2</th>\n",
       "      <td>ocf_lctq</td>\n",
       "      <td>214.955157</td>\n",
       "    </tr>\n",
       "    <tr>\n",
       "      <th>9</th>\n",
       "      <td>oancfy</td>\n",
       "      <td>215.928498</td>\n",
       "    </tr>\n",
       "    <tr>\n",
       "      <th>6</th>\n",
       "      <td>fcf_yield</td>\n",
       "      <td>216.904451</td>\n",
       "    </tr>\n",
       "    <tr>\n",
       "      <th>0</th>\n",
       "      <td>teqq</td>\n",
       "      <td>217.924969</td>\n",
       "    </tr>\n",
       "  </tbody>\n",
       "</table>\n",
       "</div>"
      ],
      "text/plain": [
       "               cols      pi_imp\n",
       "7             prccq  210.003359\n",
       "3            dvpspq  210.539787\n",
       "11             dpcy  211.458143\n",
       "8              evmq  211.556749\n",
       "5              dprq  211.854104\n",
       "12     debt_ebitdaq  212.005064\n",
       "10       market_cap  212.246730\n",
       "13  pretret_earnatq  213.200023\n",
       "4            fqtr_2  213.640969\n",
       "15        rect_actq  213.657024\n",
       "14            dlttq  213.871852\n",
       "1          cf_yield  214.118529\n",
       "2          ocf_lctq  214.955157\n",
       "9            oancfy  215.928498\n",
       "6         fcf_yield  216.904451\n",
       "0              teqq  217.924969"
      ]
     },
     "execution_count": 306,
     "metadata": {},
     "output_type": "execute_result"
    }
   ],
   "source": [
    "%time \n",
    "pi = baggingtree_profit_importance(bg_clf,test,df_2['next_period_return'])\n",
    "pi"
   ]
  },
  {
   "cell_type": "code",
   "execution_count": 307,
   "id": "previous-square",
   "metadata": {},
   "outputs": [
    {
     "name": "stdout",
     "output_type": "stream",
     "text": [
      "191.74618999999998\n",
      "189.30367399999997\n",
      "192.41240999999997\n",
      "191.77887399999997\n",
      "194.96428599999996\n",
      "195.30798199999998\n",
      "190.411402\n",
      "191.142766\n",
      "189.95985000000002\n",
      "188.66352599999996\n",
      "186.05321399999997\n",
      "166.55563\n",
      "166.86014600000004\n",
      "151.50999399999995\n",
      "221.35280199999994\n"
     ]
    }
   ],
   "source": [
    "profits = []\n",
    "\n",
    "feat=[]\n",
    "\n",
    "#train1 = train.copy()\n",
    "#test1 = test.copy()\n",
    "\n",
    "while len(train.columns)>1:\n",
    "    bg_clf.fit(train,y_1)\n",
    "    pi = baggingtree_profit_importance(bg_clf,test,y_test)\n",
    "\n",
    "    col_to_drop = pi[pi['pi_imp'] == pi['pi_imp'].max()]['cols'].iloc[0]\n",
    "    train.drop(col_to_drop,axis=1,inplace=True)\n",
    "    test.drop(col_to_drop,axis=1,inplace=True)\n",
    "    bg_clf.fit(train,y_1)\n",
    "    \n",
    "    fi = baggingtree_feat_importance(bg_clf,train)\n",
    "    features = fi[(fi['feat_imp'] > 0.00)]\n",
    "    train = train[features['cols'].values]\n",
    "    test = test[features['cols'].values]\n",
    "    bg_clf.fit(train,y_1)\n",
    "    \n",
    "    pred_valid = bg_clf.predict(test)\n",
    "    profits.append((pred_valid * df_2['next_period_return']).sum())\n",
    "    print((pred_valid * df_2['next_period_return']).sum())\n",
    "    feat.append(features['cols'].values) \n",
    "    \n"
   ]
  },
  {
   "cell_type": "code",
   "execution_count": 308,
   "id": "excited-fitting",
   "metadata": {},
   "outputs": [
    {
     "data": {
      "image/png": "[encoded data removed]",
      "text/plain": [
       "<Figure size 432x288 with 1 Axes>"
      ]
     },
     "metadata": {
      "needs_background": "light"
     },
     "output_type": "display_data"
    }
   ],
   "source": [
    "plt.plot(profits);"
   ]
  },
  {
   "cell_type": "code",
   "execution_count": 309,
   "id": "retired-characteristic",
   "metadata": {
    "ExecuteTime": {
     "end_time": "2020-01-28T02:31:40.816966Z",
     "start_time": "2020-01-28T02:31:40.813700Z"
    }
   },
   "outputs": [],
   "source": [
    "n = np.argmax(profits)\n",
    "optim_feats = feat[n]\n",
    "max_profits = profits[n]"
   ]
  },
  {
   "cell_type": "code",
   "execution_count": 310,
   "id": "regular-prague",
   "metadata": {
    "ExecuteTime": {
     "end_time": "2020-01-28T02:31:42.549517Z",
     "start_time": "2020-01-28T02:31:42.544493Z"
    }
   },
   "outputs": [
    {
     "name": "stdout",
     "output_type": "stream",
     "text": [
      "221.35280199999994\n",
      "['fqtr_2']\n"
     ]
    }
   ],
   "source": [
    "print(max_profits)\n",
    "print(optim_feats)"
   ]
  },
  {
   "cell_type": "code",
   "execution_count": 312,
   "id": "indie-wright",
   "metadata": {
    "ExecuteTime": {
     "end_time": "2020-01-28T02:33:56.360618Z",
     "start_time": "2020-01-28T02:33:55.193258Z"
    }
   },
   "outputs": [
    {
     "name": "stdout",
     "output_type": "stream",
     "text": [
      "0.39724385859796285\n",
      "0.3792623521224774\n"
     ]
    },
    {
     "data": {
      "text/plain": [
       "221.35280199999994"
      ]
     },
     "execution_count": 312,
     "metadata": {},
     "output_type": "execute_result"
    }
   ],
   "source": [
    "train_optim = train[optim_feats]\n",
    "test_optim = test[optim_feats]\n",
    "\n",
    "bg_clf.fit(train_optim,y_1)\n",
    "print(bg_clf.score(train_optim,y_1))\n",
    "pred_valid_tree = bg_clf.predict(test_optim)\n",
    "print(bg_clf.score(test_optim,y_test))\n",
    "(pred_valid_tree * df_2['next_period_return']).sum()"
   ]
  },
  {
   "cell_type": "markdown",
   "id": "featured-listening",
   "metadata": {},
   "source": [
    "### Backtest\n",
    "- Backtest the performance of the model with the optimal features over the period 2010 – 2018.\n",
    "---------------------------------"
   ]
  },
  {
   "cell_type": "code",
   "execution_count": 313,
   "id": "precious-mixture",
   "metadata": {},
   "outputs": [],
   "source": [
    "opt_training_data = [t[optim_feats] for t in training_data]\n",
    "opt_test_data = [v[optim_feats] for v in test_data]"
   ]
  },
  {
   "cell_type": "code",
   "execution_count": 314,
   "id": "specified-balance",
   "metadata": {},
   "outputs": [],
   "source": [
    "P_L = []\n",
    "x = [1]\n",
    "ret = []\n",
    "\n",
    "for i in range(len(training_labels)):\n",
    "        #print(i)\n",
    "        bg_clf.fit(opt_training_data[i],training_labels[i])\n",
    "        pred_i = bg_clf.predict(opt_test_data[i])\n",
    "        profit_i = (pred_i * test_frames[i]['next_period_return']).sum()\n",
    "        P_L.append(profit_i)\n",
    "        num_positions = len(pred_i)\n",
    "        ret.append((1.0/num_positions) * profit_i)\n",
    "        x.append(x[i] + (x[i]/num_positions) * profit_i)"
   ]
  },
  {
   "cell_type": "code",
   "execution_count": 315,
   "id": "quiet-frank",
   "metadata": {},
   "outputs": [
    {
     "data": {
      "image/png": "[encoded data removed]",
      "text/plain": [
       "<Figure size 432x288 with 1 Axes>"
      ]
     },
     "metadata": {
      "needs_background": "light"
     },
     "output_type": "display_data"
    }
   ],
   "source": [
    "plt.plot(x);"
   ]
  },
  {
   "cell_type": "code",
   "execution_count": 316,
   "id": "radio-hayes",
   "metadata": {},
   "outputs": [],
   "source": [
    "SPY = CRSP[['spy_cum_ret']]\n",
    "SPY = SPY[~SPY.index.duplicated(keep='first')]\n",
    "SPY = SPY.loc['2010-01-01':]"
   ]
  },
  {
   "cell_type": "code",
   "execution_count": 317,
   "id": "formed-granny",
   "metadata": {},
   "outputs": [],
   "source": [
    "SPY = SPY.resample('Q').ffill()\n",
    "SPY['spy_cum_ret'] = (SPY['spy_cum_ret'] - SPY['spy_cum_ret'][0] + 1)"
   ]
  },
  {
   "cell_type": "code",
   "execution_count": 318,
   "id": "electrical-period",
   "metadata": {},
   "outputs": [
    {
     "data": {
      "image/png": "[encoded data removed]",
      "text/plain": [
       "<Figure size 432x288 with 1 Axes>"
      ]
     },
     "metadata": {
      "needs_background": "light"
     },
     "output_type": "display_data"
    }
   ],
   "source": [
    "SPY['strategy'] = x\n",
    "SPY.plot();"
   ]
  },
  {
   "cell_type": "code",
   "execution_count": 319,
   "id": "optimum-applicant",
   "metadata": {},
   "outputs": [
    {
     "data": {
      "text/plain": [
       "<matplotlib.axes._subplots.AxesSubplot at 0x114914be0>"
      ]
     },
     "execution_count": 319,
     "metadata": {},
     "output_type": "execute_result"
    },
    {
     "data": {
      "image/png": "[encoded data removed]",
      "text/plain": [
       "<Figure size 432x288 with 1 Axes>"
      ]
     },
     "metadata": {
      "needs_background": "light"
     },
     "output_type": "display_data"
    }
   ],
   "source": [
    "SPY.resample('Y').ffill().plot()"
   ]
  },
  {
   "cell_type": "markdown",
   "id": "mechanical-flight",
   "metadata": {},
   "source": [
    "- Compute Sharpe Ratio, Information Ratio and alpha for the strategy and for the buy-and-hold strategy for SPY"
   ]
  },
  {
   "cell_type": "code",
   "execution_count": 320,
   "id": "general-function",
   "metadata": {
    "ExecuteTime": {
     "end_time": "2020-01-28T02:40:02.929451Z",
     "start_time": "2020-01-28T02:40:02.923453Z"
    }
   },
   "outputs": [
    {
     "name": "stdout",
     "output_type": "stream",
     "text": [
      "Strategy Sharpe Ratio:  0.3348103336984732\n"
     ]
    }
   ],
   "source": [
    "strategy_mean_ret = (SPY['strategy'] - 1).diff().mean()\n",
    "strategy_std = (SPY['strategy'] - 1).diff().std()\n",
    "strategy_sr = strategy_mean_ret/strategy_std\n",
    "print('Strategy Sharpe Ratio: ',strategy_sr)"
   ]
  },
  {
   "cell_type": "code",
   "execution_count": 321,
   "id": "welcome-aside",
   "metadata": {
    "ExecuteTime": {
     "end_time": "2020-01-27T20:54:30.525391Z",
     "start_time": "2020-01-27T20:54:30.514395Z"
    }
   },
   "outputs": [
    {
     "name": "stdout",
     "output_type": "stream",
     "text": [
      "SP Sharpe Ratio:  0.46133385900210633\n"
     ]
    }
   ],
   "source": [
    "(SPY['spy_cum_ret'] - 1).diff().mean()\n",
    "(SPY['spy_cum_ret'] - 1).diff().std()\n",
    "print('SP Sharpe Ratio: ',(SPY['spy_cum_ret'] - 1).diff().mean()/(SPY['spy_cum_ret'] - 1).diff().std())"
   ]
  },
  {
   "cell_type": "code",
   "execution_count": 322,
   "id": "hollywood-arlington",
   "metadata": {
    "ExecuteTime": {
     "end_time": "2020-01-28T02:40:23.591764Z",
     "start_time": "2020-01-28T02:40:23.584764Z"
    }
   },
   "outputs": [
    {
     "data": {
      "text/plain": [
       "5.452361751730794"
      ]
     },
     "execution_count": 322,
     "metadata": {},
     "output_type": "execute_result"
    }
   ],
   "source": [
    "x[-1]"
   ]
  },
  {
   "cell_type": "code",
   "execution_count": 323,
   "id": "precise-victim",
   "metadata": {
    "ExecuteTime": {
     "end_time": "2020-01-27T20:54:39.139484Z",
     "start_time": "2020-01-27T20:54:39.134486Z"
    }
   },
   "outputs": [
    {
     "data": {
      "text/plain": [
       "2.034179999999999"
      ]
     },
     "execution_count": 323,
     "metadata": {},
     "output_type": "execute_result"
    }
   ],
   "source": [
    "SPY['spy_cum_ret'][-1]"
   ]
  },
  {
   "cell_type": "code",
   "execution_count": 324,
   "id": "backed-crash",
   "metadata": {
    "ExecuteTime": {
     "end_time": "2020-01-28T02:41:14.814865Z",
     "start_time": "2020-01-28T02:41:14.804751Z"
    }
   },
   "outputs": [
    {
     "data": {
      "text/plain": [
       "0.6983907683732514"
      ]
     },
     "execution_count": 324,
     "metadata": {},
     "output_type": "execute_result"
    }
   ],
   "source": [
    "strategy_ret = (SPY['strategy'] - 1).diff().values[1:]\n",
    "spy_ret = (SPY['spy_cum_ret'] - 1).diff().values[1:]\n",
    "\n",
    "beta = (np.cov(spy_ret,strategy_ret)/np.var(spy_ret))[1,0]\n",
    "beta"
   ]
  },
  {
   "cell_type": "code",
   "execution_count": 325,
   "id": "photographic-chinese",
   "metadata": {
    "ExecuteTime": {
     "end_time": "2020-01-28T02:41:33.922710Z",
     "start_time": "2020-01-28T02:41:33.916710Z"
    }
   },
   "outputs": [
    {
     "data": {
      "text/plain": [
       "0.2864705044761436"
      ]
     },
     "execution_count": 325,
     "metadata": {},
     "output_type": "execute_result"
    }
   ],
   "source": [
    "residual_ret = strategy_ret - beta * spy_ret\n",
    "IR = np.mean(residual_ret)/np.std(residual_ret)\n",
    "IR"
   ]
  },
  {
   "cell_type": "code",
   "execution_count": 326,
   "id": "stone-coalition",
   "metadata": {
    "ExecuteTime": {
     "end_time": "2020-01-28T02:42:04.932079Z",
     "start_time": "2020-01-28T02:42:04.927080Z"
    }
   },
   "outputs": [
    {
     "data": {
      "text/plain": [
       "0.10657428533984414"
      ]
     },
     "execution_count": 326,
     "metadata": {},
     "output_type": "execute_result"
    }
   ],
   "source": [
    "alpha = np.mean(residual_ret)\n",
    "alpha"
   ]
  },
  {
   "cell_type": "markdown",
   "id": "multiple-factor",
   "metadata": {},
   "source": [
    "## Max_depth 8, n_estimator 40"
   ]
  },
  {
   "cell_type": "code",
   "execution_count": 327,
   "id": "graphic-algorithm",
   "metadata": {},
   "outputs": [],
   "source": [
    "t_clf = DecisionTreeClassifier(max_depth=8, min_samples_leaf=800)"
   ]
  },
  {
   "cell_type": "code",
   "execution_count": 328,
   "id": "steady-large",
   "metadata": {},
   "outputs": [],
   "source": [
    "bg_clf = BaggingClassifier(t_clf,n_estimators=40,oob_score=True,random_state=123,n_jobs=1)"
   ]
  },
  {
   "cell_type": "code",
   "execution_count": 329,
   "id": "gross-anthony",
   "metadata": {},
   "outputs": [
    {
     "data": {
      "text/plain": [
       "BaggingClassifier(base_estimator=DecisionTreeClassifier(class_weight=None, criterion='gini', max_depth=8,\n",
       "            max_features=None, max_leaf_nodes=None,\n",
       "            min_impurity_decrease=0.0, min_impurity_split=None,\n",
       "            min_samples_leaf=800, min_samples_split=2,\n",
       "            min_weight_fraction_leaf=0.0, presort=False, random_state=None,\n",
       "            splitter='best'),\n",
       "         bootstrap=True, bootstrap_features=False, max_features=1.0,\n",
       "         max_samples=1.0, n_estimators=40, n_jobs=1, oob_score=True,\n",
       "         random_state=123, verbose=0, warm_start=False)"
      ]
     },
     "execution_count": 329,
     "metadata": {},
     "output_type": "execute_result"
    }
   ],
   "source": [
    "bg_clf.fit(train,y_1)"
   ]
  },
  {
   "cell_type": "code",
   "execution_count": 330,
   "id": "noble-split",
   "metadata": {
    "ExecuteTime": {
     "end_time": "2020-01-27T20:45:50.051286Z",
     "start_time": "2020-01-27T20:45:44.475785Z"
    }
   },
   "outputs": [
    {
     "data": {
      "text/plain": [
       "0.4119924413513389"
      ]
     },
     "execution_count": 330,
     "metadata": {},
     "output_type": "execute_result"
    }
   ],
   "source": [
    "bg_clf.score(train,y_1)"
   ]
  },
  {
   "cell_type": "code",
   "execution_count": 331,
   "id": "exterior-disco",
   "metadata": {
    "ExecuteTime": {
     "end_time": "2020-01-27T20:45:50.737425Z",
     "start_time": "2020-01-27T20:45:50.054287Z"
    }
   },
   "outputs": [
    {
     "data": {
      "text/plain": [
       "0.37647877522616563"
      ]
     },
     "execution_count": 331,
     "metadata": {},
     "output_type": "execute_result"
    }
   ],
   "source": [
    "bg_clf.score(test,y_test)"
   ]
  },
  {
   "cell_type": "code",
   "execution_count": 332,
   "id": "variable-hours",
   "metadata": {
    "ExecuteTime": {
     "end_time": "2020-01-27T20:45:58.284294Z",
     "start_time": "2020-01-27T20:45:57.714295Z"
    }
   },
   "outputs": [],
   "source": [
    "pred_valid = bg_clf.predict(test)"
   ]
  },
  {
   "cell_type": "code",
   "execution_count": 333,
   "id": "turkish-chart",
   "metadata": {
    "ExecuteTime": {
     "end_time": "2020-01-27T20:45:59.358307Z",
     "start_time": "2020-01-27T20:45:59.352309Z"
    }
   },
   "outputs": [
    {
     "data": {
      "text/plain": [
       "Counter({2: 1412, -2: 25})"
      ]
     },
     "execution_count": 333,
     "metadata": {},
     "output_type": "execute_result"
    }
   ],
   "source": [
    "Counter(pred_valid)"
   ]
  },
  {
   "cell_type": "code",
   "execution_count": 334,
   "id": "junior-penguin",
   "metadata": {
    "ExecuteTime": {
     "end_time": "2020-01-27T20:46:01.132418Z",
     "start_time": "2020-01-27T20:46:01.125420Z"
    }
   },
   "outputs": [
    {
     "data": {
      "text/plain": [
       "Counter({-1: 205, 2: 545, 1: 203, -2: 368, 0: 116})"
      ]
     },
     "execution_count": 334,
     "metadata": {},
     "output_type": "execute_result"
    }
   ],
   "source": [
    "Counter(y_test)"
   ]
  },
  {
   "cell_type": "code",
   "execution_count": 335,
   "id": "inside-narrative",
   "metadata": {
    "ExecuteTime": {
     "end_time": "2020-01-28T02:06:43.608082Z",
     "start_time": "2020-01-28T02:06:43.602137Z"
    }
   },
   "outputs": [
    {
     "data": {
      "text/plain": [
       "0.4088122781951422"
      ]
     },
     "execution_count": 335,
     "metadata": {},
     "output_type": "execute_result"
    }
   ],
   "source": [
    "bg_clf.oob_score_"
   ]
  },
  {
   "cell_type": "code",
   "execution_count": 336,
   "id": "endangered-wealth",
   "metadata": {
    "ExecuteTime": {
     "end_time": "2020-01-27T20:46:05.714986Z",
     "start_time": "2020-01-27T20:46:05.705987Z"
    }
   },
   "outputs": [
    {
     "data": {
      "text/plain": [
       "array([[  6,   0,   0,   0, 362],\n",
       "       [  3,   0,   0,   0, 202],\n",
       "       [  2,   0,   0,   0, 114],\n",
       "       [  4,   0,   0,   0, 199],\n",
       "       [ 10,   0,   0,   0, 535]])"
      ]
     },
     "execution_count": 336,
     "metadata": {},
     "output_type": "execute_result"
    }
   ],
   "source": [
    "confusion_matrix(y_test,pred_valid)"
   ]
  },
  {
   "cell_type": "markdown",
   "id": "excellent-schedule",
   "metadata": {},
   "source": [
    "### Feature importance"
   ]
  },
  {
   "cell_type": "code",
   "execution_count": 337,
   "id": "developmental-invitation",
   "metadata": {},
   "outputs": [
    {
     "data": {
      "text/html": [
       "<div>\n",
       "<style scoped>\n",
       "    .dataframe tbody tr th:only-of-type {\n",
       "        vertical-align: middle;\n",
       "    }\n",
       "\n",
       "    .dataframe tbody tr th {\n",
       "        vertical-align: top;\n",
       "    }\n",
       "\n",
       "    .dataframe thead th {\n",
       "        text-align: right;\n",
       "    }\n",
       "</style>\n",
       "<table border=\"1\" class=\"dataframe\">\n",
       "  <thead>\n",
       "    <tr style=\"text-align: right;\">\n",
       "      <th></th>\n",
       "      <th>cols</th>\n",
       "      <th>feat_imp</th>\n",
       "    </tr>\n",
       "  </thead>\n",
       "  <tbody>\n",
       "    <tr>\n",
       "      <th>55</th>\n",
       "      <td>teqq</td>\n",
       "      <td>0.145151</td>\n",
       "    </tr>\n",
       "    <tr>\n",
       "      <th>105</th>\n",
       "      <td>cf_yield</td>\n",
       "      <td>0.113602</td>\n",
       "    </tr>\n",
       "    <tr>\n",
       "      <th>152</th>\n",
       "      <td>ocf_lctq</td>\n",
       "      <td>0.053518</td>\n",
       "    </tr>\n",
       "    <tr>\n",
       "      <th>86</th>\n",
       "      <td>dvpspq</td>\n",
       "      <td>0.050954</td>\n",
       "    </tr>\n",
       "    <tr>\n",
       "      <th>180</th>\n",
       "      <td>fqtr_2</td>\n",
       "      <td>0.046557</td>\n",
       "    </tr>\n",
       "    <tr>\n",
       "      <th>108</th>\n",
       "      <td>dprq</td>\n",
       "      <td>0.045496</td>\n",
       "    </tr>\n",
       "    <tr>\n",
       "      <th>156</th>\n",
       "      <td>fcf_yield</td>\n",
       "      <td>0.040693</td>\n",
       "    </tr>\n",
       "    <tr>\n",
       "      <th>87</th>\n",
       "      <td>prccq</td>\n",
       "      <td>0.032574</td>\n",
       "    </tr>\n",
       "    <tr>\n",
       "      <th>95</th>\n",
       "      <td>evmq</td>\n",
       "      <td>0.032238</td>\n",
       "    </tr>\n",
       "    <tr>\n",
       "      <th>76</th>\n",
       "      <td>oancfy</td>\n",
       "      <td>0.024306</td>\n",
       "    </tr>\n",
       "    <tr>\n",
       "      <th>92</th>\n",
       "      <td>market_cap</td>\n",
       "      <td>0.018193</td>\n",
       "    </tr>\n",
       "    <tr>\n",
       "      <th>71</th>\n",
       "      <td>dpcy</td>\n",
       "      <td>0.017704</td>\n",
       "    </tr>\n",
       "    <tr>\n",
       "      <th>147</th>\n",
       "      <td>debt_ebitdaq</td>\n",
       "      <td>0.016328</td>\n",
       "    </tr>\n",
       "    <tr>\n",
       "      <th>14</th>\n",
       "      <td>dlttq</td>\n",
       "      <td>0.014744</td>\n",
       "    </tr>\n",
       "    <tr>\n",
       "      <th>135</th>\n",
       "      <td>pretret_earnatq</td>\n",
       "      <td>0.014675</td>\n",
       "    </tr>\n",
       "    <tr>\n",
       "      <th>145</th>\n",
       "      <td>rect_actq</td>\n",
       "      <td>0.011788</td>\n",
       "    </tr>\n",
       "  </tbody>\n",
       "</table>\n",
       "</div>"
      ],
      "text/plain": [
       "                cols  feat_imp\n",
       "55              teqq  0.145151\n",
       "105         cf_yield  0.113602\n",
       "152         ocf_lctq  0.053518\n",
       "86            dvpspq  0.050954\n",
       "180           fqtr_2  0.046557\n",
       "108             dprq  0.045496\n",
       "156        fcf_yield  0.040693\n",
       "87             prccq  0.032574\n",
       "95              evmq  0.032238\n",
       "76            oancfy  0.024306\n",
       "92        market_cap  0.018193\n",
       "71              dpcy  0.017704\n",
       "147     debt_ebitdaq  0.016328\n",
       "14             dlttq  0.014744\n",
       "135  pretret_earnatq  0.014675\n",
       "145        rect_actq  0.011788"
      ]
     },
     "execution_count": 337,
     "metadata": {},
     "output_type": "execute_result"
    }
   ],
   "source": [
    "fi = baggingtree_feat_importance(bg_clf,train)\n",
    "features = fi[(fi['feat_imp'] > 0.01)]\n",
    "features"
   ]
  },
  {
   "cell_type": "code",
   "execution_count": 338,
   "id": "satellite-punishment",
   "metadata": {},
   "outputs": [
    {
     "data": {
      "image/png": "[encoded data removed]",
      "text/plain": [
       "<Figure size 864x504 with 1 Axes>"
      ]
     },
     "metadata": {
      "needs_background": "light"
     },
     "output_type": "display_data"
    }
   ],
   "source": [
    "plot_fi(features);"
   ]
  },
  {
   "cell_type": "code",
   "execution_count": 339,
   "id": "collaborative-voluntary",
   "metadata": {},
   "outputs": [],
   "source": [
    "train = train[features['cols'].values]\n",
    "test = test[features['cols'].values]"
   ]
  },
  {
   "cell_type": "code",
   "execution_count": 340,
   "id": "administrative-harmony",
   "metadata": {},
   "outputs": [
    {
     "data": {
      "text/plain": [
       "0.4135594782688851"
      ]
     },
     "execution_count": 340,
     "metadata": {},
     "output_type": "execute_result"
    }
   ],
   "source": [
    "bg_clf.fit(train,y_1)\n",
    "bg_clf.score(train,y_1)"
   ]
  },
  {
   "cell_type": "code",
   "execution_count": 341,
   "id": "patient-offering",
   "metadata": {
    "ExecuteTime": {
     "end_time": "2020-01-27T20:45:50.737425Z",
     "start_time": "2020-01-27T20:45:50.054287Z"
    }
   },
   "outputs": [
    {
     "data": {
      "text/plain": [
       "0.3757828810020877"
      ]
     },
     "execution_count": 341,
     "metadata": {},
     "output_type": "execute_result"
    }
   ],
   "source": [
    "bg_clf.score(test,y_test)"
   ]
  },
  {
   "cell_type": "code",
   "execution_count": 342,
   "id": "complex-brand",
   "metadata": {
    "ExecuteTime": {
     "end_time": "2020-01-27T20:45:58.284294Z",
     "start_time": "2020-01-27T20:45:57.714295Z"
    }
   },
   "outputs": [],
   "source": [
    "pred_valid = bg_clf.predict(test)"
   ]
  },
  {
   "cell_type": "code",
   "execution_count": 343,
   "id": "distant-vietnam",
   "metadata": {
    "ExecuteTime": {
     "end_time": "2020-01-28T02:06:43.608082Z",
     "start_time": "2020-01-28T02:06:43.602137Z"
    }
   },
   "outputs": [
    {
     "data": {
      "text/plain": [
       "0.4096879752961239"
      ]
     },
     "execution_count": 343,
     "metadata": {},
     "output_type": "execute_result"
    }
   ],
   "source": [
    "bg_clf.oob_score_"
   ]
  },
  {
   "cell_type": "markdown",
   "id": "stunning-horror",
   "metadata": {},
   "source": [
    "### Profit importance"
   ]
  },
  {
   "cell_type": "code",
   "execution_count": 344,
   "id": "working-circle",
   "metadata": {},
   "outputs": [
    {
     "name": "stdout",
     "output_type": "stream",
     "text": [
      "CPU times: user 4 µs, sys: 2 µs, total: 6 µs\n",
      "Wall time: 10 µs\n"
     ]
    },
    {
     "data": {
      "text/html": [
       "<div>\n",
       "<style scoped>\n",
       "    .dataframe tbody tr th:only-of-type {\n",
       "        vertical-align: middle;\n",
       "    }\n",
       "\n",
       "    .dataframe tbody tr th {\n",
       "        vertical-align: top;\n",
       "    }\n",
       "\n",
       "    .dataframe thead th {\n",
       "        text-align: right;\n",
       "    }\n",
       "</style>\n",
       "<table border=\"1\" class=\"dataframe\">\n",
       "  <thead>\n",
       "    <tr style=\"text-align: right;\">\n",
       "      <th></th>\n",
       "      <th>cols</th>\n",
       "      <th>pi_imp</th>\n",
       "    </tr>\n",
       "  </thead>\n",
       "  <tbody>\n",
       "    <tr>\n",
       "      <th>7</th>\n",
       "      <td>prccq</td>\n",
       "      <td>210.249168</td>\n",
       "    </tr>\n",
       "    <tr>\n",
       "      <th>3</th>\n",
       "      <td>dvpspq</td>\n",
       "      <td>210.486974</td>\n",
       "    </tr>\n",
       "    <tr>\n",
       "      <th>8</th>\n",
       "      <td>evmq</td>\n",
       "      <td>211.700916</td>\n",
       "    </tr>\n",
       "    <tr>\n",
       "      <th>11</th>\n",
       "      <td>dpcy</td>\n",
       "      <td>211.946926</td>\n",
       "    </tr>\n",
       "    <tr>\n",
       "      <th>5</th>\n",
       "      <td>dprq</td>\n",
       "      <td>211.948187</td>\n",
       "    </tr>\n",
       "    <tr>\n",
       "      <th>10</th>\n",
       "      <td>market_cap</td>\n",
       "      <td>212.045119</td>\n",
       "    </tr>\n",
       "    <tr>\n",
       "      <th>12</th>\n",
       "      <td>debt_ebitdaq</td>\n",
       "      <td>212.093153</td>\n",
       "    </tr>\n",
       "    <tr>\n",
       "      <th>14</th>\n",
       "      <td>pretret_earnatq</td>\n",
       "      <td>213.207670</td>\n",
       "    </tr>\n",
       "    <tr>\n",
       "      <th>13</th>\n",
       "      <td>dlttq</td>\n",
       "      <td>213.414718</td>\n",
       "    </tr>\n",
       "    <tr>\n",
       "      <th>4</th>\n",
       "      <td>fqtr_2</td>\n",
       "      <td>214.331877</td>\n",
       "    </tr>\n",
       "    <tr>\n",
       "      <th>15</th>\n",
       "      <td>rect_actq</td>\n",
       "      <td>214.393629</td>\n",
       "    </tr>\n",
       "    <tr>\n",
       "      <th>1</th>\n",
       "      <td>cf_yield</td>\n",
       "      <td>215.109821</td>\n",
       "    </tr>\n",
       "    <tr>\n",
       "      <th>2</th>\n",
       "      <td>ocf_lctq</td>\n",
       "      <td>215.378888</td>\n",
       "    </tr>\n",
       "    <tr>\n",
       "      <th>9</th>\n",
       "      <td>oancfy</td>\n",
       "      <td>216.500760</td>\n",
       "    </tr>\n",
       "    <tr>\n",
       "      <th>6</th>\n",
       "      <td>fcf_yield</td>\n",
       "      <td>216.610287</td>\n",
       "    </tr>\n",
       "    <tr>\n",
       "      <th>0</th>\n",
       "      <td>teqq</td>\n",
       "      <td>216.893833</td>\n",
       "    </tr>\n",
       "  </tbody>\n",
       "</table>\n",
       "</div>"
      ],
      "text/plain": [
       "               cols      pi_imp\n",
       "7             prccq  210.249168\n",
       "3            dvpspq  210.486974\n",
       "8              evmq  211.700916\n",
       "11             dpcy  211.946926\n",
       "5              dprq  211.948187\n",
       "10       market_cap  212.045119\n",
       "12     debt_ebitdaq  212.093153\n",
       "14  pretret_earnatq  213.207670\n",
       "13            dlttq  213.414718\n",
       "4            fqtr_2  214.331877\n",
       "15        rect_actq  214.393629\n",
       "1          cf_yield  215.109821\n",
       "2          ocf_lctq  215.378888\n",
       "9            oancfy  216.500760\n",
       "6         fcf_yield  216.610287\n",
       "0              teqq  216.893833"
      ]
     },
     "execution_count": 344,
     "metadata": {},
     "output_type": "execute_result"
    }
   ],
   "source": [
    "%time \n",
    "pi = baggingtree_profit_importance(bg_clf,test,df_2['next_period_return'])\n",
    "pi"
   ]
  },
  {
   "cell_type": "code",
   "execution_count": 345,
   "id": "advance-drilling",
   "metadata": {},
   "outputs": [
    {
     "name": "stdout",
     "output_type": "stream",
     "text": [
      "191.74618999999998\n",
      "194.26880599999998\n",
      "193.01870199999996\n",
      "196.95644199999995\n",
      "194.42761799999997\n",
      "196.929242\n",
      "193.74878199999995\n",
      "192.245558\n",
      "190.63779\n",
      "199.89546199999998\n",
      "195.77152999999998\n",
      "168.41101\n",
      "166.86014600000004\n",
      "151.50999399999995\n",
      "221.35280199999994\n"
     ]
    }
   ],
   "source": [
    "profits = []\n",
    "\n",
    "feat=[]\n",
    "\n",
    "#train1 = train.copy()\n",
    "#test1 = test.copy()\n",
    "\n",
    "while len(train.columns)>1:\n",
    "    bg_clf.fit(train,y_1)\n",
    "    pi = baggingtree_profit_importance(bg_clf,test,y_test)\n",
    "\n",
    "    col_to_drop = pi[pi['pi_imp'] == pi['pi_imp'].max()]['cols'].iloc[0]\n",
    "    train.drop(col_to_drop,axis=1,inplace=True)\n",
    "    test.drop(col_to_drop,axis=1,inplace=True)\n",
    "    bg_clf.fit(train,y_1)\n",
    "    \n",
    "    fi = baggingtree_feat_importance(bg_clf,train)\n",
    "    features = fi[(fi['feat_imp'] > 0.00)]\n",
    "    train = train[features['cols'].values]\n",
    "    test = test[features['cols'].values]\n",
    "    bg_clf.fit(train,y_1)\n",
    "    \n",
    "    pred_valid = bg_clf.predict(test)\n",
    "    profits.append((pred_valid * df_2['next_period_return']).sum())\n",
    "    print((pred_valid * df_2['next_period_return']).sum())\n",
    "    feat.append(features['cols'].values) \n",
    "    \n"
   ]
  },
  {
   "cell_type": "code",
   "execution_count": 346,
   "id": "final-detective",
   "metadata": {},
   "outputs": [
    {
     "data": {
      "image/png": "[encoded data removed]",
      "text/plain": [
       "<Figure size 432x288 with 1 Axes>"
      ]
     },
     "metadata": {
      "needs_background": "light"
     },
     "output_type": "display_data"
    }
   ],
   "source": [
    "plt.plot(profits);"
   ]
  },
  {
   "cell_type": "code",
   "execution_count": 347,
   "id": "boolean-norfolk",
   "metadata": {
    "ExecuteTime": {
     "end_time": "2020-01-28T02:31:40.816966Z",
     "start_time": "2020-01-28T02:31:40.813700Z"
    }
   },
   "outputs": [],
   "source": [
    "n = np.argmax(profits)\n",
    "optim_feats = feat[n]\n",
    "max_profits = profits[n]"
   ]
  },
  {
   "cell_type": "code",
   "execution_count": 348,
   "id": "political-output",
   "metadata": {
    "ExecuteTime": {
     "end_time": "2020-01-28T02:31:42.549517Z",
     "start_time": "2020-01-28T02:31:42.544493Z"
    }
   },
   "outputs": [
    {
     "name": "stdout",
     "output_type": "stream",
     "text": [
      "221.35280199999994\n",
      "['fqtr_2']\n"
     ]
    }
   ],
   "source": [
    "print(max_profits)\n",
    "print(optim_feats)"
   ]
  },
  {
   "cell_type": "code",
   "execution_count": 350,
   "id": "proper-mountain",
   "metadata": {
    "ExecuteTime": {
     "end_time": "2020-01-28T02:33:56.360618Z",
     "start_time": "2020-01-28T02:33:55.193258Z"
    }
   },
   "outputs": [
    {
     "name": "stdout",
     "output_type": "stream",
     "text": [
      "0.39724385859796285\n",
      "0.3792623521224774\n"
     ]
    },
    {
     "data": {
      "text/plain": [
       "221.35280199999994"
      ]
     },
     "execution_count": 350,
     "metadata": {},
     "output_type": "execute_result"
    }
   ],
   "source": [
    "train_optim = train[optim_feats]\n",
    "test_optim = test[optim_feats]\n",
    "\n",
    "bg_clf.fit(train_optim,y_1)\n",
    "print(bg_clf.score(train_optim,y_1))\n",
    "pred_valid_tree = bg_clf.predict(test_optim)\n",
    "print(bg_clf.score(test_optim,y_test))\n",
    "(pred_valid_tree * df_2['next_period_return']).sum()"
   ]
  },
  {
   "cell_type": "markdown",
   "id": "cosmetic-tender",
   "metadata": {},
   "source": [
    "### Backtest\n",
    "- Backtest the performance of the model with the optimal features over the period 2010 – 2018.\n",
    "---------------------------------"
   ]
  },
  {
   "cell_type": "code",
   "execution_count": 351,
   "id": "ecological-concord",
   "metadata": {},
   "outputs": [],
   "source": [
    "opt_training_data = [t[optim_feats] for t in training_data]\n",
    "opt_test_data = [v[optim_feats] for v in test_data]"
   ]
  },
  {
   "cell_type": "code",
   "execution_count": 352,
   "id": "weekly-friend",
   "metadata": {},
   "outputs": [],
   "source": [
    "P_L = []\n",
    "x = [1]\n",
    "ret = []\n",
    "\n",
    "for i in range(len(training_labels)):\n",
    "        #print(i)\n",
    "        bg_clf.fit(opt_training_data[i],training_labels[i])\n",
    "        pred_i = bg_clf.predict(opt_test_data[i])\n",
    "        profit_i = (pred_i * test_frames[i]['next_period_return']).sum()\n",
    "        P_L.append(profit_i)\n",
    "        num_positions = len(pred_i)\n",
    "        ret.append((1.0/num_positions) * profit_i)\n",
    "        x.append(x[i] + (x[i]/num_positions) * profit_i)"
   ]
  },
  {
   "cell_type": "code",
   "execution_count": 353,
   "id": "human-farmer",
   "metadata": {},
   "outputs": [
    {
     "data": {
      "image/png": "[encoded data removed]",
      "text/plain": [
       "<Figure size 432x288 with 1 Axes>"
      ]
     },
     "metadata": {
      "needs_background": "light"
     },
     "output_type": "display_data"
    }
   ],
   "source": [
    "plt.plot(x);"
   ]
  },
  {
   "cell_type": "code",
   "execution_count": 354,
   "id": "floating-scottish",
   "metadata": {},
   "outputs": [],
   "source": [
    "SPY = CRSP[['spy_cum_ret']]\n",
    "SPY = SPY[~SPY.index.duplicated(keep='first')]\n",
    "SPY = SPY.loc['2010-01-01':]"
   ]
  },
  {
   "cell_type": "code",
   "execution_count": 355,
   "id": "selected-discretion",
   "metadata": {},
   "outputs": [],
   "source": [
    "SPY = SPY.resample('Q').ffill()\n",
    "SPY['spy_cum_ret'] = (SPY['spy_cum_ret'] - SPY['spy_cum_ret'][0] + 1)"
   ]
  },
  {
   "cell_type": "code",
   "execution_count": 356,
   "id": "cellular-header",
   "metadata": {},
   "outputs": [
    {
     "data": {
      "image/png": "[encoded data removed]",
      "text/plain": [
       "<Figure size 432x288 with 1 Axes>"
      ]
     },
     "metadata": {
      "needs_background": "light"
     },
     "output_type": "display_data"
    }
   ],
   "source": [
    "SPY['strategy'] = x\n",
    "SPY.plot();"
   ]
  },
  {
   "cell_type": "code",
   "execution_count": 357,
   "id": "talented-dominant",
   "metadata": {},
   "outputs": [
    {
     "data": {
      "text/plain": [
       "<matplotlib.axes._subplots.AxesSubplot at 0x1127f19b0>"
      ]
     },
     "execution_count": 357,
     "metadata": {},
     "output_type": "execute_result"
    },
    {
     "data": {
      "image/png": "[encoded data removed]",
      "text/plain": [
       "<Figure size 432x288 with 1 Axes>"
      ]
     },
     "metadata": {
      "needs_background": "light"
     },
     "output_type": "display_data"
    }
   ],
   "source": [
    "SPY.resample('Y').ffill().plot()"
   ]
  },
  {
   "cell_type": "markdown",
   "id": "million-adrian",
   "metadata": {},
   "source": [
    "- Compute Sharpe Ratio, Information Ratio and alpha for the strategy and for the buy-and-hold strategy for SPY"
   ]
  },
  {
   "cell_type": "code",
   "execution_count": 358,
   "id": "developing-requirement",
   "metadata": {
    "ExecuteTime": {
     "end_time": "2020-01-28T02:40:02.929451Z",
     "start_time": "2020-01-28T02:40:02.923453Z"
    }
   },
   "outputs": [
    {
     "name": "stdout",
     "output_type": "stream",
     "text": [
      "Strategy Sharpe Ratio:  0.3348103336984732\n"
     ]
    }
   ],
   "source": [
    "strategy_mean_ret = (SPY['strategy'] - 1).diff().mean()\n",
    "strategy_std = (SPY['strategy'] - 1).diff().std()\n",
    "strategy_sr = strategy_mean_ret/strategy_std\n",
    "print('Strategy Sharpe Ratio: ',strategy_sr)"
   ]
  },
  {
   "cell_type": "code",
   "execution_count": 359,
   "id": "nonprofit-elder",
   "metadata": {
    "ExecuteTime": {
     "end_time": "2020-01-27T20:54:30.525391Z",
     "start_time": "2020-01-27T20:54:30.514395Z"
    }
   },
   "outputs": [
    {
     "name": "stdout",
     "output_type": "stream",
     "text": [
      "SP Sharpe Ratio:  0.46133385900210633\n"
     ]
    }
   ],
   "source": [
    "(SPY['spy_cum_ret'] - 1).diff().mean()\n",
    "(SPY['spy_cum_ret'] - 1).diff().std()\n",
    "print('SP Sharpe Ratio: ',(SPY['spy_cum_ret'] - 1).diff().mean()/(SPY['spy_cum_ret'] - 1).diff().std())"
   ]
  },
  {
   "cell_type": "code",
   "execution_count": 360,
   "id": "rubber-spare",
   "metadata": {
    "ExecuteTime": {
     "end_time": "2020-01-28T02:40:23.591764Z",
     "start_time": "2020-01-28T02:40:23.584764Z"
    }
   },
   "outputs": [
    {
     "data": {
      "text/plain": [
       "5.452361751730794"
      ]
     },
     "execution_count": 360,
     "metadata": {},
     "output_type": "execute_result"
    }
   ],
   "source": [
    "x[-1]"
   ]
  },
  {
   "cell_type": "code",
   "execution_count": 361,
   "id": "mediterranean-indie",
   "metadata": {
    "ExecuteTime": {
     "end_time": "2020-01-27T20:54:39.139484Z",
     "start_time": "2020-01-27T20:54:39.134486Z"
    }
   },
   "outputs": [
    {
     "data": {
      "text/plain": [
       "2.034179999999999"
      ]
     },
     "execution_count": 361,
     "metadata": {},
     "output_type": "execute_result"
    }
   ],
   "source": [
    "SPY['spy_cum_ret'][-1]"
   ]
  },
  {
   "cell_type": "code",
   "execution_count": 362,
   "id": "dressed-voluntary",
   "metadata": {
    "ExecuteTime": {
     "end_time": "2020-01-28T02:41:14.814865Z",
     "start_time": "2020-01-28T02:41:14.804751Z"
    }
   },
   "outputs": [
    {
     "data": {
      "text/plain": [
       "0.6983907683732514"
      ]
     },
     "execution_count": 362,
     "metadata": {},
     "output_type": "execute_result"
    }
   ],
   "source": [
    "strategy_ret = (SPY['strategy'] - 1).diff().values[1:]\n",
    "spy_ret = (SPY['spy_cum_ret'] - 1).diff().values[1:]\n",
    "\n",
    "beta = (np.cov(spy_ret,strategy_ret)/np.var(spy_ret))[1,0]\n",
    "beta"
   ]
  },
  {
   "cell_type": "code",
   "execution_count": 363,
   "id": "informal-singapore",
   "metadata": {
    "ExecuteTime": {
     "end_time": "2020-01-28T02:41:33.922710Z",
     "start_time": "2020-01-28T02:41:33.916710Z"
    }
   },
   "outputs": [
    {
     "data": {
      "text/plain": [
       "0.2864705044761436"
      ]
     },
     "execution_count": 363,
     "metadata": {},
     "output_type": "execute_result"
    }
   ],
   "source": [
    "residual_ret = strategy_ret - beta * spy_ret\n",
    "IR = np.mean(residual_ret)/np.std(residual_ret)\n",
    "IR"
   ]
  },
  {
   "cell_type": "code",
   "execution_count": 364,
   "id": "mexican-being",
   "metadata": {
    "ExecuteTime": {
     "end_time": "2020-01-28T02:42:04.932079Z",
     "start_time": "2020-01-28T02:42:04.927080Z"
    }
   },
   "outputs": [
    {
     "data": {
      "text/plain": [
       "0.10657428533984414"
      ]
     },
     "execution_count": 364,
     "metadata": {},
     "output_type": "execute_result"
    }
   ],
   "source": [
    "alpha = np.mean(residual_ret)\n",
    "alpha"
   ]
  },
  {
   "cell_type": "markdown",
   "id": "continuous-warehouse",
   "metadata": {},
   "source": [
    "## Max_depth 8, n_estimator 30"
   ]
  },
  {
   "cell_type": "code",
   "execution_count": 366,
   "id": "incorporated-animation",
   "metadata": {},
   "outputs": [],
   "source": [
    "t_clf = DecisionTreeClassifier(max_depth=8, min_samples_leaf=800)"
   ]
  },
  {
   "cell_type": "code",
   "execution_count": 367,
   "id": "numeric-kruger",
   "metadata": {},
   "outputs": [],
   "source": [
    "bg_clf = BaggingClassifier(t_clf,n_estimators=30,oob_score=True,random_state=123,n_jobs=1)"
   ]
  },
  {
   "cell_type": "code",
   "execution_count": 368,
   "id": "useful-logan",
   "metadata": {},
   "outputs": [
    {
     "data": {
      "text/plain": [
       "BaggingClassifier(base_estimator=DecisionTreeClassifier(class_weight=None, criterion='gini', max_depth=8,\n",
       "            max_features=None, max_leaf_nodes=None,\n",
       "            min_impurity_decrease=0.0, min_impurity_split=None,\n",
       "            min_samples_leaf=800, min_samples_split=2,\n",
       "            min_weight_fraction_leaf=0.0, presort=False, random_state=None,\n",
       "            splitter='best'),\n",
       "         bootstrap=True, bootstrap_features=False, max_features=1.0,\n",
       "         max_samples=1.0, n_estimators=30, n_jobs=1, oob_score=True,\n",
       "         random_state=123, verbose=0, warm_start=False)"
      ]
     },
     "execution_count": 368,
     "metadata": {},
     "output_type": "execute_result"
    }
   ],
   "source": [
    "bg_clf.fit(train,y_1)"
   ]
  },
  {
   "cell_type": "code",
   "execution_count": 369,
   "id": "radio-inside",
   "metadata": {
    "ExecuteTime": {
     "end_time": "2020-01-27T20:45:50.051286Z",
     "start_time": "2020-01-27T20:45:44.475785Z"
    }
   },
   "outputs": [
    {
     "data": {
      "text/plain": [
       "0.4129142277734249"
      ]
     },
     "execution_count": 369,
     "metadata": {},
     "output_type": "execute_result"
    }
   ],
   "source": [
    "bg_clf.score(train,y_1)"
   ]
  },
  {
   "cell_type": "code",
   "execution_count": 370,
   "id": "lightweight-particular",
   "metadata": {
    "ExecuteTime": {
     "end_time": "2020-01-27T20:45:50.737425Z",
     "start_time": "2020-01-27T20:45:50.054287Z"
    }
   },
   "outputs": [
    {
     "data": {
      "text/plain": [
       "0.3771746694502436"
      ]
     },
     "execution_count": 370,
     "metadata": {},
     "output_type": "execute_result"
    }
   ],
   "source": [
    "bg_clf.score(test,y_test)"
   ]
  },
  {
   "cell_type": "code",
   "execution_count": 371,
   "id": "musical-metadata",
   "metadata": {
    "ExecuteTime": {
     "end_time": "2020-01-27T20:45:58.284294Z",
     "start_time": "2020-01-27T20:45:57.714295Z"
    }
   },
   "outputs": [],
   "source": [
    "pred_valid = bg_clf.predict(test)"
   ]
  },
  {
   "cell_type": "code",
   "execution_count": 372,
   "id": "complimentary-classic",
   "metadata": {
    "ExecuteTime": {
     "end_time": "2020-01-27T20:45:59.358307Z",
     "start_time": "2020-01-27T20:45:59.352309Z"
    }
   },
   "outputs": [
    {
     "data": {
      "text/plain": [
       "Counter({2: 1411, -2: 26})"
      ]
     },
     "execution_count": 372,
     "metadata": {},
     "output_type": "execute_result"
    }
   ],
   "source": [
    "Counter(pred_valid)"
   ]
  },
  {
   "cell_type": "code",
   "execution_count": 373,
   "id": "royal-shareware",
   "metadata": {
    "ExecuteTime": {
     "end_time": "2020-01-27T20:46:01.132418Z",
     "start_time": "2020-01-27T20:46:01.125420Z"
    }
   },
   "outputs": [
    {
     "data": {
      "text/plain": [
       "Counter({-1: 205, 2: 545, 1: 203, -2: 368, 0: 116})"
      ]
     },
     "execution_count": 373,
     "metadata": {},
     "output_type": "execute_result"
    }
   ],
   "source": [
    "Counter(y_test)"
   ]
  },
  {
   "cell_type": "code",
   "execution_count": 374,
   "id": "korean-voluntary",
   "metadata": {
    "ExecuteTime": {
     "end_time": "2020-01-28T02:06:43.608082Z",
     "start_time": "2020-01-28T02:06:43.602137Z"
    }
   },
   "outputs": [
    {
     "data": {
      "text/plain": [
       "0.40890445683735077"
      ]
     },
     "execution_count": 374,
     "metadata": {},
     "output_type": "execute_result"
    }
   ],
   "source": [
    "bg_clf.oob_score_"
   ]
  },
  {
   "cell_type": "code",
   "execution_count": 375,
   "id": "egyptian-booth",
   "metadata": {
    "ExecuteTime": {
     "end_time": "2020-01-27T20:46:05.714986Z",
     "start_time": "2020-01-27T20:46:05.705987Z"
    }
   },
   "outputs": [
    {
     "data": {
      "text/plain": [
       "array([[  7,   0,   0,   0, 361],\n",
       "       [  3,   0,   0,   0, 202],\n",
       "       [  2,   0,   0,   0, 114],\n",
       "       [  4,   0,   0,   0, 199],\n",
       "       [ 10,   0,   0,   0, 535]])"
      ]
     },
     "execution_count": 375,
     "metadata": {},
     "output_type": "execute_result"
    }
   ],
   "source": [
    "confusion_matrix(y_test,pred_valid)"
   ]
  },
  {
   "cell_type": "markdown",
   "id": "thousand-folks",
   "metadata": {},
   "source": [
    "### Feature importance"
   ]
  },
  {
   "cell_type": "code",
   "execution_count": 376,
   "id": "freelance-profile",
   "metadata": {},
   "outputs": [
    {
     "data": {
      "text/html": [
       "<div>\n",
       "<style scoped>\n",
       "    .dataframe tbody tr th:only-of-type {\n",
       "        vertical-align: middle;\n",
       "    }\n",
       "\n",
       "    .dataframe tbody tr th {\n",
       "        vertical-align: top;\n",
       "    }\n",
       "\n",
       "    .dataframe thead th {\n",
       "        text-align: right;\n",
       "    }\n",
       "</style>\n",
       "<table border=\"1\" class=\"dataframe\">\n",
       "  <thead>\n",
       "    <tr style=\"text-align: right;\">\n",
       "      <th></th>\n",
       "      <th>cols</th>\n",
       "      <th>feat_imp</th>\n",
       "    </tr>\n",
       "  </thead>\n",
       "  <tbody>\n",
       "    <tr>\n",
       "      <th>55</th>\n",
       "      <td>teqq</td>\n",
       "      <td>0.146738</td>\n",
       "    </tr>\n",
       "    <tr>\n",
       "      <th>105</th>\n",
       "      <td>cf_yield</td>\n",
       "      <td>0.112546</td>\n",
       "    </tr>\n",
       "    <tr>\n",
       "      <th>152</th>\n",
       "      <td>ocf_lctq</td>\n",
       "      <td>0.069311</td>\n",
       "    </tr>\n",
       "    <tr>\n",
       "      <th>86</th>\n",
       "      <td>dvpspq</td>\n",
       "      <td>0.056139</td>\n",
       "    </tr>\n",
       "    <tr>\n",
       "      <th>156</th>\n",
       "      <td>fcf_yield</td>\n",
       "      <td>0.047714</td>\n",
       "    </tr>\n",
       "    <tr>\n",
       "      <th>180</th>\n",
       "      <td>fqtr_2</td>\n",
       "      <td>0.045954</td>\n",
       "    </tr>\n",
       "    <tr>\n",
       "      <th>108</th>\n",
       "      <td>dprq</td>\n",
       "      <td>0.041013</td>\n",
       "    </tr>\n",
       "    <tr>\n",
       "      <th>87</th>\n",
       "      <td>prccq</td>\n",
       "      <td>0.039215</td>\n",
       "    </tr>\n",
       "    <tr>\n",
       "      <th>95</th>\n",
       "      <td>evmq</td>\n",
       "      <td>0.031168</td>\n",
       "    </tr>\n",
       "    <tr>\n",
       "      <th>76</th>\n",
       "      <td>oancfy</td>\n",
       "      <td>0.022753</td>\n",
       "    </tr>\n",
       "    <tr>\n",
       "      <th>71</th>\n",
       "      <td>dpcy</td>\n",
       "      <td>0.021426</td>\n",
       "    </tr>\n",
       "    <tr>\n",
       "      <th>92</th>\n",
       "      <td>market_cap</td>\n",
       "      <td>0.018735</td>\n",
       "    </tr>\n",
       "    <tr>\n",
       "      <th>147</th>\n",
       "      <td>debt_ebitdaq</td>\n",
       "      <td>0.016112</td>\n",
       "    </tr>\n",
       "    <tr>\n",
       "      <th>145</th>\n",
       "      <td>rect_actq</td>\n",
       "      <td>0.014000</td>\n",
       "    </tr>\n",
       "    <tr>\n",
       "      <th>77</th>\n",
       "      <td>oepsxy</td>\n",
       "      <td>0.012885</td>\n",
       "    </tr>\n",
       "    <tr>\n",
       "      <th>135</th>\n",
       "      <td>pretret_earnatq</td>\n",
       "      <td>0.011750</td>\n",
       "    </tr>\n",
       "    <tr>\n",
       "      <th>142</th>\n",
       "      <td>int_totdebtq</td>\n",
       "      <td>0.011439</td>\n",
       "    </tr>\n",
       "  </tbody>\n",
       "</table>\n",
       "</div>"
      ],
      "text/plain": [
       "                cols  feat_imp\n",
       "55              teqq  0.146738\n",
       "105         cf_yield  0.112546\n",
       "152         ocf_lctq  0.069311\n",
       "86            dvpspq  0.056139\n",
       "156        fcf_yield  0.047714\n",
       "180           fqtr_2  0.045954\n",
       "108             dprq  0.041013\n",
       "87             prccq  0.039215\n",
       "95              evmq  0.031168\n",
       "76            oancfy  0.022753\n",
       "71              dpcy  0.021426\n",
       "92        market_cap  0.018735\n",
       "147     debt_ebitdaq  0.016112\n",
       "145        rect_actq  0.014000\n",
       "77            oepsxy  0.012885\n",
       "135  pretret_earnatq  0.011750\n",
       "142     int_totdebtq  0.011439"
      ]
     },
     "execution_count": 376,
     "metadata": {},
     "output_type": "execute_result"
    }
   ],
   "source": [
    "fi = baggingtree_feat_importance(bg_clf,train)\n",
    "features = fi[(fi['feat_imp'] > 0.01)]\n",
    "features"
   ]
  },
  {
   "cell_type": "code",
   "execution_count": 377,
   "id": "wireless-hardwood",
   "metadata": {},
   "outputs": [
    {
     "data": {
      "image/png": "[encoded data removed]",
      "text/plain": [
       "<Figure size 864x504 with 1 Axes>"
      ]
     },
     "metadata": {
      "needs_background": "light"
     },
     "output_type": "display_data"
    }
   ],
   "source": [
    "plot_fi(features);"
   ]
  },
  {
   "cell_type": "code",
   "execution_count": 378,
   "id": "described-roommate",
   "metadata": {},
   "outputs": [],
   "source": [
    "train = train[features['cols'].values]\n",
    "test = test[features['cols'].values]"
   ]
  },
  {
   "cell_type": "code",
   "execution_count": 379,
   "id": "novel-pulse",
   "metadata": {},
   "outputs": [
    {
     "data": {
      "text/plain": [
       "0.4130985850578421"
      ]
     },
     "execution_count": 379,
     "metadata": {},
     "output_type": "execute_result"
    }
   ],
   "source": [
    "bg_clf.fit(train,y_1)\n",
    "bg_clf.score(train,y_1)"
   ]
  },
  {
   "cell_type": "code",
   "execution_count": 380,
   "id": "aggregate-browse",
   "metadata": {
    "ExecuteTime": {
     "end_time": "2020-01-27T20:45:50.737425Z",
     "start_time": "2020-01-27T20:45:50.054287Z"
    }
   },
   "outputs": [
    {
     "data": {
      "text/plain": [
       "0.3757828810020877"
      ]
     },
     "execution_count": 380,
     "metadata": {},
     "output_type": "execute_result"
    }
   ],
   "source": [
    "bg_clf.score(test,y_test)"
   ]
  },
  {
   "cell_type": "code",
   "execution_count": 381,
   "id": "cooperative-graphics",
   "metadata": {
    "ExecuteTime": {
     "end_time": "2020-01-27T20:45:58.284294Z",
     "start_time": "2020-01-27T20:45:57.714295Z"
    }
   },
   "outputs": [],
   "source": [
    "pred_valid = bg_clf.predict(test)"
   ]
  },
  {
   "cell_type": "code",
   "execution_count": 382,
   "id": "entitled-overview",
   "metadata": {
    "ExecuteTime": {
     "end_time": "2020-01-28T02:06:43.608082Z",
     "start_time": "2020-01-28T02:06:43.602137Z"
    }
   },
   "outputs": [
    {
     "data": {
      "text/plain": [
       "0.4074756878831175"
      ]
     },
     "execution_count": 382,
     "metadata": {},
     "output_type": "execute_result"
    }
   ],
   "source": [
    "bg_clf.oob_score_"
   ]
  },
  {
   "cell_type": "markdown",
   "id": "silent-craps",
   "metadata": {},
   "source": [
    "### Profit importance"
   ]
  },
  {
   "cell_type": "code",
   "execution_count": 383,
   "id": "legislative-kentucky",
   "metadata": {},
   "outputs": [
    {
     "name": "stdout",
     "output_type": "stream",
     "text": [
      "CPU times: user 5 µs, sys: 1e+03 ns, total: 6 µs\n",
      "Wall time: 14.1 µs\n"
     ]
    },
    {
     "data": {
      "text/html": [
       "<div>\n",
       "<style scoped>\n",
       "    .dataframe tbody tr th:only-of-type {\n",
       "        vertical-align: middle;\n",
       "    }\n",
       "\n",
       "    .dataframe tbody tr th {\n",
       "        vertical-align: top;\n",
       "    }\n",
       "\n",
       "    .dataframe thead th {\n",
       "        text-align: right;\n",
       "    }\n",
       "</style>\n",
       "<table border=\"1\" class=\"dataframe\">\n",
       "  <thead>\n",
       "    <tr style=\"text-align: right;\">\n",
       "      <th></th>\n",
       "      <th>cols</th>\n",
       "      <th>pi_imp</th>\n",
       "    </tr>\n",
       "  </thead>\n",
       "  <tbody>\n",
       "    <tr>\n",
       "      <th>8</th>\n",
       "      <td>evmq</td>\n",
       "      <td>212.793885</td>\n",
       "    </tr>\n",
       "    <tr>\n",
       "      <th>7</th>\n",
       "      <td>prccq</td>\n",
       "      <td>212.896459</td>\n",
       "    </tr>\n",
       "    <tr>\n",
       "      <th>12</th>\n",
       "      <td>debt_ebitdaq</td>\n",
       "      <td>213.324052</td>\n",
       "    </tr>\n",
       "    <tr>\n",
       "      <th>11</th>\n",
       "      <td>market_cap</td>\n",
       "      <td>213.394502</td>\n",
       "    </tr>\n",
       "    <tr>\n",
       "      <th>6</th>\n",
       "      <td>dprq</td>\n",
       "      <td>213.555762</td>\n",
       "    </tr>\n",
       "    <tr>\n",
       "      <th>16</th>\n",
       "      <td>int_totdebtq</td>\n",
       "      <td>214.573627</td>\n",
       "    </tr>\n",
       "    <tr>\n",
       "      <th>14</th>\n",
       "      <td>oepsxy</td>\n",
       "      <td>214.753704</td>\n",
       "    </tr>\n",
       "    <tr>\n",
       "      <th>15</th>\n",
       "      <td>pretret_earnatq</td>\n",
       "      <td>214.926712</td>\n",
       "    </tr>\n",
       "    <tr>\n",
       "      <th>10</th>\n",
       "      <td>dpcy</td>\n",
       "      <td>215.043284</td>\n",
       "    </tr>\n",
       "    <tr>\n",
       "      <th>1</th>\n",
       "      <td>cf_yield</td>\n",
       "      <td>215.291777</td>\n",
       "    </tr>\n",
       "    <tr>\n",
       "      <th>3</th>\n",
       "      <td>dvpspq</td>\n",
       "      <td>215.359016</td>\n",
       "    </tr>\n",
       "    <tr>\n",
       "      <th>13</th>\n",
       "      <td>rect_actq</td>\n",
       "      <td>216.214564</td>\n",
       "    </tr>\n",
       "    <tr>\n",
       "      <th>5</th>\n",
       "      <td>fqtr_2</td>\n",
       "      <td>216.265645</td>\n",
       "    </tr>\n",
       "    <tr>\n",
       "      <th>4</th>\n",
       "      <td>fcf_yield</td>\n",
       "      <td>216.744328</td>\n",
       "    </tr>\n",
       "    <tr>\n",
       "      <th>0</th>\n",
       "      <td>teqq</td>\n",
       "      <td>216.765650</td>\n",
       "    </tr>\n",
       "    <tr>\n",
       "      <th>9</th>\n",
       "      <td>oancfy</td>\n",
       "      <td>217.048308</td>\n",
       "    </tr>\n",
       "    <tr>\n",
       "      <th>2</th>\n",
       "      <td>ocf_lctq</td>\n",
       "      <td>217.187098</td>\n",
       "    </tr>\n",
       "  </tbody>\n",
       "</table>\n",
       "</div>"
      ],
      "text/plain": [
       "               cols      pi_imp\n",
       "8              evmq  212.793885\n",
       "7             prccq  212.896459\n",
       "12     debt_ebitdaq  213.324052\n",
       "11       market_cap  213.394502\n",
       "6              dprq  213.555762\n",
       "16     int_totdebtq  214.573627\n",
       "14           oepsxy  214.753704\n",
       "15  pretret_earnatq  214.926712\n",
       "10             dpcy  215.043284\n",
       "1          cf_yield  215.291777\n",
       "3            dvpspq  215.359016\n",
       "13        rect_actq  216.214564\n",
       "5            fqtr_2  216.265645\n",
       "4         fcf_yield  216.744328\n",
       "0              teqq  216.765650\n",
       "9            oancfy  217.048308\n",
       "2          ocf_lctq  217.187098"
      ]
     },
     "execution_count": 383,
     "metadata": {},
     "output_type": "execute_result"
    }
   ],
   "source": [
    "%time \n",
    "pi = baggingtree_profit_importance(bg_clf,test,df_2['next_period_return'])\n",
    "pi"
   ]
  },
  {
   "cell_type": "code",
   "execution_count": 384,
   "id": "objective-harassment",
   "metadata": {},
   "outputs": [
    {
     "name": "stdout",
     "output_type": "stream",
     "text": [
      "189.54364199999998\n",
      "190.90102599999994\n",
      "192.48913799999997\n",
      "191.88770999999997\n",
      "197.691282\n",
      "199.22990999999996\n",
      "199.698166\n",
      "199.44695399999998\n",
      "197.764074\n",
      "194.86115399999997\n",
      "197.63974199999996\n",
      "189.86573399999997\n",
      "168.88045\n",
      "168.16519800000006\n",
      "149.65778199999997\n",
      "221.35280199999994\n"
     ]
    }
   ],
   "source": [
    "profits = []\n",
    "\n",
    "feat=[]\n",
    "\n",
    "#train1 = train.copy()\n",
    "#test1 = test.copy()\n",
    "\n",
    "while len(train.columns)>1:\n",
    "    bg_clf.fit(train,y_1)\n",
    "    pi = baggingtree_profit_importance(bg_clf,test,y_test)\n",
    "\n",
    "    col_to_drop = pi[pi['pi_imp'] == pi['pi_imp'].max()]['cols'].iloc[0]\n",
    "    train.drop(col_to_drop,axis=1,inplace=True)\n",
    "    test.drop(col_to_drop,axis=1,inplace=True)\n",
    "    bg_clf.fit(train,y_1)\n",
    "    \n",
    "    fi = baggingtree_feat_importance(bg_clf,train)\n",
    "    features = fi[(fi['feat_imp'] > 0.00)]\n",
    "    train = train[features['cols'].values]\n",
    "    test = test[features['cols'].values]\n",
    "    bg_clf.fit(train,y_1)\n",
    "    \n",
    "    pred_valid = bg_clf.predict(test)\n",
    "    profits.append((pred_valid * df_2['next_period_return']).sum())\n",
    "    print((pred_valid * df_2['next_period_return']).sum())\n",
    "    feat.append(features['cols'].values) \n",
    "    \n"
   ]
  },
  {
   "cell_type": "code",
   "execution_count": 385,
   "id": "interim-bibliography",
   "metadata": {},
   "outputs": [
    {
     "data": {
      "image/png": "[encoded data removed]",
      "text/plain": [
       "<Figure size 432x288 with 1 Axes>"
      ]
     },
     "metadata": {
      "needs_background": "light"
     },
     "output_type": "display_data"
    }
   ],
   "source": [
    "plt.plot(profits);"
   ]
  },
  {
   "cell_type": "code",
   "execution_count": 386,
   "id": "vanilla-source",
   "metadata": {
    "ExecuteTime": {
     "end_time": "2020-01-28T02:31:40.816966Z",
     "start_time": "2020-01-28T02:31:40.813700Z"
    }
   },
   "outputs": [],
   "source": [
    "n = np.argmax(profits)\n",
    "optim_feats = feat[n]\n",
    "max_profits = profits[n]"
   ]
  },
  {
   "cell_type": "code",
   "execution_count": 387,
   "id": "contemporary-control",
   "metadata": {
    "ExecuteTime": {
     "end_time": "2020-01-28T02:31:42.549517Z",
     "start_time": "2020-01-28T02:31:42.544493Z"
    }
   },
   "outputs": [
    {
     "name": "stdout",
     "output_type": "stream",
     "text": [
      "221.35280199999994\n",
      "['fqtr_2']\n"
     ]
    }
   ],
   "source": [
    "print(max_profits)\n",
    "print(optim_feats)"
   ]
  },
  {
   "cell_type": "code",
   "execution_count": 389,
   "id": "finnish-stanford",
   "metadata": {
    "ExecuteTime": {
     "end_time": "2020-01-28T02:33:56.360618Z",
     "start_time": "2020-01-28T02:33:55.193258Z"
    }
   },
   "outputs": [
    {
     "name": "stdout",
     "output_type": "stream",
     "text": [
      "0.39724385859796285\n",
      "0.3792623521224774\n"
     ]
    },
    {
     "data": {
      "text/plain": [
       "221.35280199999994"
      ]
     },
     "execution_count": 389,
     "metadata": {},
     "output_type": "execute_result"
    }
   ],
   "source": [
    "train_optim = train[optim_feats]\n",
    "test_optim = test[optim_feats]\n",
    "\n",
    "bg_clf.fit(train_optim,y_1)\n",
    "print(bg_clf.score(train_optim,y_1))\n",
    "pred_valid_tree = bg_clf.predict(test_optim)\n",
    "print(bg_clf.score(test_optim,y_test))\n",
    "(pred_valid_tree * df_2['next_period_return']).sum()"
   ]
  },
  {
   "cell_type": "markdown",
   "id": "rural-commonwealth",
   "metadata": {},
   "source": [
    "### Backtest\n",
    "- Backtest the performance of the model with the optimal features over the period 2010 – 2018.\n",
    "---------------------------------"
   ]
  },
  {
   "cell_type": "code",
   "execution_count": 390,
   "id": "fabulous-contact",
   "metadata": {},
   "outputs": [],
   "source": [
    "opt_training_data = [t[optim_feats] for t in training_data]\n",
    "opt_test_data = [v[optim_feats] for v in test_data]"
   ]
  },
  {
   "cell_type": "code",
   "execution_count": 391,
   "id": "closed-supply",
   "metadata": {},
   "outputs": [],
   "source": [
    "P_L = []\n",
    "x = [1]\n",
    "ret = []\n",
    "\n",
    "for i in range(len(training_labels)):\n",
    "        #print(i)\n",
    "        bg_clf.fit(opt_training_data[i],training_labels[i])\n",
    "        pred_i = bg_clf.predict(opt_test_data[i])\n",
    "        profit_i = (pred_i * test_frames[i]['next_period_return']).sum()\n",
    "        P_L.append(profit_i)\n",
    "        num_positions = len(pred_i)\n",
    "        ret.append((1.0/num_positions) * profit_i)\n",
    "        x.append(x[i] + (x[i]/num_positions) * profit_i)"
   ]
  },
  {
   "cell_type": "code",
   "execution_count": 392,
   "id": "mighty-sleep",
   "metadata": {},
   "outputs": [
    {
     "data": {
      "image/png": "[encoded data removed]",
      "text/plain": [
       "<Figure size 432x288 with 1 Axes>"
      ]
     },
     "metadata": {
      "needs_background": "light"
     },
     "output_type": "display_data"
    }
   ],
   "source": [
    "plt.plot(x);"
   ]
  },
  {
   "cell_type": "code",
   "execution_count": 393,
   "id": "administrative-actor",
   "metadata": {},
   "outputs": [],
   "source": [
    "SPY = CRSP[['spy_cum_ret']]\n",
    "SPY = SPY[~SPY.index.duplicated(keep='first')]\n",
    "SPY = SPY.loc['2010-01-01':]"
   ]
  },
  {
   "cell_type": "code",
   "execution_count": 394,
   "id": "adopted-hospital",
   "metadata": {},
   "outputs": [],
   "source": [
    "SPY = SPY.resample('Q').ffill()\n",
    "SPY['spy_cum_ret'] = (SPY['spy_cum_ret'] - SPY['spy_cum_ret'][0] + 1)"
   ]
  },
  {
   "cell_type": "code",
   "execution_count": 395,
   "id": "sudden-exercise",
   "metadata": {},
   "outputs": [
    {
     "data": {
      "image/png": "[encoded data removed]",
      "text/plain": [
       "<Figure size 432x288 with 1 Axes>"
      ]
     },
     "metadata": {
      "needs_background": "light"
     },
     "output_type": "display_data"
    }
   ],
   "source": [
    "SPY['strategy'] = x\n",
    "SPY.plot();"
   ]
  },
  {
   "cell_type": "code",
   "execution_count": 396,
   "id": "configured-establishment",
   "metadata": {},
   "outputs": [
    {
     "data": {
      "text/plain": [
       "<matplotlib.axes._subplots.AxesSubplot at 0x111c0e438>"
      ]
     },
     "execution_count": 396,
     "metadata": {},
     "output_type": "execute_result"
    },
    {
     "data": {
      "image/png": "[encoded data removed]",
      "text/plain": [
       "<Figure size 432x288 with 1 Axes>"
      ]
     },
     "metadata": {
      "needs_background": "light"
     },
     "output_type": "display_data"
    }
   ],
   "source": [
    "SPY.resample('Y').ffill().plot()"
   ]
  },
  {
   "cell_type": "markdown",
   "id": "attractive-intermediate",
   "metadata": {},
   "source": [
    "- Compute Sharpe Ratio, Information Ratio and alpha for the strategy and for the buy-and-hold strategy for SPY"
   ]
  },
  {
   "cell_type": "code",
   "execution_count": 397,
   "id": "focal-chapter",
   "metadata": {
    "ExecuteTime": {
     "end_time": "2020-01-28T02:40:02.929451Z",
     "start_time": "2020-01-28T02:40:02.923453Z"
    }
   },
   "outputs": [
    {
     "name": "stdout",
     "output_type": "stream",
     "text": [
      "Strategy Sharpe Ratio:  0.3348103336984732\n"
     ]
    }
   ],
   "source": [
    "strategy_mean_ret = (SPY['strategy'] - 1).diff().mean()\n",
    "strategy_std = (SPY['strategy'] - 1).diff().std()\n",
    "strategy_sr = strategy_mean_ret/strategy_std\n",
    "print('Strategy Sharpe Ratio: ',strategy_sr)"
   ]
  },
  {
   "cell_type": "code",
   "execution_count": 398,
   "id": "exact-favorite",
   "metadata": {
    "ExecuteTime": {
     "end_time": "2020-01-27T20:54:30.525391Z",
     "start_time": "2020-01-27T20:54:30.514395Z"
    }
   },
   "outputs": [
    {
     "name": "stdout",
     "output_type": "stream",
     "text": [
      "SP Sharpe Ratio:  0.46133385900210633\n"
     ]
    }
   ],
   "source": [
    "(SPY['spy_cum_ret'] - 1).diff().mean()\n",
    "(SPY['spy_cum_ret'] - 1).diff().std()\n",
    "print('SP Sharpe Ratio: ',(SPY['spy_cum_ret'] - 1).diff().mean()/(SPY['spy_cum_ret'] - 1).diff().std())"
   ]
  },
  {
   "cell_type": "code",
   "execution_count": 399,
   "id": "surprised-circus",
   "metadata": {
    "ExecuteTime": {
     "end_time": "2020-01-28T02:40:23.591764Z",
     "start_time": "2020-01-28T02:40:23.584764Z"
    }
   },
   "outputs": [
    {
     "data": {
      "text/plain": [
       "5.452361751730794"
      ]
     },
     "execution_count": 399,
     "metadata": {},
     "output_type": "execute_result"
    }
   ],
   "source": [
    "x[-1]"
   ]
  },
  {
   "cell_type": "code",
   "execution_count": 400,
   "id": "suspended-netherlands",
   "metadata": {
    "ExecuteTime": {
     "end_time": "2020-01-27T20:54:39.139484Z",
     "start_time": "2020-01-27T20:54:39.134486Z"
    }
   },
   "outputs": [
    {
     "data": {
      "text/plain": [
       "2.034179999999999"
      ]
     },
     "execution_count": 400,
     "metadata": {},
     "output_type": "execute_result"
    }
   ],
   "source": [
    "SPY['spy_cum_ret'][-1]"
   ]
  },
  {
   "cell_type": "code",
   "execution_count": 401,
   "id": "jewish-uzbekistan",
   "metadata": {
    "ExecuteTime": {
     "end_time": "2020-01-28T02:41:14.814865Z",
     "start_time": "2020-01-28T02:41:14.804751Z"
    }
   },
   "outputs": [
    {
     "data": {
      "text/plain": [
       "0.6983907683732514"
      ]
     },
     "execution_count": 401,
     "metadata": {},
     "output_type": "execute_result"
    }
   ],
   "source": [
    "strategy_ret = (SPY['strategy'] - 1).diff().values[1:]\n",
    "spy_ret = (SPY['spy_cum_ret'] - 1).diff().values[1:]\n",
    "\n",
    "beta = (np.cov(spy_ret,strategy_ret)/np.var(spy_ret))[1,0]\n",
    "beta"
   ]
  },
  {
   "cell_type": "code",
   "execution_count": 402,
   "id": "proved-democracy",
   "metadata": {
    "ExecuteTime": {
     "end_time": "2020-01-28T02:41:33.922710Z",
     "start_time": "2020-01-28T02:41:33.916710Z"
    }
   },
   "outputs": [
    {
     "data": {
      "text/plain": [
       "0.2864705044761436"
      ]
     },
     "execution_count": 402,
     "metadata": {},
     "output_type": "execute_result"
    }
   ],
   "source": [
    "residual_ret = strategy_ret - beta * spy_ret\n",
    "IR = np.mean(residual_ret)/np.std(residual_ret)\n",
    "IR"
   ]
  },
  {
   "cell_type": "code",
   "execution_count": 403,
   "id": "exciting-foundation",
   "metadata": {
    "ExecuteTime": {
     "end_time": "2020-01-28T02:42:04.932079Z",
     "start_time": "2020-01-28T02:42:04.927080Z"
    }
   },
   "outputs": [
    {
     "data": {
      "text/plain": [
       "0.10657428533984414"
      ]
     },
     "execution_count": 403,
     "metadata": {},
     "output_type": "execute_result"
    }
   ],
   "source": [
    "alpha = np.mean(residual_ret)\n",
    "alpha"
   ]
  },
  {
   "cell_type": "code",
   "execution_count": null,
   "id": "social-action",
   "metadata": {},
   "outputs": [],
   "source": []
  },
  {
   "cell_type": "markdown",
   "id": "blessed-mitchell",
   "metadata": {},
   "source": [
    "## Max_depth 6, n_estimator 30"
   ]
  },
  {
   "cell_type": "code",
   "execution_count": 404,
   "id": "opening-anderson",
   "metadata": {},
   "outputs": [],
   "source": [
    "t_clf = DecisionTreeClassifier(max_depth=6, min_samples_leaf=800)"
   ]
  },
  {
   "cell_type": "code",
   "execution_count": 405,
   "id": "aware-azerbaijan",
   "metadata": {},
   "outputs": [],
   "source": [
    "bg_clf = BaggingClassifier(t_clf,n_estimators=30,oob_score=True,random_state=123,n_jobs=1)"
   ]
  },
  {
   "cell_type": "code",
   "execution_count": 406,
   "id": "persistent-cannon",
   "metadata": {},
   "outputs": [
    {
     "data": {
      "text/plain": [
       "BaggingClassifier(base_estimator=DecisionTreeClassifier(class_weight=None, criterion='gini', max_depth=6,\n",
       "            max_features=None, max_leaf_nodes=None,\n",
       "            min_impurity_decrease=0.0, min_impurity_split=None,\n",
       "            min_samples_leaf=800, min_samples_split=2,\n",
       "            min_weight_fraction_leaf=0.0, presort=False, random_state=None,\n",
       "            splitter='best'),\n",
       "         bootstrap=True, bootstrap_features=False, max_features=1.0,\n",
       "         max_samples=1.0, n_estimators=30, n_jobs=1, oob_score=True,\n",
       "         random_state=123, verbose=0, warm_start=False)"
      ]
     },
     "execution_count": 406,
     "metadata": {},
     "output_type": "execute_result"
    }
   ],
   "source": [
    "bg_clf.fit(train,y_1)"
   ]
  },
  {
   "cell_type": "code",
   "execution_count": 407,
   "id": "surgical-kenya",
   "metadata": {
    "ExecuteTime": {
     "end_time": "2020-01-27T20:45:50.051286Z",
     "start_time": "2020-01-27T20:45:44.475785Z"
    }
   },
   "outputs": [
    {
     "data": {
      "text/plain": [
       "0.4129142277734249"
      ]
     },
     "execution_count": 407,
     "metadata": {},
     "output_type": "execute_result"
    }
   ],
   "source": [
    "bg_clf.score(train,y_1)"
   ]
  },
  {
   "cell_type": "code",
   "execution_count": 408,
   "id": "later-radio",
   "metadata": {
    "ExecuteTime": {
     "end_time": "2020-01-27T20:45:50.737425Z",
     "start_time": "2020-01-27T20:45:50.054287Z"
    }
   },
   "outputs": [
    {
     "data": {
      "text/plain": [
       "0.3771746694502436"
      ]
     },
     "execution_count": 408,
     "metadata": {},
     "output_type": "execute_result"
    }
   ],
   "source": [
    "bg_clf.score(test,y_test)"
   ]
  },
  {
   "cell_type": "code",
   "execution_count": 409,
   "id": "judicial-clear",
   "metadata": {
    "ExecuteTime": {
     "end_time": "2020-01-27T20:45:58.284294Z",
     "start_time": "2020-01-27T20:45:57.714295Z"
    }
   },
   "outputs": [],
   "source": [
    "pred_valid = bg_clf.predict(test)"
   ]
  },
  {
   "cell_type": "code",
   "execution_count": 410,
   "id": "responsible-jamaica",
   "metadata": {
    "ExecuteTime": {
     "end_time": "2020-01-27T20:45:59.358307Z",
     "start_time": "2020-01-27T20:45:59.352309Z"
    }
   },
   "outputs": [
    {
     "data": {
      "text/plain": [
       "Counter({2: 1411, -2: 26})"
      ]
     },
     "execution_count": 410,
     "metadata": {},
     "output_type": "execute_result"
    }
   ],
   "source": [
    "Counter(pred_valid)"
   ]
  },
  {
   "cell_type": "code",
   "execution_count": 411,
   "id": "western-contents",
   "metadata": {
    "ExecuteTime": {
     "end_time": "2020-01-27T20:46:01.132418Z",
     "start_time": "2020-01-27T20:46:01.125420Z"
    }
   },
   "outputs": [
    {
     "data": {
      "text/plain": [
       "Counter({-1: 205, 2: 545, 1: 203, -2: 368, 0: 116})"
      ]
     },
     "execution_count": 411,
     "metadata": {},
     "output_type": "execute_result"
    }
   ],
   "source": [
    "Counter(y_test)"
   ]
  },
  {
   "cell_type": "code",
   "execution_count": 412,
   "id": "sound-clearance",
   "metadata": {
    "ExecuteTime": {
     "end_time": "2020-01-28T02:06:43.608082Z",
     "start_time": "2020-01-28T02:06:43.602137Z"
    }
   },
   "outputs": [
    {
     "data": {
      "text/plain": [
       "0.4087200995529336"
      ]
     },
     "execution_count": 412,
     "metadata": {},
     "output_type": "execute_result"
    }
   ],
   "source": [
    "bg_clf.oob_score_"
   ]
  },
  {
   "cell_type": "code",
   "execution_count": 413,
   "id": "suffering-density",
   "metadata": {
    "ExecuteTime": {
     "end_time": "2020-01-27T20:46:05.714986Z",
     "start_time": "2020-01-27T20:46:05.705987Z"
    }
   },
   "outputs": [
    {
     "data": {
      "text/plain": [
       "array([[  7,   0,   0,   0, 361],\n",
       "       [  3,   0,   0,   0, 202],\n",
       "       [  2,   0,   0,   0, 114],\n",
       "       [  4,   0,   0,   0, 199],\n",
       "       [ 10,   0,   0,   0, 535]])"
      ]
     },
     "execution_count": 413,
     "metadata": {},
     "output_type": "execute_result"
    }
   ],
   "source": [
    "confusion_matrix(y_test,pred_valid)"
   ]
  },
  {
   "cell_type": "markdown",
   "id": "photographic-crest",
   "metadata": {},
   "source": [
    "### Feature importance"
   ]
  },
  {
   "cell_type": "code",
   "execution_count": 414,
   "id": "thirty-scale",
   "metadata": {},
   "outputs": [
    {
     "data": {
      "text/html": [
       "<div>\n",
       "<style scoped>\n",
       "    .dataframe tbody tr th:only-of-type {\n",
       "        vertical-align: middle;\n",
       "    }\n",
       "\n",
       "    .dataframe tbody tr th {\n",
       "        vertical-align: top;\n",
       "    }\n",
       "\n",
       "    .dataframe thead th {\n",
       "        text-align: right;\n",
       "    }\n",
       "</style>\n",
       "<table border=\"1\" class=\"dataframe\">\n",
       "  <thead>\n",
       "    <tr style=\"text-align: right;\">\n",
       "      <th></th>\n",
       "      <th>cols</th>\n",
       "      <th>feat_imp</th>\n",
       "    </tr>\n",
       "  </thead>\n",
       "  <tbody>\n",
       "    <tr>\n",
       "      <th>55</th>\n",
       "      <td>teqq</td>\n",
       "      <td>0.147312</td>\n",
       "    </tr>\n",
       "    <tr>\n",
       "      <th>105</th>\n",
       "      <td>cf_yield</td>\n",
       "      <td>0.111766</td>\n",
       "    </tr>\n",
       "    <tr>\n",
       "      <th>152</th>\n",
       "      <td>ocf_lctq</td>\n",
       "      <td>0.069311</td>\n",
       "    </tr>\n",
       "    <tr>\n",
       "      <th>86</th>\n",
       "      <td>dvpspq</td>\n",
       "      <td>0.056390</td>\n",
       "    </tr>\n",
       "    <tr>\n",
       "      <th>156</th>\n",
       "      <td>fcf_yield</td>\n",
       "      <td>0.047852</td>\n",
       "    </tr>\n",
       "    <tr>\n",
       "      <th>180</th>\n",
       "      <td>fqtr_2</td>\n",
       "      <td>0.046306</td>\n",
       "    </tr>\n",
       "    <tr>\n",
       "      <th>108</th>\n",
       "      <td>dprq</td>\n",
       "      <td>0.041425</td>\n",
       "    </tr>\n",
       "    <tr>\n",
       "      <th>87</th>\n",
       "      <td>prccq</td>\n",
       "      <td>0.039566</td>\n",
       "    </tr>\n",
       "    <tr>\n",
       "      <th>95</th>\n",
       "      <td>evmq</td>\n",
       "      <td>0.030234</td>\n",
       "    </tr>\n",
       "    <tr>\n",
       "      <th>76</th>\n",
       "      <td>oancfy</td>\n",
       "      <td>0.022753</td>\n",
       "    </tr>\n",
       "    <tr>\n",
       "      <th>71</th>\n",
       "      <td>dpcy</td>\n",
       "      <td>0.021528</td>\n",
       "    </tr>\n",
       "    <tr>\n",
       "      <th>92</th>\n",
       "      <td>market_cap</td>\n",
       "      <td>0.018800</td>\n",
       "    </tr>\n",
       "    <tr>\n",
       "      <th>147</th>\n",
       "      <td>debt_ebitdaq</td>\n",
       "      <td>0.016449</td>\n",
       "    </tr>\n",
       "    <tr>\n",
       "      <th>145</th>\n",
       "      <td>rect_actq</td>\n",
       "      <td>0.014176</td>\n",
       "    </tr>\n",
       "    <tr>\n",
       "      <th>77</th>\n",
       "      <td>oepsxy</td>\n",
       "      <td>0.012955</td>\n",
       "    </tr>\n",
       "    <tr>\n",
       "      <th>135</th>\n",
       "      <td>pretret_earnatq</td>\n",
       "      <td>0.011860</td>\n",
       "    </tr>\n",
       "    <tr>\n",
       "      <th>142</th>\n",
       "      <td>int_totdebtq</td>\n",
       "      <td>0.011439</td>\n",
       "    </tr>\n",
       "  </tbody>\n",
       "</table>\n",
       "</div>"
      ],
      "text/plain": [
       "                cols  feat_imp\n",
       "55              teqq  0.147312\n",
       "105         cf_yield  0.111766\n",
       "152         ocf_lctq  0.069311\n",
       "86            dvpspq  0.056390\n",
       "156        fcf_yield  0.047852\n",
       "180           fqtr_2  0.046306\n",
       "108             dprq  0.041425\n",
       "87             prccq  0.039566\n",
       "95              evmq  0.030234\n",
       "76            oancfy  0.022753\n",
       "71              dpcy  0.021528\n",
       "92        market_cap  0.018800\n",
       "147     debt_ebitdaq  0.016449\n",
       "145        rect_actq  0.014176\n",
       "77            oepsxy  0.012955\n",
       "135  pretret_earnatq  0.011860\n",
       "142     int_totdebtq  0.011439"
      ]
     },
     "execution_count": 414,
     "metadata": {},
     "output_type": "execute_result"
    }
   ],
   "source": [
    "fi = baggingtree_feat_importance(bg_clf,train)\n",
    "features = fi[(fi['feat_imp'] > 0.01)]\n",
    "features"
   ]
  },
  {
   "cell_type": "code",
   "execution_count": 415,
   "id": "answering-coach",
   "metadata": {},
   "outputs": [
    {
     "data": {
      "image/png": "[encoded data removed]",
      "text/plain": [
       "<Figure size 864x504 with 1 Axes>"
      ]
     },
     "metadata": {
      "needs_background": "light"
     },
     "output_type": "display_data"
    }
   ],
   "source": [
    "plot_fi(features);"
   ]
  },
  {
   "cell_type": "code",
   "execution_count": 416,
   "id": "variable-bradley",
   "metadata": {},
   "outputs": [],
   "source": [
    "train = train[features['cols'].values]\n",
    "test = test[features['cols'].values]"
   ]
  },
  {
   "cell_type": "code",
   "execution_count": 417,
   "id": "aquatic-ensemble",
   "metadata": {},
   "outputs": [
    {
     "data": {
      "text/plain": [
       "0.4130985850578421"
      ]
     },
     "execution_count": 417,
     "metadata": {},
     "output_type": "execute_result"
    }
   ],
   "source": [
    "bg_clf.fit(train,y_1)\n",
    "bg_clf.score(train,y_1)"
   ]
  },
  {
   "cell_type": "code",
   "execution_count": 418,
   "id": "posted-rental",
   "metadata": {
    "ExecuteTime": {
     "end_time": "2020-01-27T20:45:50.737425Z",
     "start_time": "2020-01-27T20:45:50.054287Z"
    }
   },
   "outputs": [
    {
     "data": {
      "text/plain": [
       "0.3757828810020877"
      ]
     },
     "execution_count": 418,
     "metadata": {},
     "output_type": "execute_result"
    }
   ],
   "source": [
    "bg_clf.score(test,y_test)"
   ]
  },
  {
   "cell_type": "code",
   "execution_count": 419,
   "id": "essential-philadelphia",
   "metadata": {
    "ExecuteTime": {
     "end_time": "2020-01-27T20:45:58.284294Z",
     "start_time": "2020-01-27T20:45:57.714295Z"
    }
   },
   "outputs": [],
   "source": [
    "pred_valid = bg_clf.predict(test)"
   ]
  },
  {
   "cell_type": "code",
   "execution_count": 420,
   "id": "breeding-sensitivity",
   "metadata": {
    "ExecuteTime": {
     "end_time": "2020-01-28T02:06:43.608082Z",
     "start_time": "2020-01-28T02:06:43.602137Z"
    }
   },
   "outputs": [
    {
     "data": {
      "text/plain": [
       "0.4074756878831175"
      ]
     },
     "execution_count": 420,
     "metadata": {},
     "output_type": "execute_result"
    }
   ],
   "source": [
    "bg_clf.oob_score_"
   ]
  },
  {
   "cell_type": "markdown",
   "id": "sensitive-handling",
   "metadata": {},
   "source": [
    "### Profit importance"
   ]
  },
  {
   "cell_type": "code",
   "execution_count": 421,
   "id": "female-connectivity",
   "metadata": {},
   "outputs": [
    {
     "name": "stdout",
     "output_type": "stream",
     "text": [
      "CPU times: user 7 µs, sys: 1 µs, total: 8 µs\n",
      "Wall time: 15.3 µs\n"
     ]
    },
    {
     "data": {
      "text/html": [
       "<div>\n",
       "<style scoped>\n",
       "    .dataframe tbody tr th:only-of-type {\n",
       "        vertical-align: middle;\n",
       "    }\n",
       "\n",
       "    .dataframe tbody tr th {\n",
       "        vertical-align: top;\n",
       "    }\n",
       "\n",
       "    .dataframe thead th {\n",
       "        text-align: right;\n",
       "    }\n",
       "</style>\n",
       "<table border=\"1\" class=\"dataframe\">\n",
       "  <thead>\n",
       "    <tr style=\"text-align: right;\">\n",
       "      <th></th>\n",
       "      <th>cols</th>\n",
       "      <th>pi_imp</th>\n",
       "    </tr>\n",
       "  </thead>\n",
       "  <tbody>\n",
       "    <tr>\n",
       "      <th>8</th>\n",
       "      <td>evmq</td>\n",
       "      <td>212.903864</td>\n",
       "    </tr>\n",
       "    <tr>\n",
       "      <th>7</th>\n",
       "      <td>prccq</td>\n",
       "      <td>213.040224</td>\n",
       "    </tr>\n",
       "    <tr>\n",
       "      <th>11</th>\n",
       "      <td>market_cap</td>\n",
       "      <td>213.179102</td>\n",
       "    </tr>\n",
       "    <tr>\n",
       "      <th>6</th>\n",
       "      <td>dprq</td>\n",
       "      <td>213.621893</td>\n",
       "    </tr>\n",
       "    <tr>\n",
       "      <th>12</th>\n",
       "      <td>debt_ebitdaq</td>\n",
       "      <td>213.929739</td>\n",
       "    </tr>\n",
       "    <tr>\n",
       "      <th>16</th>\n",
       "      <td>int_totdebtq</td>\n",
       "      <td>214.693636</td>\n",
       "    </tr>\n",
       "    <tr>\n",
       "      <th>14</th>\n",
       "      <td>oepsxy</td>\n",
       "      <td>214.763216</td>\n",
       "    </tr>\n",
       "    <tr>\n",
       "      <th>15</th>\n",
       "      <td>pretret_earnatq</td>\n",
       "      <td>215.010088</td>\n",
       "    </tr>\n",
       "    <tr>\n",
       "      <th>3</th>\n",
       "      <td>dvpspq</td>\n",
       "      <td>215.260718</td>\n",
       "    </tr>\n",
       "    <tr>\n",
       "      <th>0</th>\n",
       "      <td>teqq</td>\n",
       "      <td>215.698934</td>\n",
       "    </tr>\n",
       "    <tr>\n",
       "      <th>10</th>\n",
       "      <td>dpcy</td>\n",
       "      <td>215.794504</td>\n",
       "    </tr>\n",
       "    <tr>\n",
       "      <th>1</th>\n",
       "      <td>cf_yield</td>\n",
       "      <td>215.829352</td>\n",
       "    </tr>\n",
       "    <tr>\n",
       "      <th>5</th>\n",
       "      <td>fqtr_2</td>\n",
       "      <td>216.444225</td>\n",
       "    </tr>\n",
       "    <tr>\n",
       "      <th>13</th>\n",
       "      <td>rect_actq</td>\n",
       "      <td>216.749822</td>\n",
       "    </tr>\n",
       "    <tr>\n",
       "      <th>4</th>\n",
       "      <td>fcf_yield</td>\n",
       "      <td>216.830944</td>\n",
       "    </tr>\n",
       "    <tr>\n",
       "      <th>2</th>\n",
       "      <td>ocf_lctq</td>\n",
       "      <td>216.873337</td>\n",
       "    </tr>\n",
       "    <tr>\n",
       "      <th>9</th>\n",
       "      <td>oancfy</td>\n",
       "      <td>217.244314</td>\n",
       "    </tr>\n",
       "  </tbody>\n",
       "</table>\n",
       "</div>"
      ],
      "text/plain": [
       "               cols      pi_imp\n",
       "8              evmq  212.903864\n",
       "7             prccq  213.040224\n",
       "11       market_cap  213.179102\n",
       "6              dprq  213.621893\n",
       "12     debt_ebitdaq  213.929739\n",
       "16     int_totdebtq  214.693636\n",
       "14           oepsxy  214.763216\n",
       "15  pretret_earnatq  215.010088\n",
       "3            dvpspq  215.260718\n",
       "0              teqq  215.698934\n",
       "10             dpcy  215.794504\n",
       "1          cf_yield  215.829352\n",
       "5            fqtr_2  216.444225\n",
       "13        rect_actq  216.749822\n",
       "4         fcf_yield  216.830944\n",
       "2          ocf_lctq  216.873337\n",
       "9            oancfy  217.244314"
      ]
     },
     "execution_count": 421,
     "metadata": {},
     "output_type": "execute_result"
    }
   ],
   "source": [
    "%time \n",
    "pi = baggingtree_profit_importance(bg_clf,test,df_2['next_period_return'])\n",
    "pi"
   ]
  },
  {
   "cell_type": "code",
   "execution_count": 422,
   "id": "amended-opinion",
   "metadata": {},
   "outputs": [
    {
     "name": "stdout",
     "output_type": "stream",
     "text": [
      "189.54364199999998\n",
      "191.38295\n",
      "192.48913799999997\n",
      "191.50430599999996\n",
      "192.48913799999997\n",
      "199.17024999999998\n",
      "199.228566\n",
      "199.98049399999996\n",
      "199.89824999999996\n",
      "197.02437799999996\n",
      "190.98569399999997\n",
      "189.86573399999997\n",
      "168.88045\n",
      "168.16519800000006\n",
      "149.65778199999997\n",
      "221.35280199999994\n"
     ]
    }
   ],
   "source": [
    "profits = []\n",
    "\n",
    "feat=[]\n",
    "\n",
    "#train1 = train.copy()\n",
    "#test1 = test.copy()\n",
    "\n",
    "while len(train.columns)>1:\n",
    "    bg_clf.fit(train,y_1)\n",
    "    pi = baggingtree_profit_importance(bg_clf,test,y_test)\n",
    "\n",
    "    col_to_drop = pi[pi['pi_imp'] == pi['pi_imp'].max()]['cols'].iloc[0]\n",
    "    train.drop(col_to_drop,axis=1,inplace=True)\n",
    "    test.drop(col_to_drop,axis=1,inplace=True)\n",
    "    bg_clf.fit(train,y_1)\n",
    "    \n",
    "    fi = baggingtree_feat_importance(bg_clf,train)\n",
    "    features = fi[(fi['feat_imp'] > 0.00)]\n",
    "    train = train[features['cols'].values]\n",
    "    test = test[features['cols'].values]\n",
    "    bg_clf.fit(train,y_1)\n",
    "    \n",
    "    pred_valid = bg_clf.predict(test)\n",
    "    profits.append((pred_valid * df_2['next_period_return']).sum())\n",
    "    print((pred_valid * df_2['next_period_return']).sum())\n",
    "    feat.append(features['cols'].values) \n",
    "    \n"
   ]
  },
  {
   "cell_type": "code",
   "execution_count": 423,
   "id": "differential-billy",
   "metadata": {},
   "outputs": [
    {
     "data": {
      "image/png": "[encoded data removed]",
      "text/plain": [
       "<Figure size 432x288 with 1 Axes>"
      ]
     },
     "metadata": {
      "needs_background": "light"
     },
     "output_type": "display_data"
    }
   ],
   "source": [
    "plt.plot(profits);"
   ]
  },
  {
   "cell_type": "code",
   "execution_count": 425,
   "id": "buried-democrat",
   "metadata": {
    "ExecuteTime": {
     "end_time": "2020-01-28T02:31:40.816966Z",
     "start_time": "2020-01-28T02:31:40.813700Z"
    }
   },
   "outputs": [],
   "source": [
    "n = np.argmax(profits)\n",
    "optim_feats = feat[n]\n",
    "max_profits = profits[n]"
   ]
  },
  {
   "cell_type": "code",
   "execution_count": 426,
   "id": "sophisticated-current",
   "metadata": {
    "ExecuteTime": {
     "end_time": "2020-01-28T02:31:42.549517Z",
     "start_time": "2020-01-28T02:31:42.544493Z"
    }
   },
   "outputs": [
    {
     "name": "stdout",
     "output_type": "stream",
     "text": [
      "221.35280199999994\n",
      "['fqtr_2']\n"
     ]
    }
   ],
   "source": [
    "print(max_profits)\n",
    "print(optim_feats)"
   ]
  },
  {
   "cell_type": "code",
   "execution_count": 427,
   "id": "bottom-desert",
   "metadata": {
    "ExecuteTime": {
     "end_time": "2020-01-28T02:33:56.360618Z",
     "start_time": "2020-01-28T02:33:55.193258Z"
    }
   },
   "outputs": [
    {
     "name": "stdout",
     "output_type": "stream",
     "text": [
      "0.39724385859796285\n",
      "0.3792623521224774\n"
     ]
    },
    {
     "data": {
      "text/plain": [
       "221.35280199999994"
      ]
     },
     "execution_count": 427,
     "metadata": {},
     "output_type": "execute_result"
    }
   ],
   "source": [
    "train_optim = train[optim_feats]\n",
    "test_optim = test[optim_feats]\n",
    "\n",
    "bg_clf.fit(train_optim,y_1)\n",
    "print(bg_clf.score(train_optim,y_1))\n",
    "pred_valid_tree = bg_clf.predict(test_optim)\n",
    "print(bg_clf.score(test_optim,y_test))\n",
    "(pred_valid_tree * df_2['next_period_return']).sum()"
   ]
  },
  {
   "cell_type": "markdown",
   "id": "approved-sociology",
   "metadata": {},
   "source": [
    "### Backtest\n",
    "- Backtest the performance of the model with the optimal features over the period 2010 – 2018.\n",
    "---------------------------------"
   ]
  },
  {
   "cell_type": "code",
   "execution_count": 428,
   "id": "german-miami",
   "metadata": {},
   "outputs": [],
   "source": [
    "opt_training_data = [t[optim_feats] for t in training_data]\n",
    "opt_test_data = [v[optim_feats] for v in test_data]"
   ]
  },
  {
   "cell_type": "code",
   "execution_count": 429,
   "id": "aggressive-venice",
   "metadata": {},
   "outputs": [],
   "source": [
    "P_L = []\n",
    "x = [1]\n",
    "ret = []\n",
    "\n",
    "for i in range(len(training_labels)):\n",
    "        #print(i)\n",
    "        bg_clf.fit(opt_training_data[i],training_labels[i])\n",
    "        pred_i = bg_clf.predict(opt_test_data[i])\n",
    "        profit_i = (pred_i * test_frames[i]['next_period_return']).sum()\n",
    "        P_L.append(profit_i)\n",
    "        num_positions = len(pred_i)\n",
    "        ret.append((1.0/num_positions) * profit_i)\n",
    "        x.append(x[i] + (x[i]/num_positions) * profit_i)"
   ]
  },
  {
   "cell_type": "code",
   "execution_count": 430,
   "id": "remarkable-freeze",
   "metadata": {},
   "outputs": [
    {
     "data": {
      "image/png": "[encoded data removed]",
      "text/plain": [
       "<Figure size 432x288 with 1 Axes>"
      ]
     },
     "metadata": {
      "needs_background": "light"
     },
     "output_type": "display_data"
    }
   ],
   "source": [
    "plt.plot(x);"
   ]
  },
  {
   "cell_type": "code",
   "execution_count": 431,
   "id": "removed-identity",
   "metadata": {},
   "outputs": [],
   "source": [
    "SPY = CRSP[['spy_cum_ret']]\n",
    "SPY = SPY[~SPY.index.duplicated(keep='first')]\n",
    "SPY = SPY.loc['2010-01-01':]"
   ]
  },
  {
   "cell_type": "code",
   "execution_count": 432,
   "id": "forty-surname",
   "metadata": {},
   "outputs": [],
   "source": [
    "SPY = SPY.resample('Q').ffill()\n",
    "SPY['spy_cum_ret'] = (SPY['spy_cum_ret'] - SPY['spy_cum_ret'][0] + 1)"
   ]
  },
  {
   "cell_type": "code",
   "execution_count": 433,
   "id": "falling-minimum",
   "metadata": {},
   "outputs": [
    {
     "data": {
      "image/png": "[encoded data removed]",
      "text/plain": [
       "<Figure size 432x288 with 1 Axes>"
      ]
     },
     "metadata": {
      "needs_background": "light"
     },
     "output_type": "display_data"
    }
   ],
   "source": [
    "SPY['strategy'] = x\n",
    "SPY.plot();"
   ]
  },
  {
   "cell_type": "code",
   "execution_count": 434,
   "id": "timely-drilling",
   "metadata": {},
   "outputs": [
    {
     "data": {
      "text/plain": [
       "<matplotlib.axes._subplots.AxesSubplot at 0x111e67470>"
      ]
     },
     "execution_count": 434,
     "metadata": {},
     "output_type": "execute_result"
    },
    {
     "data": {
      "image/png": "[encoded data removed]",
      "text/plain": [
       "<Figure size 432x288 with 1 Axes>"
      ]
     },
     "metadata": {
      "needs_background": "light"
     },
     "output_type": "display_data"
    }
   ],
   "source": [
    "SPY.resample('Y').ffill().plot()"
   ]
  },
  {
   "cell_type": "markdown",
   "id": "homeless-navigator",
   "metadata": {},
   "source": [
    "- Compute Sharpe Ratio, Information Ratio and alpha for the strategy and for the buy-and-hold strategy for SPY"
   ]
  },
  {
   "cell_type": "code",
   "execution_count": 435,
   "id": "friendly-integration",
   "metadata": {
    "ExecuteTime": {
     "end_time": "2020-01-28T02:40:02.929451Z",
     "start_time": "2020-01-28T02:40:02.923453Z"
    }
   },
   "outputs": [
    {
     "name": "stdout",
     "output_type": "stream",
     "text": [
      "Strategy Sharpe Ratio:  0.3348103336984732\n"
     ]
    }
   ],
   "source": [
    "strategy_mean_ret = (SPY['strategy'] - 1).diff().mean()\n",
    "strategy_std = (SPY['strategy'] - 1).diff().std()\n",
    "strategy_sr = strategy_mean_ret/strategy_std\n",
    "print('Strategy Sharpe Ratio: ',strategy_sr)"
   ]
  },
  {
   "cell_type": "code",
   "execution_count": 436,
   "id": "through-pacific",
   "metadata": {
    "ExecuteTime": {
     "end_time": "2020-01-27T20:54:30.525391Z",
     "start_time": "2020-01-27T20:54:30.514395Z"
    }
   },
   "outputs": [
    {
     "name": "stdout",
     "output_type": "stream",
     "text": [
      "SP Sharpe Ratio:  0.46133385900210633\n"
     ]
    }
   ],
   "source": [
    "(SPY['spy_cum_ret'] - 1).diff().mean()\n",
    "(SPY['spy_cum_ret'] - 1).diff().std()\n",
    "print('SP Sharpe Ratio: ',(SPY['spy_cum_ret'] - 1).diff().mean()/(SPY['spy_cum_ret'] - 1).diff().std())"
   ]
  },
  {
   "cell_type": "code",
   "execution_count": 437,
   "id": "electronic-hundred",
   "metadata": {
    "ExecuteTime": {
     "end_time": "2020-01-28T02:40:23.591764Z",
     "start_time": "2020-01-28T02:40:23.584764Z"
    }
   },
   "outputs": [
    {
     "data": {
      "text/plain": [
       "5.452361751730794"
      ]
     },
     "execution_count": 437,
     "metadata": {},
     "output_type": "execute_result"
    }
   ],
   "source": [
    "x[-1]"
   ]
  },
  {
   "cell_type": "code",
   "execution_count": 438,
   "id": "future-modem",
   "metadata": {
    "ExecuteTime": {
     "end_time": "2020-01-27T20:54:39.139484Z",
     "start_time": "2020-01-27T20:54:39.134486Z"
    }
   },
   "outputs": [
    {
     "data": {
      "text/plain": [
       "2.034179999999999"
      ]
     },
     "execution_count": 438,
     "metadata": {},
     "output_type": "execute_result"
    }
   ],
   "source": [
    "SPY['spy_cum_ret'][-1]"
   ]
  },
  {
   "cell_type": "code",
   "execution_count": 439,
   "id": "genuine-lightning",
   "metadata": {
    "ExecuteTime": {
     "end_time": "2020-01-28T02:41:14.814865Z",
     "start_time": "2020-01-28T02:41:14.804751Z"
    }
   },
   "outputs": [
    {
     "data": {
      "text/plain": [
       "0.6983907683732514"
      ]
     },
     "execution_count": 439,
     "metadata": {},
     "output_type": "execute_result"
    }
   ],
   "source": [
    "strategy_ret = (SPY['strategy'] - 1).diff().values[1:]\n",
    "spy_ret = (SPY['spy_cum_ret'] - 1).diff().values[1:]\n",
    "\n",
    "beta = (np.cov(spy_ret,strategy_ret)/np.var(spy_ret))[1,0]\n",
    "beta"
   ]
  },
  {
   "cell_type": "code",
   "execution_count": 440,
   "id": "architectural-paste",
   "metadata": {
    "ExecuteTime": {
     "end_time": "2020-01-28T02:41:33.922710Z",
     "start_time": "2020-01-28T02:41:33.916710Z"
    }
   },
   "outputs": [
    {
     "data": {
      "text/plain": [
       "0.2864705044761436"
      ]
     },
     "execution_count": 440,
     "metadata": {},
     "output_type": "execute_result"
    }
   ],
   "source": [
    "residual_ret = strategy_ret - beta * spy_ret\n",
    "IR = np.mean(residual_ret)/np.std(residual_ret)\n",
    "IR"
   ]
  },
  {
   "cell_type": "code",
   "execution_count": 441,
   "id": "banned-career",
   "metadata": {
    "ExecuteTime": {
     "end_time": "2020-01-28T02:42:04.932079Z",
     "start_time": "2020-01-28T02:42:04.927080Z"
    }
   },
   "outputs": [
    {
     "data": {
      "text/plain": [
       "0.10657428533984414"
      ]
     },
     "execution_count": 441,
     "metadata": {},
     "output_type": "execute_result"
    }
   ],
   "source": [
    "alpha = np.mean(residual_ret)\n",
    "alpha"
   ]
  },
  {
   "cell_type": "code",
   "execution_count": null,
   "id": "bacterial-triangle",
   "metadata": {},
   "outputs": [],
   "source": []
  },
  {
   "cell_type": "code",
   "execution_count": null,
   "id": "owned-train",
   "metadata": {},
   "outputs": [],
   "source": []
  },
  {
   "cell_type": "code",
   "execution_count": null,
   "id": "neither-staff",
   "metadata": {},
   "outputs": [],
   "source": []
  }
 ],
 "metadata": {
  "kernelspec": {
   "display_name": "Python 3",
   "language": "python",
   "name": "python3"
  },
  "language_info": {
   "codemirror_mode": {
    "name": "ipython",
    "version": 3
   },
   "file_extension": ".py",
   "mimetype": "text/x-python",
   "name": "python",
   "nbconvert_exporter": "python",
   "pygments_lexer": "ipython3",
   "version": "3.7.1"
  }
 },
 "nbformat": 4,
 "nbformat_minor": 5
}
